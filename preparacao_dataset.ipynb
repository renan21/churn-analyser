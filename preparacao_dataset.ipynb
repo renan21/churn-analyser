{
 "cells": [
  {
   "cell_type": "code",
   "execution_count": 46,
   "id": "5d2badf4-aefe-4056-b323-187b6ed638d0",
   "metadata": {},
   "outputs": [],
   "source": [
    "#pip install ace_tools"
   ]
  },
  {
   "cell_type": "code",
   "execution_count": 47,
   "id": "9cba0d86-23b6-4926-9441-17cd94c09936",
   "metadata": {},
   "outputs": [],
   "source": [
    "import pandas as pd\n",
    "import os\n",
    "import matplotlib.pyplot as plt\n",
    "import seaborn as sns"
   ]
  },
  {
   "cell_type": "markdown",
   "id": "8a97de82-e972-47b9-a5e3-ac881b80423c",
   "metadata": {},
   "source": [
    "# Importar dados"
   ]
  },
  {
   "cell_type": "code",
   "execution_count": 48,
   "id": "97c45ab0-1584-4997-ae52-81b00ddab948",
   "metadata": {},
   "outputs": [],
   "source": [
    "# === 1. Carregar os dados CSV ===\n",
    "df_port = pd.read_csv(\"D:/Renan/Documents/Mestrado/Inteligencia artificial/Artigo/churn_analyser/data/CSV_PORTABILIDADE.csv\", sep=';', encoding='utf-8', low_memory=False)\n",
    "df_sat = pd.read_csv(\"D:/Renan/Documents/Mestrado/Inteligencia artificial/Artigo/churn_analyser/data/pesquisa_dados_brutos.csv\", sep=';', encoding='utf-8', low_memory=False)"
   ]
  },
  {
   "cell_type": "markdown",
   "id": "cd4b9db9-ab1d-4ba3-8ca6-c3de1b6640f1",
   "metadata": {},
   "source": [
    "# Pré processamento"
   ]
  },
  {
   "cell_type": "markdown",
   "id": "7e81e75a-c635-43d0-a812-fa52bfff3864",
   "metadata": {},
   "source": [
    "Tamanho base portabilidade (df_port)"
   ]
  },
  {
   "cell_type": "code",
   "execution_count": 49,
   "id": "bead6450-ab8d-4616-9e86-77189efc27cc",
   "metadata": {},
   "outputs": [
    {
     "data": {
      "text/plain": [
       "593247"
      ]
     },
     "execution_count": 49,
     "metadata": {},
     "output_type": "execute_result"
    }
   ],
   "source": [
    "df_port.shape[0]"
   ]
  },
  {
   "cell_type": "markdown",
   "id": "6ab8073c-afa3-4ab1-a610-a89ed32c2f04",
   "metadata": {},
   "source": [
    "1. Filtrar Portabilidade: SMP (Serviço Móvel Pessoal)"
   ]
  },
  {
   "cell_type": "code",
   "execution_count": 50,
   "id": "6472cc58-8352-4738-a831-15adb48cc4c0",
   "metadata": {},
   "outputs": [],
   "source": [
    "df_port = df_port[df_port['SG_SERVICO'] == 'SMP']"
   ]
  },
  {
   "cell_type": "markdown",
   "id": "b1f351de-e5c0-443b-8233-9025ef8c4817",
   "metadata": {},
   "source": [
    "Tamanho base portabilidade pós filtro de serviço (df_port)"
   ]
  },
  {
   "cell_type": "code",
   "execution_count": 51,
   "id": "46d0f0e6-e1e7-4c21-8b82-a9d7898b4e7c",
   "metadata": {},
   "outputs": [
    {
     "data": {
      "text/plain": [
       "266668"
      ]
     },
     "execution_count": 51,
     "metadata": {},
     "output_type": "execute_result"
    }
   ],
   "source": [
    "df_port.shape[0]"
   ]
  },
  {
   "cell_type": "markdown",
   "id": "f4becf49-4105-4477-9506-778ddd5ad752",
   "metadata": {},
   "source": [
    "2. Padronização sigla estados"
   ]
  },
  {
   "cell_type": "code",
   "execution_count": 52,
   "id": "29e61cd1-f2ee-4243-afa2-c88945b9c043",
   "metadata": {},
   "outputs": [],
   "source": [
    "df_port['SG_UF'] = df_port['SG_UF'].str.strip().str.upper()"
   ]
  },
  {
   "cell_type": "markdown",
   "id": "4853f12d-5a9c-4d33-a4c2-8c4c50ffba89",
   "metadata": {},
   "source": [
    "3. Separar apenas colunas que serão utilizadas\n",
    "\n",
    "\n",
    "AM_EFETIVACAO - Ano/Mês de efetivação das portabilidades;\n",
    "\n",
    "SG_UF - Sigla do estado;\n",
    "\n",
    "NO_PRESTADORA_DOADORA - Nome da prestadora que 'perdeu' clientes;\n",
    "\n",
    "QT_PORTABILIDADE_EFETIVADA - Quantidade de clientes 'perdidos' no mês"
   ]
  },
  {
   "cell_type": "code",
   "execution_count": 53,
   "id": "3278cbe4-0065-44bc-831a-4b55e2d99b7f",
   "metadata": {},
   "outputs": [],
   "source": [
    "df_port = df_port[['AM_EFETIVACAO', 'SG_UF', 'NO_PRESTADORA_DOADORA', 'QT_PORTABILIDADE_EFETIVADA']].copy()"
   ]
  },
  {
   "cell_type": "markdown",
   "id": "65a084f8-0983-4e37-af13-1145afde38de",
   "metadata": {},
   "source": [
    "5 primeiras linhas base Portabilidade (df_port)"
   ]
  },
  {
   "cell_type": "code",
   "execution_count": 54,
   "id": "73e109f2-b987-4a01-8afe-dcf91efdbfdc",
   "metadata": {},
   "outputs": [
    {
     "data": {
      "text/html": [
       "<div>\n",
       "<style scoped>\n",
       "    .dataframe tbody tr th:only-of-type {\n",
       "        vertical-align: middle;\n",
       "    }\n",
       "\n",
       "    .dataframe tbody tr th {\n",
       "        vertical-align: top;\n",
       "    }\n",
       "\n",
       "    .dataframe thead th {\n",
       "        text-align: right;\n",
       "    }\n",
       "</style>\n",
       "<table border=\"1\" class=\"dataframe\">\n",
       "  <thead>\n",
       "    <tr style=\"text-align: right;\">\n",
       "      <th></th>\n",
       "      <th>AM_EFETIVACAO</th>\n",
       "      <th>SG_UF</th>\n",
       "      <th>NO_PRESTADORA_DOADORA</th>\n",
       "      <th>QT_PORTABILIDADE_EFETIVADA</th>\n",
       "    </tr>\n",
       "  </thead>\n",
       "  <tbody>\n",
       "    <tr>\n",
       "      <th>91</th>\n",
       "      <td>2008-09</td>\n",
       "      <td>SP</td>\n",
       "      <td>TELEFONICA BRASIL</td>\n",
       "      <td>111</td>\n",
       "    </tr>\n",
       "    <tr>\n",
       "      <th>92</th>\n",
       "      <td>2008-09</td>\n",
       "      <td>SP</td>\n",
       "      <td>TELEFONICA BRASIL</td>\n",
       "      <td>123</td>\n",
       "    </tr>\n",
       "    <tr>\n",
       "      <th>93</th>\n",
       "      <td>2008-09</td>\n",
       "      <td>ES</td>\n",
       "      <td>TELEFONICA BRASIL</td>\n",
       "      <td>142</td>\n",
       "    </tr>\n",
       "    <tr>\n",
       "      <th>94</th>\n",
       "      <td>2008-09</td>\n",
       "      <td>MG</td>\n",
       "      <td>TELEFONICA BRASIL</td>\n",
       "      <td>24</td>\n",
       "    </tr>\n",
       "    <tr>\n",
       "      <th>95</th>\n",
       "      <td>2008-09</td>\n",
       "      <td>PR</td>\n",
       "      <td>TELEFONICA BRASIL</td>\n",
       "      <td>81</td>\n",
       "    </tr>\n",
       "  </tbody>\n",
       "</table>\n",
       "</div>"
      ],
      "text/plain": [
       "   AM_EFETIVACAO SG_UF NO_PRESTADORA_DOADORA  QT_PORTABILIDADE_EFETIVADA\n",
       "91       2008-09    SP     TELEFONICA BRASIL                         111\n",
       "92       2008-09    SP     TELEFONICA BRASIL                         123\n",
       "93       2008-09    ES     TELEFONICA BRASIL                         142\n",
       "94       2008-09    MG     TELEFONICA BRASIL                          24\n",
       "95       2008-09    PR     TELEFONICA BRASIL                          81"
      ]
     },
     "execution_count": 54,
     "metadata": {},
     "output_type": "execute_result"
    }
   ],
   "source": [
    "df_port.head()"
   ]
  },
  {
   "cell_type": "markdown",
   "id": "5772cafc-b92f-4b25-aa05-209ba7ec3fce",
   "metadata": {},
   "source": [
    "=== Tamanho base satisfação (df_sat) ==="
   ]
  },
  {
   "cell_type": "code",
   "execution_count": 55,
   "id": "7139f56f-5748-4575-9775-4e53fe44e9df",
   "metadata": {},
   "outputs": [
    {
     "data": {
      "text/plain": [
       "306404"
      ]
     },
     "execution_count": 55,
     "metadata": {},
     "output_type": "execute_result"
    }
   ],
   "source": [
    "df_sat.shape[0]"
   ]
  },
  {
   "cell_type": "markdown",
   "id": "317f05bb-d41e-4608-8c1c-efc68cd072ce",
   "metadata": {},
   "source": [
    "4. Filtrar Satisfação: Telefonia Móvel (Celular) – Serviço Móvel Pessoal (SMP) dividido em Pós-paga (POS) e Pré-paga (PRE) "
   ]
  },
  {
   "cell_type": "code",
   "execution_count": 56,
   "id": "f4607d47-6a65-451e-8841-59c00d6aea62",
   "metadata": {},
   "outputs": [],
   "source": [
    "df_sat = df_sat[df_sat['SERVICO'].isin(['PRE', 'POS'])]"
   ]
  },
  {
   "cell_type": "markdown",
   "id": "e661bdd0-35e5-4484-9bcf-98776d195124",
   "metadata": {},
   "source": [
    "5. Corrigir formatação da DATA e gerar coluna AM_EFETIVACAO"
   ]
  },
  {
   "cell_type": "markdown",
   "id": "04266c0a-94d5-430c-a879-c043ce5c87d4",
   "metadata": {},
   "source": [
    "remove espaços em branco"
   ]
  },
  {
   "cell_type": "code",
   "execution_count": 57,
   "id": "6a1410b6-2091-45e8-88d3-4e568be8d8e0",
   "metadata": {},
   "outputs": [],
   "source": [
    "df_sat['DATA'] = df_sat['DATA'].astype(str).str.strip()"
   ]
  },
  {
   "cell_type": "markdown",
   "id": "ce04c22f-8901-44b4-80d5-87ec953b87bf",
   "metadata": {},
   "source": [
    "remove espaços finos (NBSP)"
   ]
  },
  {
   "cell_type": "code",
   "execution_count": 58,
   "id": "bd1473ea-8fd6-4c6a-8c16-d8e840f64e62",
   "metadata": {},
   "outputs": [],
   "source": [
    "df_sat['DATA'] = df_sat['DATA'].str.replace('\\u202f', '', regex=True) "
   ]
  },
  {
   "cell_type": "markdown",
   "id": "675894da-463a-4bb8-95a7-d19cf5e27ba0",
   "metadata": {},
   "source": [
    "Coverte campo data para datetime"
   ]
  },
  {
   "cell_type": "code",
   "execution_count": 59,
   "id": "a7e08b61-be72-4cbb-94db-08ba9438bfd2",
   "metadata": {},
   "outputs": [],
   "source": [
    "df_sat['DATA'] = pd.to_datetime(df_sat['DATA'], errors='coerce')"
   ]
  },
  {
   "cell_type": "markdown",
   "id": "47b6f8e6-b153-41c7-a7c1-b455771b648a",
   "metadata": {},
   "source": [
    "Cria coluna AM_EFETIVACAO na base de satisfação"
   ]
  },
  {
   "cell_type": "code",
   "execution_count": 60,
   "id": "8ad39e9c-ae58-46f0-ae3c-6c9b332c9bfd",
   "metadata": {},
   "outputs": [],
   "source": [
    "df_sat['AM_EFETIVACAO'] = df_sat['DATA'].dt.to_period('M').astype(str)"
   ]
  },
  {
   "cell_type": "markdown",
   "id": "a4701229-7ceb-4beb-8b96-9059d66f4467",
   "metadata": {},
   "source": [
    "6. Separar apenas colunas que serão utilizadas "
   ]
  },
  {
   "cell_type": "code",
   "execution_count": 61,
   "id": "d9ee7bfe-34b4-4bed-9572-34995d52a220",
   "metadata": {},
   "outputs": [],
   "source": [
    "df_sat = df_sat[[\n",
    "    'AM_EFETIVACAO', 'ESTADO', 'PRESTADORA',\n",
    "    'ISG', 'QIC', 'QF', 'QCR', 'QAT', 'QAD', 'QAP'\n",
    "]].copy()\n",
    "\n"
   ]
  },
  {
   "cell_type": "markdown",
   "id": "80d4e052-3a59-455d-9117-8b5c02ac72fc",
   "metadata": {},
   "source": [
    "7. Renomear para alinhar com portabilidade"
   ]
  },
  {
   "cell_type": "code",
   "execution_count": 62,
   "id": "7cc3f6b1-b60a-458d-b4d7-d798ebb9f0ea",
   "metadata": {},
   "outputs": [],
   "source": [
    "df_sat.rename(columns={\n",
    "    'ESTADO': 'SG_UF',\n",
    "    'PRESTADORA': 'NO_PRESTADORA_DOADORA'\n",
    "}, inplace=True)"
   ]
  },
  {
   "cell_type": "markdown",
   "id": "a2cf101e-6a70-469a-ada6-5e0e94ae9c36",
   "metadata": {},
   "source": [
    "8. Garantir tipos consistentes"
   ]
  },
  {
   "cell_type": "code",
   "execution_count": 63,
   "id": "cfc85c2a-1f70-4eba-bf01-7d9e397ffc5e",
   "metadata": {},
   "outputs": [],
   "source": [
    "df_sat['AM_EFETIVACAO'] = df_sat['AM_EFETIVACAO'].astype(str)\n",
    "df_sat['SG_UF'] = df_sat['SG_UF'].str.strip().str.upper()\n",
    "df_sat['NO_PRESTADORA_DOADORA'] = df_sat['NO_PRESTADORA_DOADORA'].astype(str)"
   ]
  },
  {
   "cell_type": "markdown",
   "id": "94058b85-98c6-4384-90e9-bf4cf643047b",
   "metadata": {},
   "source": [
    "9. Converter valores para float"
   ]
  },
  {
   "cell_type": "code",
   "execution_count": 64,
   "id": "602160b6-76fc-47a8-84fd-375583545cb4",
   "metadata": {},
   "outputs": [],
   "source": [
    "cols_to_convert = ['ISG', 'QIC', 'QF', 'QCR', 'QAT', 'QAD', 'QAP']\n",
    "for col in cols_to_convert:\n",
    "    df_sat[col] = df_sat[col].str.replace(',', '.', regex=False).astype(float)"
   ]
  },
  {
   "cell_type": "markdown",
   "id": "88622ec8-9965-4962-ba38-be29d702d287",
   "metadata": {},
   "source": [
    "10. Agregar Satisfação por mês, estado e prestadora"
   ]
  },
  {
   "cell_type": "code",
   "execution_count": 65,
   "id": "e4099842-ed6b-4657-bf86-6e2d820ad5c1",
   "metadata": {},
   "outputs": [],
   "source": [
    "df_sat  = df_sat.groupby(\n",
    "    ['AM_EFETIVACAO', 'SG_UF', 'NO_PRESTADORA_DOADORA'],\n",
    "    as_index=False\n",
    ").agg({\n",
    "    'ISG': 'mean',\n",
    "    'QIC': 'mean',\n",
    "    'QF': 'mean',\n",
    "    'QCR': 'mean',\n",
    "    'QAT': 'mean',\n",
    "    'QAD': 'mean',\n",
    "    'QAP': 'mean'\n",
    "})"
   ]
  },
  {
   "cell_type": "markdown",
   "id": "cc4cd071-c1a2-461b-8b07-d84e9a16671b",
   "metadata": {},
   "source": [
    "Tamanho base Satisfação pós filtros (df_sat)"
   ]
  },
  {
   "cell_type": "code",
   "execution_count": 66,
   "id": "3d1db3ea-2b59-484b-a060-b07412b38646",
   "metadata": {},
   "outputs": [
    {
     "data": {
      "text/plain": [
       "2253"
      ]
     },
     "execution_count": 66,
     "metadata": {},
     "output_type": "execute_result"
    }
   ],
   "source": [
    "df_sat.shape[0]"
   ]
  },
  {
   "cell_type": "markdown",
   "id": "7a64f89a-42b5-4f9e-9ad4-40aa6bcc80ce",
   "metadata": {},
   "source": [
    "5 primeiras linhas base Satisfação (df_sat)"
   ]
  },
  {
   "cell_type": "code",
   "execution_count": 67,
   "id": "a554e70d-55eb-4fcc-8b8f-114992d0be7e",
   "metadata": {},
   "outputs": [
    {
     "data": {
      "text/html": [
       "<div>\n",
       "<style scoped>\n",
       "    .dataframe tbody tr th:only-of-type {\n",
       "        vertical-align: middle;\n",
       "    }\n",
       "\n",
       "    .dataframe tbody tr th {\n",
       "        vertical-align: top;\n",
       "    }\n",
       "\n",
       "    .dataframe thead th {\n",
       "        text-align: right;\n",
       "    }\n",
       "</style>\n",
       "<table border=\"1\" class=\"dataframe\">\n",
       "  <thead>\n",
       "    <tr style=\"text-align: right;\">\n",
       "      <th></th>\n",
       "      <th>AM_EFETIVACAO</th>\n",
       "      <th>SG_UF</th>\n",
       "      <th>NO_PRESTADORA_DOADORA</th>\n",
       "      <th>ISG</th>\n",
       "      <th>QIC</th>\n",
       "      <th>QF</th>\n",
       "      <th>QCR</th>\n",
       "      <th>QAT</th>\n",
       "      <th>QAD</th>\n",
       "      <th>QAP</th>\n",
       "    </tr>\n",
       "  </thead>\n",
       "  <tbody>\n",
       "    <tr>\n",
       "      <th>0</th>\n",
       "      <td>2021-07</td>\n",
       "      <td>AC</td>\n",
       "      <td>CLARO</td>\n",
       "      <td>9.000000</td>\n",
       "      <td>9.000000</td>\n",
       "      <td>8.784601</td>\n",
       "      <td>8.000000</td>\n",
       "      <td>NaN</td>\n",
       "      <td>NaN</td>\n",
       "      <td>NaN</td>\n",
       "    </tr>\n",
       "    <tr>\n",
       "      <th>1</th>\n",
       "      <td>2021-07</td>\n",
       "      <td>AC</td>\n",
       "      <td>OI</td>\n",
       "      <td>8.219325</td>\n",
       "      <td>8.496708</td>\n",
       "      <td>8.145469</td>\n",
       "      <td>8.848861</td>\n",
       "      <td>10.000000</td>\n",
       "      <td>8.826716</td>\n",
       "      <td>NaN</td>\n",
       "    </tr>\n",
       "    <tr>\n",
       "      <th>2</th>\n",
       "      <td>2021-07</td>\n",
       "      <td>AC</td>\n",
       "      <td>TIM</td>\n",
       "      <td>5.330838</td>\n",
       "      <td>6.491499</td>\n",
       "      <td>5.917411</td>\n",
       "      <td>7.705414</td>\n",
       "      <td>NaN</td>\n",
       "      <td>3.290165</td>\n",
       "      <td>NaN</td>\n",
       "    </tr>\n",
       "    <tr>\n",
       "      <th>3</th>\n",
       "      <td>2021-07</td>\n",
       "      <td>AC</td>\n",
       "      <td>VIVO</td>\n",
       "      <td>6.159721</td>\n",
       "      <td>6.382407</td>\n",
       "      <td>5.931146</td>\n",
       "      <td>8.730834</td>\n",
       "      <td>6.256219</td>\n",
       "      <td>5.672015</td>\n",
       "      <td>NaN</td>\n",
       "    </tr>\n",
       "    <tr>\n",
       "      <th>4</th>\n",
       "      <td>2021-07</td>\n",
       "      <td>AL</td>\n",
       "      <td>CLARO</td>\n",
       "      <td>8.618749</td>\n",
       "      <td>7.140035</td>\n",
       "      <td>8.499143</td>\n",
       "      <td>7.574773</td>\n",
       "      <td>8.017928</td>\n",
       "      <td>6.847629</td>\n",
       "      <td>NaN</td>\n",
       "    </tr>\n",
       "  </tbody>\n",
       "</table>\n",
       "</div>"
      ],
      "text/plain": [
       "  AM_EFETIVACAO SG_UF NO_PRESTADORA_DOADORA       ISG       QIC        QF  \\\n",
       "0       2021-07    AC                 CLARO  9.000000  9.000000  8.784601   \n",
       "1       2021-07    AC                    OI  8.219325  8.496708  8.145469   \n",
       "2       2021-07    AC                   TIM  5.330838  6.491499  5.917411   \n",
       "3       2021-07    AC                  VIVO  6.159721  6.382407  5.931146   \n",
       "4       2021-07    AL                 CLARO  8.618749  7.140035  8.499143   \n",
       "\n",
       "        QCR        QAT       QAD  QAP  \n",
       "0  8.000000        NaN       NaN  NaN  \n",
       "1  8.848861  10.000000  8.826716  NaN  \n",
       "2  7.705414        NaN  3.290165  NaN  \n",
       "3  8.730834   6.256219  5.672015  NaN  \n",
       "4  7.574773   8.017928  6.847629  NaN  "
      ]
     },
     "execution_count": 67,
     "metadata": {},
     "output_type": "execute_result"
    }
   ],
   "source": [
    "df_sat.head(5)"
   ]
  },
  {
   "cell_type": "markdown",
   "id": "1d5862bf-86e6-46b6-b59b-2d04a14fe9ca",
   "metadata": {},
   "source": [
    "Normaliza nomes de operadoras para facilitar o merge"
   ]
  },
  {
   "cell_type": "code",
   "execution_count": 68,
   "id": "3d76b49e-272c-42cc-9cd8-12be610044c7",
   "metadata": {},
   "outputs": [],
   "source": [
    "def normaliza_nome(prestadora):\n",
    "    prestadora = prestadora.upper()\n",
    "    if 'ALGAR' in prestadora:\n",
    "        return 'ALGAR'\n",
    "    elif 'OI S.A.' in prestadora:\n",
    "        return 'OI'\n",
    "    elif 'TIM S.A.' in prestadora:\n",
    "        return 'TIM'\n",
    "    elif 'VIVO' in prestadora or 'TELEFONICA' in prestadora:\n",
    "        return 'VIVO'\n",
    "    else:\n",
    "        return prestadora.strip()\n",
    "\n",
    "df_port['NO_PRESTADORA_DOADORA'] = df_port['NO_PRESTADORA_DOADORA'].apply(normaliza_nome)\n"
   ]
  },
  {
   "cell_type": "markdown",
   "id": "1b841daa-d51f-4b2f-b999-a73adc7434c1",
   "metadata": {},
   "source": [
    "11. Join com Portabilidade"
   ]
  },
  {
   "cell_type": "code",
   "execution_count": 69,
   "id": "e9ad7010-7c16-4358-98bd-14f62410b11d",
   "metadata": {},
   "outputs": [],
   "source": [
    "df_merged = pd.merge(\n",
    "    df_port,\n",
    "    df_sat,\n",
    "    how='inner',  # apenas onde há dados em ambas as bases\n",
    "    on=['AM_EFETIVACAO', 'SG_UF', 'NO_PRESTADORA_DOADORA']\n",
    ")"
   ]
  },
  {
   "cell_type": "code",
   "execution_count": null,
   "id": "dc94faab-5d67-4ef3-ba23-56c69eac85fe",
   "metadata": {},
   "outputs": [],
   "source": []
  },
  {
   "cell_type": "code",
   "execution_count": 70,
   "id": "dec529da-14e8-4de5-aa71-e786e59fa58d",
   "metadata": {},
   "outputs": [],
   "source": [
    "#Removendo nulos\n",
    "for col in ['ISG', 'QIC', 'QF', 'QCR', 'QAT', 'QAD', 'QAP']:\n",
    "    df_merged[col] = df_merged[col].fillna(df_merged[col].mean())"
   ]
  },
  {
   "cell_type": "code",
   "execution_count": 71,
   "id": "3403250f-0b84-4262-a69e-0a3cbf99686f",
   "metadata": {},
   "outputs": [],
   "source": [
    "# Normalização\n",
    "\n",
    "from sklearn.preprocessing import StandardScaler\n",
    "\n",
    "cols_to_scale = ['ISG', 'QIC', 'QF', 'QCR', 'QAT', 'QAD', 'QAP']\n",
    "scaler = StandardScaler()\n",
    "df_merged[cols_to_scale] = scaler.fit_transform(df_merged[cols_to_scale])"
   ]
  },
  {
   "cell_type": "markdown",
   "id": "c4235015-fd79-4716-9bbb-3a232b6318ad",
   "metadata": {},
   "source": [
    "12. Agregação final para modelo"
   ]
  },
  {
   "cell_type": "code",
   "execution_count": 72,
   "id": "1f6fd3f1-ce47-4ca6-8751-58ea5beda567",
   "metadata": {},
   "outputs": [],
   "source": [
    "df_final = df_merged.groupby(\n",
    "    ['AM_EFETIVACAO', 'SG_UF', 'NO_PRESTADORA_DOADORA'],\n",
    "    as_index=False\n",
    ").agg({\n",
    "    'QT_PORTABILIDADE_EFETIVADA': 'sum',\n",
    "    'ISG': 'mean',\n",
    "    'QIC': 'mean',\n",
    "    'QF': 'mean',\n",
    "    'QCR': 'mean',\n",
    "    'QAT': 'mean',\n",
    "    'QAD': 'mean',\n",
    "    'QAP': 'mean'\n",
    "})"
   ]
  },
  {
   "cell_type": "markdown",
   "id": "839a4ac0-ce98-4a3a-b681-898dc513a5be",
   "metadata": {},
   "source": [
    "Base final"
   ]
  },
  {
   "cell_type": "code",
   "execution_count": 73,
   "id": "b77c35e7-f009-4ece-973a-9ec1aee1dd5c",
   "metadata": {},
   "outputs": [
    {
     "data": {
      "text/plain": [
       "1994"
      ]
     },
     "execution_count": 73,
     "metadata": {},
     "output_type": "execute_result"
    }
   ],
   "source": [
    "df_final.shape[0]"
   ]
  },
  {
   "cell_type": "markdown",
   "id": "ead2d1ff-0a52-40c5-95ed-316d002c33fd",
   "metadata": {},
   "source": [
    "5 primeiras linhas base Final (df_final)"
   ]
  },
  {
   "cell_type": "code",
   "execution_count": 74,
   "id": "9a306bee-68ea-4830-9c9b-12a076962dbe",
   "metadata": {},
   "outputs": [
    {
     "data": {
      "text/html": [
       "<div>\n",
       "<style scoped>\n",
       "    .dataframe tbody tr th:only-of-type {\n",
       "        vertical-align: middle;\n",
       "    }\n",
       "\n",
       "    .dataframe tbody tr th {\n",
       "        vertical-align: top;\n",
       "    }\n",
       "\n",
       "    .dataframe thead th {\n",
       "        text-align: right;\n",
       "    }\n",
       "</style>\n",
       "<table border=\"1\" class=\"dataframe\">\n",
       "  <thead>\n",
       "    <tr style=\"text-align: right;\">\n",
       "      <th></th>\n",
       "      <th>AM_EFETIVACAO</th>\n",
       "      <th>SG_UF</th>\n",
       "      <th>NO_PRESTADORA_DOADORA</th>\n",
       "      <th>QT_PORTABILIDADE_EFETIVADA</th>\n",
       "      <th>ISG</th>\n",
       "      <th>QIC</th>\n",
       "      <th>QF</th>\n",
       "      <th>QCR</th>\n",
       "      <th>QAT</th>\n",
       "      <th>QAD</th>\n",
       "      <th>QAP</th>\n",
       "    </tr>\n",
       "  </thead>\n",
       "  <tbody>\n",
       "    <tr>\n",
       "      <th>0</th>\n",
       "      <td>2021-07</td>\n",
       "      <td>AC</td>\n",
       "      <td>CLARO</td>\n",
       "      <td>226</td>\n",
       "      <td>2.331007</td>\n",
       "      <td>2.884685</td>\n",
       "      <td>2.241706</td>\n",
       "      <td>0.271966</td>\n",
       "      <td>-1.681688e-15</td>\n",
       "      <td>1.083477e-15</td>\n",
       "      <td>0.0</td>\n",
       "    </tr>\n",
       "    <tr>\n",
       "      <th>1</th>\n",
       "      <td>2021-07</td>\n",
       "      <td>AC</td>\n",
       "      <td>OI</td>\n",
       "      <td>231</td>\n",
       "      <td>1.000327</td>\n",
       "      <td>2.050745</td>\n",
       "      <td>1.142414</td>\n",
       "      <td>1.570233</td>\n",
       "      <td>3.191618e+00</td>\n",
       "      <td>1.944551e+00</td>\n",
       "      <td>0.0</td>\n",
       "    </tr>\n",
       "    <tr>\n",
       "      <th>2</th>\n",
       "      <td>2021-07</td>\n",
       "      <td>AC</td>\n",
       "      <td>TIM</td>\n",
       "      <td>109</td>\n",
       "      <td>-3.923171</td>\n",
       "      <td>-1.271825</td>\n",
       "      <td>-2.689790</td>\n",
       "      <td>-0.178580</td>\n",
       "      <td>-1.681688e-15</td>\n",
       "      <td>-4.809412e+00</td>\n",
       "      <td>0.0</td>\n",
       "    </tr>\n",
       "    <tr>\n",
       "      <th>3</th>\n",
       "      <td>2021-07</td>\n",
       "      <td>AC</td>\n",
       "      <td>VIVO</td>\n",
       "      <td>816</td>\n",
       "      <td>-2.510319</td>\n",
       "      <td>-1.452588</td>\n",
       "      <td>-2.666165</td>\n",
       "      <td>1.389720</td>\n",
       "      <td>-3.526434e-01</td>\n",
       "      <td>-1.903826e+00</td>\n",
       "      <td>0.0</td>\n",
       "    </tr>\n",
       "    <tr>\n",
       "      <th>4</th>\n",
       "      <td>2021-07</td>\n",
       "      <td>AL</td>\n",
       "      <td>CLARO</td>\n",
       "      <td>609</td>\n",
       "      <td>1.681155</td>\n",
       "      <td>-0.197221</td>\n",
       "      <td>1.750726</td>\n",
       "      <td>-0.378386</td>\n",
       "      <td>1.315177e+00</td>\n",
       "      <td>-4.697104e-01</td>\n",
       "      <td>0.0</td>\n",
       "    </tr>\n",
       "  </tbody>\n",
       "</table>\n",
       "</div>"
      ],
      "text/plain": [
       "  AM_EFETIVACAO SG_UF NO_PRESTADORA_DOADORA  QT_PORTABILIDADE_EFETIVADA  \\\n",
       "0       2021-07    AC                 CLARO                         226   \n",
       "1       2021-07    AC                    OI                         231   \n",
       "2       2021-07    AC                   TIM                         109   \n",
       "3       2021-07    AC                  VIVO                         816   \n",
       "4       2021-07    AL                 CLARO                         609   \n",
       "\n",
       "        ISG       QIC        QF       QCR           QAT           QAD  QAP  \n",
       "0  2.331007  2.884685  2.241706  0.271966 -1.681688e-15  1.083477e-15  0.0  \n",
       "1  1.000327  2.050745  1.142414  1.570233  3.191618e+00  1.944551e+00  0.0  \n",
       "2 -3.923171 -1.271825 -2.689790 -0.178580 -1.681688e-15 -4.809412e+00  0.0  \n",
       "3 -2.510319 -1.452588 -2.666165  1.389720 -3.526434e-01 -1.903826e+00  0.0  \n",
       "4  1.681155 -0.197221  1.750726 -0.378386  1.315177e+00 -4.697104e-01  0.0  "
      ]
     },
     "execution_count": 74,
     "metadata": {},
     "output_type": "execute_result"
    }
   ],
   "source": [
    "df_final.head()"
   ]
  },
  {
   "cell_type": "markdown",
   "id": "166aa788-50c3-4cc8-ad32-0c81c1af4e0e",
   "metadata": {},
   "source": [
    "Meses na base de portabilidade"
   ]
  },
  {
   "cell_type": "code",
   "execution_count": 75,
   "id": "e2d977a4-6cfd-4634-844d-18167cc20bd5",
   "metadata": {},
   "outputs": [],
   "source": [
    "# df_port['AM_EFETIVACAO'].sort_values().unique()"
   ]
  },
  {
   "cell_type": "markdown",
   "id": "fc2b594e-57a9-48e9-9b33-22ca4950f497",
   "metadata": {},
   "source": [
    "Meses na base de satisfação"
   ]
  },
  {
   "cell_type": "code",
   "execution_count": 76,
   "id": "f2f35b04-872e-4d63-9bff-4968f324a4b6",
   "metadata": {},
   "outputs": [],
   "source": [
    "#df_sat['AM_EFETIVACAO'].sort_values().unique()"
   ]
  },
  {
   "cell_type": "markdown",
   "id": "10a9e3a2-2dac-410d-980f-ac9dac699ee6",
   "metadata": {},
   "source": [
    "Meses na base de satisfação (agregada)"
   ]
  },
  {
   "cell_type": "code",
   "execution_count": 77,
   "id": "9f3ffcef-c61b-451c-94fc-265faddc7849",
   "metadata": {},
   "outputs": [],
   "source": [
    "#df_sat['AM_EFETIVACAO'].sort_values().unique()"
   ]
  },
  {
   "cell_type": "code",
   "execution_count": 78,
   "id": "e1a76b77-95b3-4369-b9de-9cb8010ac478",
   "metadata": {},
   "outputs": [],
   "source": [
    "#meses_port = set(df_port['AM_EFETIVACAO'].unique())\n",
    "#meses_sat = set(df_sat['AM_EFETIVACAO'].unique())\n",
    "#meses_em_comum = meses_port.intersection(meses_sat)\n",
    "\n",
    "#print(f\"\\nMeses em comum: {sorted(meses_em_comum)}\")\n",
    "#print(f\"Total meses portabilidade: {len(meses_port)}\")\n",
    "#print(f\"Total meses satisfação: {len(meses_sat)}\")\n",
    "#print(f\"Meses em comum: {len(meses_em_comum)}\")\n"
   ]
  },
  {
   "cell_type": "code",
   "execution_count": 79,
   "id": "f37344a6-2d27-43f6-aa73-64502ddcf9a7",
   "metadata": {},
   "outputs": [],
   "source": [
    "#print(\"Meses na portabilidade que NÃO estão na satisfação:\")\n",
    "#print(sorted(meses_port - meses_sat))\n",
    "\n",
    "#print(\"\\nMeses na satisfação que NÃO estão na portabilidade:\")\n",
    "#print(sorted(meses_sat - meses_port))\n"
   ]
  },
  {
   "cell_type": "code",
   "execution_count": 80,
   "id": "74f7939a-6798-4899-a810-66ea0c83684f",
   "metadata": {},
   "outputs": [
    {
     "ename": "PermissionError",
     "evalue": "[Errno 13] Permission denied: 'D:/Renan/Documents/Mestrado/Inteligencia artificial/Artigo/churn_analyser/data/base_churn_correta.csv'",
     "output_type": "error",
     "traceback": [
      "\u001b[1;31m---------------------------------------------------------------------------\u001b[0m",
      "\u001b[1;31mPermissionError\u001b[0m                           Traceback (most recent call last)",
      "Cell \u001b[1;32mIn[80], line 2\u001b[0m\n\u001b[0;32m      1\u001b[0m os\u001b[38;5;241m.\u001b[39mmakedirs(\u001b[38;5;124m\"\u001b[39m\u001b[38;5;124mdata\u001b[39m\u001b[38;5;124m\"\u001b[39m, exist_ok\u001b[38;5;241m=\u001b[39m\u001b[38;5;28;01mTrue\u001b[39;00m)\n\u001b[1;32m----> 2\u001b[0m \u001b[43mdf_final\u001b[49m\u001b[38;5;241;43m.\u001b[39;49m\u001b[43mto_csv\u001b[49m\u001b[43m(\u001b[49m\u001b[38;5;124;43m\"\u001b[39;49m\u001b[38;5;124;43mD:/Renan/Documents/Mestrado/Inteligencia artificial/Artigo/churn_analyser/data/base_churn_correta.csv\u001b[39;49m\u001b[38;5;124;43m\"\u001b[39;49m\u001b[43m,\u001b[49m\u001b[43m \u001b[49m\u001b[43mindex\u001b[49m\u001b[38;5;241;43m=\u001b[39;49m\u001b[38;5;28;43;01mFalse\u001b[39;49;00m\u001b[43m,\u001b[49m\u001b[43m \u001b[49m\u001b[43mencoding\u001b[49m\u001b[38;5;241;43m=\u001b[39;49m\u001b[38;5;124;43m'\u001b[39;49m\u001b[38;5;124;43mutf-8\u001b[39;49m\u001b[38;5;124;43m'\u001b[39;49m\u001b[43m)\u001b[49m\n",
      "File \u001b[1;32m~\\AppData\\Local\\Programs\\Python\\Python310\\lib\\site-packages\\pandas\\util\\_decorators.py:333\u001b[0m, in \u001b[0;36mdeprecate_nonkeyword_arguments.<locals>.decorate.<locals>.wrapper\u001b[1;34m(*args, **kwargs)\u001b[0m\n\u001b[0;32m    327\u001b[0m \u001b[38;5;28;01mif\u001b[39;00m \u001b[38;5;28mlen\u001b[39m(args) \u001b[38;5;241m>\u001b[39m num_allow_args:\n\u001b[0;32m    328\u001b[0m     warnings\u001b[38;5;241m.\u001b[39mwarn(\n\u001b[0;32m    329\u001b[0m         msg\u001b[38;5;241m.\u001b[39mformat(arguments\u001b[38;5;241m=\u001b[39m_format_argument_list(allow_args)),\n\u001b[0;32m    330\u001b[0m         \u001b[38;5;167;01mFutureWarning\u001b[39;00m,\n\u001b[0;32m    331\u001b[0m         stacklevel\u001b[38;5;241m=\u001b[39mfind_stack_level(),\n\u001b[0;32m    332\u001b[0m     )\n\u001b[1;32m--> 333\u001b[0m \u001b[38;5;28;01mreturn\u001b[39;00m func(\u001b[38;5;241m*\u001b[39margs, \u001b[38;5;241m*\u001b[39m\u001b[38;5;241m*\u001b[39mkwargs)\n",
      "File \u001b[1;32m~\\AppData\\Local\\Programs\\Python\\Python310\\lib\\site-packages\\pandas\\core\\generic.py:3986\u001b[0m, in \u001b[0;36mNDFrame.to_csv\u001b[1;34m(self, path_or_buf, sep, na_rep, float_format, columns, header, index, index_label, mode, encoding, compression, quoting, quotechar, lineterminator, chunksize, date_format, doublequote, escapechar, decimal, errors, storage_options)\u001b[0m\n\u001b[0;32m   3975\u001b[0m df \u001b[38;5;241m=\u001b[39m \u001b[38;5;28mself\u001b[39m \u001b[38;5;28;01mif\u001b[39;00m \u001b[38;5;28misinstance\u001b[39m(\u001b[38;5;28mself\u001b[39m, ABCDataFrame) \u001b[38;5;28;01melse\u001b[39;00m \u001b[38;5;28mself\u001b[39m\u001b[38;5;241m.\u001b[39mto_frame()\n\u001b[0;32m   3977\u001b[0m formatter \u001b[38;5;241m=\u001b[39m DataFrameFormatter(\n\u001b[0;32m   3978\u001b[0m     frame\u001b[38;5;241m=\u001b[39mdf,\n\u001b[0;32m   3979\u001b[0m     header\u001b[38;5;241m=\u001b[39mheader,\n\u001b[1;32m   (...)\u001b[0m\n\u001b[0;32m   3983\u001b[0m     decimal\u001b[38;5;241m=\u001b[39mdecimal,\n\u001b[0;32m   3984\u001b[0m )\n\u001b[1;32m-> 3986\u001b[0m \u001b[38;5;28;01mreturn\u001b[39;00m \u001b[43mDataFrameRenderer\u001b[49m\u001b[43m(\u001b[49m\u001b[43mformatter\u001b[49m\u001b[43m)\u001b[49m\u001b[38;5;241;43m.\u001b[39;49m\u001b[43mto_csv\u001b[49m\u001b[43m(\u001b[49m\n\u001b[0;32m   3987\u001b[0m \u001b[43m    \u001b[49m\u001b[43mpath_or_buf\u001b[49m\u001b[43m,\u001b[49m\n\u001b[0;32m   3988\u001b[0m \u001b[43m    \u001b[49m\u001b[43mlineterminator\u001b[49m\u001b[38;5;241;43m=\u001b[39;49m\u001b[43mlineterminator\u001b[49m\u001b[43m,\u001b[49m\n\u001b[0;32m   3989\u001b[0m \u001b[43m    \u001b[49m\u001b[43msep\u001b[49m\u001b[38;5;241;43m=\u001b[39;49m\u001b[43msep\u001b[49m\u001b[43m,\u001b[49m\n\u001b[0;32m   3990\u001b[0m \u001b[43m    \u001b[49m\u001b[43mencoding\u001b[49m\u001b[38;5;241;43m=\u001b[39;49m\u001b[43mencoding\u001b[49m\u001b[43m,\u001b[49m\n\u001b[0;32m   3991\u001b[0m \u001b[43m    \u001b[49m\u001b[43merrors\u001b[49m\u001b[38;5;241;43m=\u001b[39;49m\u001b[43merrors\u001b[49m\u001b[43m,\u001b[49m\n\u001b[0;32m   3992\u001b[0m \u001b[43m    \u001b[49m\u001b[43mcompression\u001b[49m\u001b[38;5;241;43m=\u001b[39;49m\u001b[43mcompression\u001b[49m\u001b[43m,\u001b[49m\n\u001b[0;32m   3993\u001b[0m \u001b[43m    \u001b[49m\u001b[43mquoting\u001b[49m\u001b[38;5;241;43m=\u001b[39;49m\u001b[43mquoting\u001b[49m\u001b[43m,\u001b[49m\n\u001b[0;32m   3994\u001b[0m \u001b[43m    \u001b[49m\u001b[43mcolumns\u001b[49m\u001b[38;5;241;43m=\u001b[39;49m\u001b[43mcolumns\u001b[49m\u001b[43m,\u001b[49m\n\u001b[0;32m   3995\u001b[0m \u001b[43m    \u001b[49m\u001b[43mindex_label\u001b[49m\u001b[38;5;241;43m=\u001b[39;49m\u001b[43mindex_label\u001b[49m\u001b[43m,\u001b[49m\n\u001b[0;32m   3996\u001b[0m \u001b[43m    \u001b[49m\u001b[43mmode\u001b[49m\u001b[38;5;241;43m=\u001b[39;49m\u001b[43mmode\u001b[49m\u001b[43m,\u001b[49m\n\u001b[0;32m   3997\u001b[0m \u001b[43m    \u001b[49m\u001b[43mchunksize\u001b[49m\u001b[38;5;241;43m=\u001b[39;49m\u001b[43mchunksize\u001b[49m\u001b[43m,\u001b[49m\n\u001b[0;32m   3998\u001b[0m \u001b[43m    \u001b[49m\u001b[43mquotechar\u001b[49m\u001b[38;5;241;43m=\u001b[39;49m\u001b[43mquotechar\u001b[49m\u001b[43m,\u001b[49m\n\u001b[0;32m   3999\u001b[0m \u001b[43m    \u001b[49m\u001b[43mdate_format\u001b[49m\u001b[38;5;241;43m=\u001b[39;49m\u001b[43mdate_format\u001b[49m\u001b[43m,\u001b[49m\n\u001b[0;32m   4000\u001b[0m \u001b[43m    \u001b[49m\u001b[43mdoublequote\u001b[49m\u001b[38;5;241;43m=\u001b[39;49m\u001b[43mdoublequote\u001b[49m\u001b[43m,\u001b[49m\n\u001b[0;32m   4001\u001b[0m \u001b[43m    \u001b[49m\u001b[43mescapechar\u001b[49m\u001b[38;5;241;43m=\u001b[39;49m\u001b[43mescapechar\u001b[49m\u001b[43m,\u001b[49m\n\u001b[0;32m   4002\u001b[0m \u001b[43m    \u001b[49m\u001b[43mstorage_options\u001b[49m\u001b[38;5;241;43m=\u001b[39;49m\u001b[43mstorage_options\u001b[49m\u001b[43m,\u001b[49m\n\u001b[0;32m   4003\u001b[0m \u001b[43m\u001b[49m\u001b[43m)\u001b[49m\n",
      "File \u001b[1;32m~\\AppData\\Local\\Programs\\Python\\Python310\\lib\\site-packages\\pandas\\io\\formats\\format.py:1014\u001b[0m, in \u001b[0;36mDataFrameRenderer.to_csv\u001b[1;34m(self, path_or_buf, encoding, sep, columns, index_label, mode, compression, quoting, quotechar, lineterminator, chunksize, date_format, doublequote, escapechar, errors, storage_options)\u001b[0m\n\u001b[0;32m    993\u001b[0m     created_buffer \u001b[38;5;241m=\u001b[39m \u001b[38;5;28;01mFalse\u001b[39;00m\n\u001b[0;32m    995\u001b[0m csv_formatter \u001b[38;5;241m=\u001b[39m CSVFormatter(\n\u001b[0;32m    996\u001b[0m     path_or_buf\u001b[38;5;241m=\u001b[39mpath_or_buf,\n\u001b[0;32m    997\u001b[0m     lineterminator\u001b[38;5;241m=\u001b[39mlineterminator,\n\u001b[1;32m   (...)\u001b[0m\n\u001b[0;32m   1012\u001b[0m     formatter\u001b[38;5;241m=\u001b[39m\u001b[38;5;28mself\u001b[39m\u001b[38;5;241m.\u001b[39mfmt,\n\u001b[0;32m   1013\u001b[0m )\n\u001b[1;32m-> 1014\u001b[0m \u001b[43mcsv_formatter\u001b[49m\u001b[38;5;241;43m.\u001b[39;49m\u001b[43msave\u001b[49m\u001b[43m(\u001b[49m\u001b[43m)\u001b[49m\n\u001b[0;32m   1016\u001b[0m \u001b[38;5;28;01mif\u001b[39;00m created_buffer:\n\u001b[0;32m   1017\u001b[0m     \u001b[38;5;28;01massert\u001b[39;00m \u001b[38;5;28misinstance\u001b[39m(path_or_buf, StringIO)\n",
      "File \u001b[1;32m~\\AppData\\Local\\Programs\\Python\\Python310\\lib\\site-packages\\pandas\\io\\formats\\csvs.py:251\u001b[0m, in \u001b[0;36mCSVFormatter.save\u001b[1;34m(self)\u001b[0m\n\u001b[0;32m    247\u001b[0m \u001b[38;5;250m\u001b[39m\u001b[38;5;124;03m\"\"\"\u001b[39;00m\n\u001b[0;32m    248\u001b[0m \u001b[38;5;124;03mCreate the writer & save.\u001b[39;00m\n\u001b[0;32m    249\u001b[0m \u001b[38;5;124;03m\"\"\"\u001b[39;00m\n\u001b[0;32m    250\u001b[0m \u001b[38;5;66;03m# apply compression and byte/text conversion\u001b[39;00m\n\u001b[1;32m--> 251\u001b[0m \u001b[38;5;28;01mwith\u001b[39;00m \u001b[43mget_handle\u001b[49m\u001b[43m(\u001b[49m\n\u001b[0;32m    252\u001b[0m \u001b[43m    \u001b[49m\u001b[38;5;28;43mself\u001b[39;49m\u001b[38;5;241;43m.\u001b[39;49m\u001b[43mfilepath_or_buffer\u001b[49m\u001b[43m,\u001b[49m\n\u001b[0;32m    253\u001b[0m \u001b[43m    \u001b[49m\u001b[38;5;28;43mself\u001b[39;49m\u001b[38;5;241;43m.\u001b[39;49m\u001b[43mmode\u001b[49m\u001b[43m,\u001b[49m\n\u001b[0;32m    254\u001b[0m \u001b[43m    \u001b[49m\u001b[43mencoding\u001b[49m\u001b[38;5;241;43m=\u001b[39;49m\u001b[38;5;28;43mself\u001b[39;49m\u001b[38;5;241;43m.\u001b[39;49m\u001b[43mencoding\u001b[49m\u001b[43m,\u001b[49m\n\u001b[0;32m    255\u001b[0m \u001b[43m    \u001b[49m\u001b[43merrors\u001b[49m\u001b[38;5;241;43m=\u001b[39;49m\u001b[38;5;28;43mself\u001b[39;49m\u001b[38;5;241;43m.\u001b[39;49m\u001b[43merrors\u001b[49m\u001b[43m,\u001b[49m\n\u001b[0;32m    256\u001b[0m \u001b[43m    \u001b[49m\u001b[43mcompression\u001b[49m\u001b[38;5;241;43m=\u001b[39;49m\u001b[38;5;28;43mself\u001b[39;49m\u001b[38;5;241;43m.\u001b[39;49m\u001b[43mcompression\u001b[49m\u001b[43m,\u001b[49m\n\u001b[0;32m    257\u001b[0m \u001b[43m    \u001b[49m\u001b[43mstorage_options\u001b[49m\u001b[38;5;241;43m=\u001b[39;49m\u001b[38;5;28;43mself\u001b[39;49m\u001b[38;5;241;43m.\u001b[39;49m\u001b[43mstorage_options\u001b[49m\u001b[43m,\u001b[49m\n\u001b[0;32m    258\u001b[0m \u001b[43m\u001b[49m\u001b[43m)\u001b[49m \u001b[38;5;28;01mas\u001b[39;00m handles:\n\u001b[0;32m    259\u001b[0m     \u001b[38;5;66;03m# Note: self.encoding is irrelevant here\u001b[39;00m\n\u001b[0;32m    260\u001b[0m     \u001b[38;5;28mself\u001b[39m\u001b[38;5;241m.\u001b[39mwriter \u001b[38;5;241m=\u001b[39m csvlib\u001b[38;5;241m.\u001b[39mwriter(\n\u001b[0;32m    261\u001b[0m         handles\u001b[38;5;241m.\u001b[39mhandle,\n\u001b[0;32m    262\u001b[0m         lineterminator\u001b[38;5;241m=\u001b[39m\u001b[38;5;28mself\u001b[39m\u001b[38;5;241m.\u001b[39mlineterminator,\n\u001b[1;32m   (...)\u001b[0m\n\u001b[0;32m    267\u001b[0m         quotechar\u001b[38;5;241m=\u001b[39m\u001b[38;5;28mself\u001b[39m\u001b[38;5;241m.\u001b[39mquotechar,\n\u001b[0;32m    268\u001b[0m     )\n\u001b[0;32m    270\u001b[0m     \u001b[38;5;28mself\u001b[39m\u001b[38;5;241m.\u001b[39m_save()\n",
      "File \u001b[1;32m~\\AppData\\Local\\Programs\\Python\\Python310\\lib\\site-packages\\pandas\\io\\common.py:873\u001b[0m, in \u001b[0;36mget_handle\u001b[1;34m(path_or_buf, mode, encoding, compression, memory_map, is_text, errors, storage_options)\u001b[0m\n\u001b[0;32m    868\u001b[0m \u001b[38;5;28;01melif\u001b[39;00m \u001b[38;5;28misinstance\u001b[39m(handle, \u001b[38;5;28mstr\u001b[39m):\n\u001b[0;32m    869\u001b[0m     \u001b[38;5;66;03m# Check whether the filename is to be opened in binary mode.\u001b[39;00m\n\u001b[0;32m    870\u001b[0m     \u001b[38;5;66;03m# Binary mode does not support 'encoding' and 'newline'.\u001b[39;00m\n\u001b[0;32m    871\u001b[0m     \u001b[38;5;28;01mif\u001b[39;00m ioargs\u001b[38;5;241m.\u001b[39mencoding \u001b[38;5;129;01mand\u001b[39;00m \u001b[38;5;124m\"\u001b[39m\u001b[38;5;124mb\u001b[39m\u001b[38;5;124m\"\u001b[39m \u001b[38;5;129;01mnot\u001b[39;00m \u001b[38;5;129;01min\u001b[39;00m ioargs\u001b[38;5;241m.\u001b[39mmode:\n\u001b[0;32m    872\u001b[0m         \u001b[38;5;66;03m# Encoding\u001b[39;00m\n\u001b[1;32m--> 873\u001b[0m         handle \u001b[38;5;241m=\u001b[39m \u001b[38;5;28;43mopen\u001b[39;49m\u001b[43m(\u001b[49m\n\u001b[0;32m    874\u001b[0m \u001b[43m            \u001b[49m\u001b[43mhandle\u001b[49m\u001b[43m,\u001b[49m\n\u001b[0;32m    875\u001b[0m \u001b[43m            \u001b[49m\u001b[43mioargs\u001b[49m\u001b[38;5;241;43m.\u001b[39;49m\u001b[43mmode\u001b[49m\u001b[43m,\u001b[49m\n\u001b[0;32m    876\u001b[0m \u001b[43m            \u001b[49m\u001b[43mencoding\u001b[49m\u001b[38;5;241;43m=\u001b[39;49m\u001b[43mioargs\u001b[49m\u001b[38;5;241;43m.\u001b[39;49m\u001b[43mencoding\u001b[49m\u001b[43m,\u001b[49m\n\u001b[0;32m    877\u001b[0m \u001b[43m            \u001b[49m\u001b[43merrors\u001b[49m\u001b[38;5;241;43m=\u001b[39;49m\u001b[43merrors\u001b[49m\u001b[43m,\u001b[49m\n\u001b[0;32m    878\u001b[0m \u001b[43m            \u001b[49m\u001b[43mnewline\u001b[49m\u001b[38;5;241;43m=\u001b[39;49m\u001b[38;5;124;43m\"\u001b[39;49m\u001b[38;5;124;43m\"\u001b[39;49m\u001b[43m,\u001b[49m\n\u001b[0;32m    879\u001b[0m \u001b[43m        \u001b[49m\u001b[43m)\u001b[49m\n\u001b[0;32m    880\u001b[0m     \u001b[38;5;28;01melse\u001b[39;00m:\n\u001b[0;32m    881\u001b[0m         \u001b[38;5;66;03m# Binary mode\u001b[39;00m\n\u001b[0;32m    882\u001b[0m         handle \u001b[38;5;241m=\u001b[39m \u001b[38;5;28mopen\u001b[39m(handle, ioargs\u001b[38;5;241m.\u001b[39mmode)\n",
      "\u001b[1;31mPermissionError\u001b[0m: [Errno 13] Permission denied: 'D:/Renan/Documents/Mestrado/Inteligencia artificial/Artigo/churn_analyser/data/base_churn_correta.csv'"
     ]
    }
   ],
   "source": [
    "os.makedirs(\"data\", exist_ok=True)\n",
    "df_final.to_csv(\"D:/Renan/Documents/Mestrado/Inteligencia artificial/Artigo/churn_analyser/data/base_churn_correta.csv\", index=False, encoding='utf-8')"
   ]
  },
  {
   "cell_type": "code",
   "execution_count": null,
   "id": "6ff0a469-3f3f-48b1-86d2-f7e0f6372b09",
   "metadata": {},
   "outputs": [],
   "source": [
    "\n",
    "\n",
    "# Garante que datas fiquem ordenadas\n",
    "#df_final['AM_EFETIVACAO'] = pd.to_datetime(df_final['AM_EFETIVACAO'], format='%Y-%m')\n",
    "\n",
    "# Criar pasta de saída\n",
    "#os.makedirs(\"graficos_por_estado\", exist_ok=True)\n",
    "\n",
    "# Obter estados únicos\n",
    "#estados = df_final['SG_UF'].unique()\n",
    "\n",
    "# Paleta de cores do seaborn\n",
    "#sns.set(style=\"whitegrid\", palette=\"tab10\")\n",
    "\n",
    "#for estado in estados:\n",
    "#    df_estado = df_final[df_final['SG_UF'] == estado]\n",
    "\n",
    "#    plt.figure(figsize=(12, 6))\n",
    "#    sns.lineplot(\n",
    "#        data=df_estado,\n",
    "#        x='AM_EFETIVACAO',\n",
    "#        y='TOTAL_PORTABILIDADES_PERDIDAS',\n",
    "#        hue='NO_PRESTADORA_RECEPTORA',\n",
    "#        marker='o'\n",
    "#    )\n",
    "    \n",
    "#    plt.title(f'Portabilidades Perdidas por Prestadora - {estado}')\n",
    "#    plt.xlabel('Ano/Mês')\n",
    "#    plt.ylabel('Portabilidades Perdidas')\n",
    "#    plt.xticks(rotation=45)\n",
    "#    plt.legend(title='Prestadora')\n",
    "#    plt.tight_layout()\n",
    "\n",
    "#    plt.savefig(f\"D:/Renan/Documents/Mestrado/Inteligencia artificial/Artigo/churn_analyser/data/portabilidades_{estado}.png\")\n",
    "#    plt.close()\n",
    "\n",
    "#print(\"Gráficos salvos na pasta: graficos_por_estado/\")\n"
   ]
  },
  {
   "cell_type": "markdown",
   "id": "22576f09-5a2f-4e8f-b6f1-649ceefac834",
   "metadata": {},
   "source": [
    "Pré-processamento final"
   ]
  },
  {
   "cell_type": "markdown",
   "id": "c43ef81f-1206-4141-9322-cb5a793e2706",
   "metadata": {},
   "source": [
    "Preencher valores nulos com a média das colunas numéricas"
   ]
  },
  {
   "cell_type": "code",
   "execution_count": 36,
   "id": "7d855769-20f1-47d3-96ab-c027f9789432",
   "metadata": {},
   "outputs": [],
   "source": [
    "df_final.fillna(df_final.mean(numeric_only=True), inplace=True)"
   ]
  },
  {
   "cell_type": "markdown",
   "id": "b933e02f-7e67-4c77-853d-e2fe7b1ee0ba",
   "metadata": {},
   "source": [
    "Transformar variáveis categóricas em dummies"
   ]
  },
  {
   "cell_type": "code",
   "execution_count": 37,
   "id": "1e958a1c-a818-41a0-82d3-aa42509e5d55",
   "metadata": {},
   "outputs": [],
   "source": [
    "# SG_UF\n",
    "#df_final = pd.get_dummies(df_final, columns=['SG_UF'], drop_first=True)\n",
    "\n",
    "\n",
    "# NO_PRESTADORA_DOADORA\n",
    "#df_final = pd.get_dummies(df_final, columns=['NO_PRESTADORA_DOADORA'], drop_first=True)\n",
    "\n",
    "\n"
   ]
  },
  {
   "cell_type": "markdown",
   "id": "3a7edb61-0b09-4d86-bbfc-64e01d76725c",
   "metadata": {},
   "source": [
    "# Mineração"
   ]
  },
  {
   "cell_type": "code",
   "execution_count": null,
   "id": "26487afa-6a74-4015-b634-c4b037084206",
   "metadata": {},
   "outputs": [],
   "source": []
  },
  {
   "cell_type": "code",
   "execution_count": 39,
   "id": "cebbb790-8912-4006-8eb9-3b271ee8166c",
   "metadata": {},
   "outputs": [
    {
     "ename": "KeyError",
     "evalue": "'AM_EFETIVACAO'",
     "output_type": "error",
     "traceback": [
      "\u001b[1;31m---------------------------------------------------------------------------\u001b[0m",
      "\u001b[1;31mKeyError\u001b[0m                                  Traceback (most recent call last)",
      "File \u001b[1;32m~\\AppData\\Local\\Programs\\Python\\Python310\\lib\\site-packages\\pandas\\core\\indexes\\base.py:3812\u001b[0m, in \u001b[0;36mIndex.get_loc\u001b[1;34m(self, key)\u001b[0m\n\u001b[0;32m   3811\u001b[0m \u001b[38;5;28;01mtry\u001b[39;00m:\n\u001b[1;32m-> 3812\u001b[0m     \u001b[38;5;28;01mreturn\u001b[39;00m \u001b[38;5;28;43mself\u001b[39;49m\u001b[38;5;241;43m.\u001b[39;49m\u001b[43m_engine\u001b[49m\u001b[38;5;241;43m.\u001b[39;49m\u001b[43mget_loc\u001b[49m\u001b[43m(\u001b[49m\u001b[43mcasted_key\u001b[49m\u001b[43m)\u001b[49m\n\u001b[0;32m   3813\u001b[0m \u001b[38;5;28;01mexcept\u001b[39;00m \u001b[38;5;167;01mKeyError\u001b[39;00m \u001b[38;5;28;01mas\u001b[39;00m err:\n",
      "File \u001b[1;32mpandas/_libs/index.pyx:167\u001b[0m, in \u001b[0;36mpandas._libs.index.IndexEngine.get_loc\u001b[1;34m()\u001b[0m\n",
      "File \u001b[1;32mpandas/_libs/index.pyx:196\u001b[0m, in \u001b[0;36mpandas._libs.index.IndexEngine.get_loc\u001b[1;34m()\u001b[0m\n",
      "File \u001b[1;32mpandas/_libs/hashtable_class_helper.pxi:7088\u001b[0m, in \u001b[0;36mpandas._libs.hashtable.PyObjectHashTable.get_item\u001b[1;34m()\u001b[0m\n",
      "File \u001b[1;32mpandas/_libs/hashtable_class_helper.pxi:7096\u001b[0m, in \u001b[0;36mpandas._libs.hashtable.PyObjectHashTable.get_item\u001b[1;34m()\u001b[0m\n",
      "\u001b[1;31mKeyError\u001b[0m: 'AM_EFETIVACAO'",
      "\nThe above exception was the direct cause of the following exception:\n",
      "\u001b[1;31mKeyError\u001b[0m                                  Traceback (most recent call last)",
      "Cell \u001b[1;32mIn[39], line 168\u001b[0m\n\u001b[0;32m    165\u001b[0m \u001b[38;5;28;01mif\u001b[39;00m \u001b[38;5;18m__name__\u001b[39m \u001b[38;5;241m==\u001b[39m \u001b[38;5;124m\"\u001b[39m\u001b[38;5;124m__main__\u001b[39m\u001b[38;5;124m\"\u001b[39m:\n\u001b[0;32m    166\u001b[0m     \u001b[38;5;66;03m# Replace with actual file path or load data directly\u001b[39;00m\n\u001b[0;32m    167\u001b[0m     csv_file \u001b[38;5;241m=\u001b[39m \u001b[38;5;124m\"\u001b[39m\u001b[38;5;124mD:/Renan/Documents/Mestrado/Inteligencia artificial/Artigo/churn_analyser/data/base.csv\u001b[39m\u001b[38;5;124m\"\u001b[39m\n\u001b[1;32m--> 168\u001b[0m     report \u001b[38;5;241m=\u001b[39m \u001b[43mgenerate_report\u001b[49m\u001b[43m(\u001b[49m\u001b[43mcsv_file\u001b[49m\u001b[43m)\u001b[49m\n\u001b[0;32m    169\u001b[0m     \u001b[38;5;28mprint\u001b[39m(report)\n",
      "Cell \u001b[1;32mIn[39], line 125\u001b[0m, in \u001b[0;36mgenerate_report\u001b[1;34m(csv_file)\u001b[0m\n\u001b[0;32m    123\u001b[0m \u001b[38;5;28;01mdef\u001b[39;00m\u001b[38;5;250m \u001b[39m\u001b[38;5;21mgenerate_report\u001b[39m(csv_file):\n\u001b[0;32m    124\u001b[0m     \u001b[38;5;66;03m# Load and preprocess data\u001b[39;00m\n\u001b[1;32m--> 125\u001b[0m     X, y, preprocessor \u001b[38;5;241m=\u001b[39m \u001b[43mload_and_preprocess_data\u001b[49m\u001b[43m(\u001b[49m\u001b[43mcsv_file\u001b[49m\u001b[43m)\u001b[49m\n\u001b[0;32m    127\u001b[0m     \u001b[38;5;66;03m# Evaluate models\u001b[39;00m\n\u001b[0;32m    128\u001b[0m     results_df, predictions \u001b[38;5;241m=\u001b[39m evaluate_models(X, y, preprocessor)\n",
      "Cell \u001b[1;32mIn[39], line 23\u001b[0m, in \u001b[0;36mload_and_preprocess_data\u001b[1;34m(csv_file)\u001b[0m\n\u001b[0;32m     20\u001b[0m df \u001b[38;5;241m=\u001b[39m pd\u001b[38;5;241m.\u001b[39mread_csv(csv_file, sep\u001b[38;5;241m=\u001b[39m\u001b[38;5;124m'\u001b[39m\u001b[38;5;124m;\u001b[39m\u001b[38;5;124m'\u001b[39m, encoding\u001b[38;5;241m=\u001b[39m\u001b[38;5;124m'\u001b[39m\u001b[38;5;124mutf-8\u001b[39m\u001b[38;5;124m'\u001b[39m, low_memory\u001b[38;5;241m=\u001b[39m\u001b[38;5;28;01mFalse\u001b[39;00m)\n\u001b[0;32m     22\u001b[0m \u001b[38;5;66;03m# Convert AM_EFETIVACAO to numerical format (months since start)\u001b[39;00m\n\u001b[1;32m---> 23\u001b[0m df[\u001b[38;5;124m'\u001b[39m\u001b[38;5;124mAM_EFETIVACAO\u001b[39m\u001b[38;5;124m'\u001b[39m] \u001b[38;5;241m=\u001b[39m pd\u001b[38;5;241m.\u001b[39mto_datetime(\u001b[43mdf\u001b[49m\u001b[43m[\u001b[49m\u001b[38;5;124;43m'\u001b[39;49m\u001b[38;5;124;43mAM_EFETIVACAO\u001b[39;49m\u001b[38;5;124;43m'\u001b[39;49m\u001b[43m]\u001b[49m, \u001b[38;5;28mformat\u001b[39m\u001b[38;5;241m=\u001b[39m\u001b[38;5;124m'\u001b[39m\u001b[38;5;124m%\u001b[39m\u001b[38;5;124mY-\u001b[39m\u001b[38;5;124m%\u001b[39m\u001b[38;5;124mm\u001b[39m\u001b[38;5;124m'\u001b[39m)\n\u001b[0;32m     24\u001b[0m df[\u001b[38;5;124m'\u001b[39m\u001b[38;5;124mMONTHS_SINCE_START\u001b[39m\u001b[38;5;124m'\u001b[39m] \u001b[38;5;241m=\u001b[39m (df[\u001b[38;5;124m'\u001b[39m\u001b[38;5;124mAM_EFETIVACAO\u001b[39m\u001b[38;5;124m'\u001b[39m] \u001b[38;5;241m-\u001b[39m df[\u001b[38;5;124m'\u001b[39m\u001b[38;5;124mAM_EFETIVACAO\u001b[39m\u001b[38;5;124m'\u001b[39m]\u001b[38;5;241m.\u001b[39mmin())\u001b[38;5;241m.\u001b[39mdt\u001b[38;5;241m.\u001b[39mdays \u001b[38;5;241m/\u001b[39m \u001b[38;5;241m30.0\u001b[39m\n\u001b[0;32m     26\u001b[0m \u001b[38;5;66;03m# Define features and target\u001b[39;00m\n",
      "File \u001b[1;32m~\\AppData\\Local\\Programs\\Python\\Python310\\lib\\site-packages\\pandas\\core\\frame.py:4107\u001b[0m, in \u001b[0;36mDataFrame.__getitem__\u001b[1;34m(self, key)\u001b[0m\n\u001b[0;32m   4105\u001b[0m \u001b[38;5;28;01mif\u001b[39;00m \u001b[38;5;28mself\u001b[39m\u001b[38;5;241m.\u001b[39mcolumns\u001b[38;5;241m.\u001b[39mnlevels \u001b[38;5;241m>\u001b[39m \u001b[38;5;241m1\u001b[39m:\n\u001b[0;32m   4106\u001b[0m     \u001b[38;5;28;01mreturn\u001b[39;00m \u001b[38;5;28mself\u001b[39m\u001b[38;5;241m.\u001b[39m_getitem_multilevel(key)\n\u001b[1;32m-> 4107\u001b[0m indexer \u001b[38;5;241m=\u001b[39m \u001b[38;5;28;43mself\u001b[39;49m\u001b[38;5;241;43m.\u001b[39;49m\u001b[43mcolumns\u001b[49m\u001b[38;5;241;43m.\u001b[39;49m\u001b[43mget_loc\u001b[49m\u001b[43m(\u001b[49m\u001b[43mkey\u001b[49m\u001b[43m)\u001b[49m\n\u001b[0;32m   4108\u001b[0m \u001b[38;5;28;01mif\u001b[39;00m is_integer(indexer):\n\u001b[0;32m   4109\u001b[0m     indexer \u001b[38;5;241m=\u001b[39m [indexer]\n",
      "File \u001b[1;32m~\\AppData\\Local\\Programs\\Python\\Python310\\lib\\site-packages\\pandas\\core\\indexes\\base.py:3819\u001b[0m, in \u001b[0;36mIndex.get_loc\u001b[1;34m(self, key)\u001b[0m\n\u001b[0;32m   3814\u001b[0m     \u001b[38;5;28;01mif\u001b[39;00m \u001b[38;5;28misinstance\u001b[39m(casted_key, \u001b[38;5;28mslice\u001b[39m) \u001b[38;5;129;01mor\u001b[39;00m (\n\u001b[0;32m   3815\u001b[0m         \u001b[38;5;28misinstance\u001b[39m(casted_key, abc\u001b[38;5;241m.\u001b[39mIterable)\n\u001b[0;32m   3816\u001b[0m         \u001b[38;5;129;01mand\u001b[39;00m \u001b[38;5;28many\u001b[39m(\u001b[38;5;28misinstance\u001b[39m(x, \u001b[38;5;28mslice\u001b[39m) \u001b[38;5;28;01mfor\u001b[39;00m x \u001b[38;5;129;01min\u001b[39;00m casted_key)\n\u001b[0;32m   3817\u001b[0m     ):\n\u001b[0;32m   3818\u001b[0m         \u001b[38;5;28;01mraise\u001b[39;00m InvalidIndexError(key)\n\u001b[1;32m-> 3819\u001b[0m     \u001b[38;5;28;01mraise\u001b[39;00m \u001b[38;5;167;01mKeyError\u001b[39;00m(key) \u001b[38;5;28;01mfrom\u001b[39;00m\u001b[38;5;250m \u001b[39m\u001b[38;5;21;01merr\u001b[39;00m\n\u001b[0;32m   3820\u001b[0m \u001b[38;5;28;01mexcept\u001b[39;00m \u001b[38;5;167;01mTypeError\u001b[39;00m:\n\u001b[0;32m   3821\u001b[0m     \u001b[38;5;66;03m# If we have a listlike key, _check_indexing_error will raise\u001b[39;00m\n\u001b[0;32m   3822\u001b[0m     \u001b[38;5;66;03m#  InvalidIndexError. Otherwise we fall through and re-raise\u001b[39;00m\n\u001b[0;32m   3823\u001b[0m     \u001b[38;5;66;03m#  the TypeError.\u001b[39;00m\n\u001b[0;32m   3824\u001b[0m     \u001b[38;5;28mself\u001b[39m\u001b[38;5;241m.\u001b[39m_check_indexing_error(key)\n",
      "\u001b[1;31mKeyError\u001b[0m: 'AM_EFETIVACAO'"
     ]
    }
   ],
   "source": [
    "import pandas as pd\n",
    "import numpy as np\n",
    "from sklearn.model_selection import train_test_split\n",
    "from sklearn.preprocessing import StandardScaler, OneHotEncoder\n",
    "from sklearn.compose import ColumnTransformer\n",
    "from sklearn.pipeline import Pipeline\n",
    "from sklearn.linear_model import LinearRegression\n",
    "from sklearn.ensemble import RandomForestRegressor, GradientBoostingRegressor\n",
    "from sklearn.svm import SVR\n",
    "from sklearn.metrics import mean_absolute_error, mean_squared_error, r2_score\n",
    "from xgboost import XGBRegressor\n",
    "import matplotlib.pyplot as plt\n",
    "import seaborn as sns\n",
    "import io\n",
    "import base64\n",
    "from datetime import datetime\n",
    "\n",
    "# Loading and preprocessing the data\n",
    "def load_and_preprocess_data(csv_file):\n",
    "    df = pd.read_csv(csv_file, sep=';', encoding='utf-8', low_memory=False)\n",
    "    \n",
    "    # Convert AM_EFETIVACAO to numerical format (months since start)\n",
    "    df['AM_EFETIVACAO'] = pd.to_datetime(df['AM_EFETIVACAO'], format='%Y-%m')\n",
    "    df['MONTHS_SINCE_START'] = (df['AM_EFETIVACAO'] - df['AM_EFETIVACAO'].min()).dt.days / 30.0\n",
    "    \n",
    "    # Define features and target\n",
    "    categorical_features = ['SG_UF', 'NO_PRESTADORA_DOADORA']\n",
    "    numerical_features = ['MONTHS_SINCE_START', 'ISG', 'QIC', 'QF', 'QCR', 'QAT', 'QAD', 'QAP']\n",
    "    target = 'QT_PORTABILIDADE_EFETIVADA'\n",
    "    \n",
    "    # Handle missing values\n",
    "    df = df.dropna()\n",
    "    \n",
    "    # Split features and target\n",
    "    X = df[categorical_features + numerical_features]\n",
    "    y = df[target]\n",
    "    \n",
    "    # Preprocessing pipeline\n",
    "    preprocessor = ColumnTransformer(\n",
    "        transformers=[\n",
    "            ('cat', OneHotEncoder(drop='first', sparse_output=False), categorical_features),\n",
    "            ('num', StandardScaler(), numerical_features)\n",
    "        ])\n",
    "    \n",
    "    return X, y, preprocessor\n",
    "\n",
    "# Training and evaluating models\n",
    "def evaluate_models(X, y, preprocessor):\n",
    "    # Split data\n",
    "    X_train, X_test, y_train, y_test = train_test_split(X, y, test_size=0.2, random_state=42)\n",
    "    \n",
    "    # Define models\n",
    "    models = {\n",
    "        'Linear Regression': Pipeline([('preprocessor', preprocessor), ('regressor', LinearRegression())]),\n",
    "        'Random Forest': Pipeline([('preprocessor', preprocessor), ('regressor', RandomForestRegressor(n_estimators=100, random_state=42))]),\n",
    "        'Gradient Boosting': Pipeline([('preprocessor', preprocessor), ('regressor', GradientBoostingRegressor(n_estimators=100, random_state=42))]),\n",
    "        'SVR': Pipeline([('preprocessor', preprocessor), ('regressor', SVR())]),\n",
    "        'XGBoost': Pipeline([('preprocessor', preprocessor), ('regressor', XGBRegressor(n_estimators=100, random_state=42))])\n",
    "    }\n",
    "    \n",
    "    # Store results\n",
    "    results = []\n",
    "    predictions = {}\n",
    "    \n",
    "    for name, model in models.items():\n",
    "        # Train model\n",
    "        model.fit(X_train, y_train)\n",
    "        y_pred = model.predict(X_test)\n",
    "        \n",
    "        # Calculate metrics\n",
    "        mae = mean_absolute_error(y_test, y_pred)\n",
    "        mse = mean_squared_error(y_test, y_pred)\n",
    "        rmse = np.sqrt(mse)\n",
    "        r2 = r2_score(y_test, y_pred)\n",
    "        \n",
    "        results.append({\n",
    "            'Model': name,\n",
    "            'MAE': mae,\n",
    "            'MSE': mse,\n",
    "            'RMSE': rmse,\n",
    "            'R2': r2\n",
    "        })\n",
    "        predictions[name] = (y_test, y_pred)\n",
    "    \n",
    "    return pd.DataFrame(results), predictions\n",
    "\n",
    "# Generating visualizations\n",
    "def plot_metrics(results_df):\n",
    "    fig, ax = plt.subplots(figsize=(10, 6))\n",
    "    metrics = ['MAE', 'MSE', 'RMSE', 'R2']\n",
    "    for metric in metrics:\n",
    "        sns.barplot(x='Model', y=metric, data=results_df, ax=ax, label=metric)\n",
    "        ax.set_title(f'Model Performance Metrics')\n",
    "        ax.set_xticklabels(ax.get_xticklabels(), rotation=45)\n",
    "        ax.legend()\n",
    "    \n",
    "    # Convert plot to base64 for embedding\n",
    "    buf = io.BytesIO()\n",
    "    plt.savefig(buf, format='png', bbox_inches='tight')\n",
    "    plt.close()\n",
    "    return base64.b64encode(buf.getvalue()).decode('utf-8')\n",
    "\n",
    "def plot_actual_vs_predicted(predictions):\n",
    "    fig, axes = plt.subplots(3, 2, figsize=(15, 12))\n",
    "    axes = axes.flatten()\n",
    "    \n",
    "    for idx, (name, (y_test, y_pred)) in enumerate(predictions.items()):\n",
    "        axes[idx].scatter(y_test, y_pred, alpha=0.5)\n",
    "        axes[idx].plot([y_test.min(), y_test.max()], [y_test.min(), y_test.max()], 'r--')\n",
    "        axes[idx].set_xlabel('Actual')\n",
    "        axes[idx].set_ylabel('Predicted')\n",
    "        axes[idx].set_title(f'{name} Predictions')\n",
    "    \n",
    "    plt.tight_layout()\n",
    "    \n",
    "    # Convert plot to base64\n",
    "    buf = io.BytesIO()\n",
    "    plt.savefig(buf, format='png', bbox_inches='tight')\n",
    "    plt.close()\n",
    "    return base64.b64encode(buf.getvalue()).decode('utf-8')\n",
    "\n",
    "# Generating the report\n",
    "def generate_report(csv_file):\n",
    "    # Load and preprocess data\n",
    "    X, y, preprocessor = load_and_preprocess_data(csv_file)\n",
    "    \n",
    "    # Evaluate models\n",
    "    results_df, predictions = evaluate_models(X, y, preprocessor)\n",
    "    \n",
    "    # Generate plots\n",
    "    metrics_plot = plot_metrics(results_df)\n",
    "    scatter_plot = plot_actual_vs_predicted(predictions)\n",
    "    \n",
    "    # Prepare report content\n",
    "    report = f\"\"\"\n",
    "# Predictive Model Evaluation Report\n",
    "\n",
    "## Dataset Summary\n",
    "The dataset combines porting and customer satisfaction data, with {len(X)} records across {len(X['SG_UF'].unique())} states and {len(X['NO_PRESTADORA_DOADORA'].unique())} providers. The target variable is `QT_PORTABILIDADE_EFETIVADA` (number of clients lost). Features include:\n",
    "- Categorical: `SG_UF`, `NO_PRESTADORA_DOADORA`\n",
    "- Numerical: `MONTHS_SINCE_START` (derived from `AM_EFETIVACAO`), `ISG`, `QIC`, `QF`, `QCR`, `QAT`, `QAD`, `QAP`\n",
    "\n",
    "Preprocessing steps:\n",
    "- Converted `AM_EFETIVACAO` to numerical months since the earliest date.\n",
    "- Applied one-hot encoding to categorical features and standard scaling to numerical features.\n",
    "- Removed any missing values.\n",
    "\n",
    "## Model Performance\n",
    "The following models were evaluated: Linear Regression, Random Forest, Gradient Boosting, SVR, and XGBoost. Performance metrics are shown below:\n",
    "\n",
    "{results_df.to_markdown(index=False)}\n",
    "\n",
    "### Performance Visualization\n",
    "![Model Performance Metrics](data:image/png;base64,{metrics_plot})\n",
    "\n",
    "### Actual vs. Predicted Values\n",
    "![Actual vs Predicted](data:image/png;base64,{scatter_plot})\n",
    "\n",
    "## Conclusion\n",
    "The best-performing model is **{results_df.loc[results_df['R2'].idxmax(), 'Model']}** with an R² score of {results_df['R2'].max():.4f}, indicating it explains the most variance in the target variable. Random Forest and XGBoost typically outperform linear models due to their ability to capture non-linear relationships in the data. An interesting insight is that models like SVR may struggle with the dataset's scale and complexity, as seen in its higher error metrics. For production, consider tuning the hyperparameters of Random Forest or XGBoost for further improvement.\n",
    "\"\"\"\n",
    "    return report\n",
    "\n",
    "# Main execution\n",
    "if __name__ == \"__main__\":\n",
    "    # Replace with actual file path or load data directly\n",
    "    csv_file = \"D:/Renan/Documents/Mestrado/Inteligencia artificial/Artigo/churn_analyser/data/base.csv\"\n",
    "    report = generate_report(csv_file)\n",
    "    print(report)"
   ]
  },
  {
   "cell_type": "code",
   "execution_count": null,
   "id": "e8406a28-d056-4366-b73c-54c8247710a0",
   "metadata": {},
   "outputs": [],
   "source": []
  },
  {
   "cell_type": "code",
   "execution_count": null,
   "id": "cf1873f9-285d-4368-bc73-a183fbdf3274",
   "metadata": {},
   "outputs": [],
   "source": []
  },
  {
   "cell_type": "code",
   "execution_count": null,
   "id": "c051e5df-f93d-4a96-bbf7-c367b1a320ac",
   "metadata": {},
   "outputs": [],
   "source": []
  },
  {
   "cell_type": "code",
   "execution_count": null,
   "id": "3e00d7a9-193e-49a8-a98d-8b599dee887e",
   "metadata": {},
   "outputs": [],
   "source": []
  },
  {
   "cell_type": "code",
   "execution_count": 36,
   "id": "1cc167ab-bb03-4938-804d-3318964a7848",
   "metadata": {},
   "outputs": [
    {
     "name": "stderr",
     "output_type": "stream",
     "text": [
      "C:\\Users\\Renan\\AppData\\Local\\Programs\\Python\\Python310\\lib\\site-packages\\xgboost\\training.py:183: UserWarning: [21:42:58] WARNING: C:\\actions-runner\\_work\\xgboost\\xgboost\\src\\learner.cc:738: \n",
      "Parameters: { \"use_label_encoder\" } are not used.\n",
      "\n",
      "  bst.update(dtrain, iteration=i, fobj=obj)\n"
     ]
    },
    {
     "name": "stdout",
     "output_type": "stream",
     "text": [
      "               Modelo  Acuracia  Precision_0  Recall_0      F1_0  Precision_1  \\\n",
      "0        RandomForest  0.531328     0.570370  0.684444  0.622222     0.449612   \n",
      "1  LogisticRegression  0.583960     0.586510  0.888889  0.706714     0.568966   \n",
      "2             XGBoost  0.508772     0.559184  0.608889  0.582979     0.428571   \n",
      "\n",
      "   Recall_1      F1_1  Suporte_0  Suporte_1  \n",
      "0  0.333333  0.382838      225.0      174.0  \n",
      "1  0.189655  0.284483      225.0      174.0  \n",
      "2  0.379310  0.402439      225.0      174.0  \n"
     ]
    },
    {
     "data": {
      "image/png": "[encoded data removed]",
      "text/plain": [
       "<Figure size 1000x500 with 1 Axes>"
      ]
     },
     "metadata": {},
     "output_type": "display_data"
    }
   ],
   "source": [
    "\n",
    "# ✅ 1. Importações\n",
    "import pandas as pd\n",
    "import numpy as np\n",
    "from sklearn.model_selection import train_test_split\n",
    "from sklearn.ensemble import RandomForestClassifier\n",
    "from sklearn.linear_model import LogisticRegression\n",
    "from xgboost import XGBClassifier\n",
    "from sklearn.metrics import classification_report, accuracy_score\n",
    "import matplotlib.pyplot as plt\n",
    "import seaborn as sns\n",
    "\n",
    "# ✅ 2. Carregar sua base de dados já tratada (ajuste o caminho)\n",
    "df = df_final\n",
    "\n",
    "# ✅ 3. Criar variável binária churn_alto\n",
    "media_churn = df.groupby(['NO_PRESTADORA_DOADORA', 'SG_UF'])['QT_PORTABILIDADE_EFETIVADA'].transform('mean')\n",
    "df['churn_alto'] = (df['QT_PORTABILIDADE_EFETIVADA'] > media_churn).astype(int)\n",
    "\n",
    "# ✅ 4. Selecionar variáveis preditoras e alvo\n",
    "features = ['ISG', 'QIC', 'QF', 'QCR', 'QAT', 'QAD', 'QAP']\n",
    "X = df[features]\n",
    "y = df['churn_alto']\n",
    "\n",
    "# ✅ 5. Dividir treino/teste\n",
    "X_train, X_test, y_train, y_test = train_test_split(X, y, stratify=y, test_size=0.2, random_state=42)\n",
    "\n",
    "# ✅ 6. Treinar e avaliar modelos\n",
    "modelos = {\n",
    "    'RandomForest': RandomForestClassifier(random_state=42),\n",
    "    'LogisticRegression': LogisticRegression(max_iter=1000),\n",
    "    'XGBoost': XGBClassifier(use_label_encoder=False, eval_metric='logloss', random_state=42)\n",
    "}\n",
    "\n",
    "resultados = []\n",
    "\n",
    "for nome, modelo in modelos.items():\n",
    "    modelo.fit(X_train, y_train)\n",
    "    y_pred = modelo.predict(X_test)\n",
    "    acc = accuracy_score(y_test, y_pred)\n",
    "    relatorio = classification_report(y_test, y_pred, output_dict=True)\n",
    "\n",
    "    resultados.append({\n",
    "        'Modelo': nome,\n",
    "        'Acuracia': acc,\n",
    "        'Precision_0': relatorio['0']['precision'],\n",
    "        'Recall_0': relatorio['0']['recall'],\n",
    "        'F1_0': relatorio['0']['f1-score'],\n",
    "        'Precision_1': relatorio['1']['precision'],\n",
    "        'Recall_1': relatorio['1']['recall'],\n",
    "        'F1_1': relatorio['1']['f1-score'],\n",
    "        'Suporte_0': relatorio['0']['support'],\n",
    "        'Suporte_1': relatorio['1']['support']\n",
    "    })\n",
    "\n",
    "# ✅ 7. Gerar DataFrame com os resultados\n",
    "df_resultados = pd.DataFrame(resultados)\n",
    "df_resultados.to_csv(\"D:/Renan/Documents/Mestrado/Inteligencia artificial/Artigo/churn_analyser/data/resultados_modelos_classificacao.csv\", index=False)\n",
    "print(df_resultados)\n",
    "\n",
    "# ✅ 8. (Opcional) Visualizar os resultados\n",
    "plt.figure(figsize=(10, 5))\n",
    "sns.barplot(data=df_resultados, x=\"Modelo\", y=\"Acuracia\")\n",
    "plt.title(\"Comparação de Acurácia entre Modelos de Classificação\")\n",
    "plt.ylabel(\"Acurácia\")\n",
    "plt.xlabel(\"Modelo\")\n",
    "plt.tight_layout()\n",
    "plt.show()\n"
   ]
  },
  {
   "cell_type": "code",
   "execution_count": null,
   "id": "54639075-1657-4fec-8126-a39b005772f5",
   "metadata": {},
   "outputs": [],
   "source": []
  },
  {
   "cell_type": "code",
   "execution_count": null,
   "id": "ab79b952-0876-4ca7-92cf-592adaf9c0da",
   "metadata": {},
   "outputs": [],
   "source": []
  },
  {
   "cell_type": "code",
   "execution_count": null,
   "id": "78e0ce53-1bf7-45a7-b1d6-859e03a920b2",
   "metadata": {},
   "outputs": [],
   "source": []
  },
  {
   "cell_type": "code",
   "execution_count": null,
   "id": "a57a37df-5f93-4da4-bf22-ed350e81eca5",
   "metadata": {},
   "outputs": [],
   "source": []
  },
  {
   "cell_type": "code",
   "execution_count": null,
   "id": "9d6ed13a-ed04-4830-bebe-598ec8e97489",
   "metadata": {},
   "outputs": [],
   "source": []
  },
  {
   "cell_type": "code",
   "execution_count": null,
   "id": "32f571a2-7f55-4c22-9df2-676c9208621d",
   "metadata": {},
   "outputs": [],
   "source": []
  },
  {
   "cell_type": "code",
   "execution_count": 38,
   "id": "1f003910-6205-4dd5-8bd5-4e6b7235a1c7",
   "metadata": {},
   "outputs": [],
   "source": [
    "#pip install ace_tools"
   ]
  },
  {
   "cell_type": "code",
   "execution_count": 39,
   "id": "37007d09-9731-45dd-ba4e-9cd93cdf31b7",
   "metadata": {},
   "outputs": [
    {
     "ename": "ModuleNotFoundError",
     "evalue": "No module named 'ace_tools'",
     "output_type": "error",
     "traceback": [
      "\u001b[1;31m---------------------------------------------------------------------------\u001b[0m",
      "\u001b[1;31mModuleNotFoundError\u001b[0m                       Traceback (most recent call last)",
      "Cell \u001b[1;32mIn[39], line 1\u001b[0m\n\u001b[1;32m----> 1\u001b[0m \u001b[38;5;28;01mimport\u001b[39;00m\u001b[38;5;250m \u001b[39m\u001b[38;5;21;01mace_tools\u001b[39;00m\u001b[38;5;250m \u001b[39m\u001b[38;5;28;01mas\u001b[39;00m\u001b[38;5;250m \u001b[39m\u001b[38;5;21;01mtools\u001b[39;00m;\n",
      "\u001b[1;31mModuleNotFoundError\u001b[0m: No module named 'ace_tools'"
     ]
    }
   ],
   "source": [
    "import ace_tools as tools;"
   ]
  },
  {
   "cell_type": "code",
   "execution_count": 39,
   "id": "8a2da9b7-313e-4c82-af67-8f78df04045e",
   "metadata": {},
   "outputs": [],
   "source": [
    "from sklearn.model_selection import train_test_split\n",
    "from sklearn.linear_model import LinearRegression\n",
    "from sklearn.metrics import mean_absolute_error, mean_squared_error, r2_score\n",
    "import numpy as np\n",
    "from sklearn.ensemble import RandomForestRegressor\n",
    "from xgboost import XGBRegressor\n",
    "from statsmodels.tsa.statespace.sarimax import SARIMAX"
   ]
  },
  {
   "cell_type": "code",
   "execution_count": null,
   "id": "afc884f0-09f8-4819-8528-cfe9d566b3ff",
   "metadata": {},
   "outputs": [],
   "source": []
  },
  {
   "cell_type": "code",
   "execution_count": 40,
   "id": "c6373504-88d7-474d-beea-34a98e9326d4",
   "metadata": {},
   "outputs": [
    {
     "data": {
      "text/html": [
       "<div>\n",
       "<style scoped>\n",
       "    .dataframe tbody tr th:only-of-type {\n",
       "        vertical-align: middle;\n",
       "    }\n",
       "\n",
       "    .dataframe tbody tr th {\n",
       "        vertical-align: top;\n",
       "    }\n",
       "\n",
       "    .dataframe thead th {\n",
       "        text-align: right;\n",
       "    }\n",
       "</style>\n",
       "<table border=\"1\" class=\"dataframe\">\n",
       "  <thead>\n",
       "    <tr style=\"text-align: right;\">\n",
       "      <th></th>\n",
       "      <th>AM_EFETIVACAO</th>\n",
       "      <th>SG_UF</th>\n",
       "      <th>NO_PRESTADORA_DOADORA</th>\n",
       "      <th>QT_PORTABILIDADE_EFETIVADA</th>\n",
       "      <th>ISG</th>\n",
       "      <th>QIC</th>\n",
       "      <th>QF</th>\n",
       "      <th>QCR</th>\n",
       "      <th>QAT</th>\n",
       "      <th>QAD</th>\n",
       "      <th>QAP</th>\n",
       "    </tr>\n",
       "  </thead>\n",
       "  <tbody>\n",
       "    <tr>\n",
       "      <th>0</th>\n",
       "      <td>2021-07</td>\n",
       "      <td>AC</td>\n",
       "      <td>CLARO</td>\n",
       "      <td>226</td>\n",
       "      <td>2.331007</td>\n",
       "      <td>2.884685</td>\n",
       "      <td>2.241706</td>\n",
       "      <td>0.271966</td>\n",
       "      <td>-1.681688e-15</td>\n",
       "      <td>1.083477e-15</td>\n",
       "      <td>0.0</td>\n",
       "    </tr>\n",
       "    <tr>\n",
       "      <th>1</th>\n",
       "      <td>2021-07</td>\n",
       "      <td>AC</td>\n",
       "      <td>OI</td>\n",
       "      <td>231</td>\n",
       "      <td>1.000327</td>\n",
       "      <td>2.050745</td>\n",
       "      <td>1.142414</td>\n",
       "      <td>1.570233</td>\n",
       "      <td>3.191618e+00</td>\n",
       "      <td>1.944551e+00</td>\n",
       "      <td>0.0</td>\n",
       "    </tr>\n",
       "    <tr>\n",
       "      <th>2</th>\n",
       "      <td>2021-07</td>\n",
       "      <td>AC</td>\n",
       "      <td>TIM</td>\n",
       "      <td>109</td>\n",
       "      <td>-3.923171</td>\n",
       "      <td>-1.271825</td>\n",
       "      <td>-2.689790</td>\n",
       "      <td>-0.178580</td>\n",
       "      <td>-1.681688e-15</td>\n",
       "      <td>-4.809412e+00</td>\n",
       "      <td>0.0</td>\n",
       "    </tr>\n",
       "    <tr>\n",
       "      <th>3</th>\n",
       "      <td>2021-07</td>\n",
       "      <td>AC</td>\n",
       "      <td>VIVO</td>\n",
       "      <td>816</td>\n",
       "      <td>-2.510319</td>\n",
       "      <td>-1.452588</td>\n",
       "      <td>-2.666165</td>\n",
       "      <td>1.389720</td>\n",
       "      <td>-3.526434e-01</td>\n",
       "      <td>-1.903826e+00</td>\n",
       "      <td>0.0</td>\n",
       "    </tr>\n",
       "    <tr>\n",
       "      <th>4</th>\n",
       "      <td>2021-07</td>\n",
       "      <td>AL</td>\n",
       "      <td>CLARO</td>\n",
       "      <td>609</td>\n",
       "      <td>1.681155</td>\n",
       "      <td>-0.197221</td>\n",
       "      <td>1.750726</td>\n",
       "      <td>-0.378386</td>\n",
       "      <td>1.315177e+00</td>\n",
       "      <td>-4.697104e-01</td>\n",
       "      <td>0.0</td>\n",
       "    </tr>\n",
       "  </tbody>\n",
       "</table>\n",
       "</div>"
      ],
      "text/plain": [
       "  AM_EFETIVACAO SG_UF NO_PRESTADORA_DOADORA  QT_PORTABILIDADE_EFETIVADA  \\\n",
       "0       2021-07    AC                 CLARO                         226   \n",
       "1       2021-07    AC                    OI                         231   \n",
       "2       2021-07    AC                   TIM                         109   \n",
       "3       2021-07    AC                  VIVO                         816   \n",
       "4       2021-07    AL                 CLARO                         609   \n",
       "\n",
       "        ISG       QIC        QF       QCR           QAT           QAD  QAP  \n",
       "0  2.331007  2.884685  2.241706  0.271966 -1.681688e-15  1.083477e-15  0.0  \n",
       "1  1.000327  2.050745  1.142414  1.570233  3.191618e+00  1.944551e+00  0.0  \n",
       "2 -3.923171 -1.271825 -2.689790 -0.178580 -1.681688e-15 -4.809412e+00  0.0  \n",
       "3 -2.510319 -1.452588 -2.666165  1.389720 -3.526434e-01 -1.903826e+00  0.0  \n",
       "4  1.681155 -0.197221  1.750726 -0.378386  1.315177e+00 -4.697104e-01  0.0  "
      ]
     },
     "execution_count": 40,
     "metadata": {},
     "output_type": "execute_result"
    }
   ],
   "source": [
    "df_final.head()"
   ]
  },
  {
   "cell_type": "code",
   "execution_count": 42,
   "id": "bb774e61-7f59-4bf0-9876-93a2f236ed82",
   "metadata": {},
   "outputs": [
    {
     "name": "stderr",
     "output_type": "stream",
     "text": [
      "C:\\Users\\Renan\\AppData\\Local\\Programs\\Python\\Python310\\lib\\site-packages\\xgboost\\training.py:183: UserWarning: [21:30:53] WARNING: C:\\actions-runner\\_work\\xgboost\\xgboost\\src\\learner.cc:738: \n",
      "Parameters: { \"use_label_encoder\" } are not used.\n",
      "\n",
      "  bst.update(dtrain, iteration=i, fobj=obj)\n"
     ]
    },
    {
     "ename": "NameError",
     "evalue": "name 'tools' is not defined",
     "output_type": "error",
     "traceback": [
      "\u001b[1;31m---------------------------------------------------------------------------\u001b[0m",
      "\u001b[1;31mNameError\u001b[0m                                 Traceback (most recent call last)",
      "Cell \u001b[1;32mIn[42], line 73\u001b[0m\n\u001b[0;32m     70\u001b[0m df_resultados_finais_path \u001b[38;5;241m=\u001b[39m \u001b[38;5;124m\"\u001b[39m\u001b[38;5;124mD:/Renan/Documents/Mestrado/Inteligencia artificial/Artigo/churn_analyser/data/resultado_modelos_classificacao.csv\u001b[39m\u001b[38;5;124m\"\u001b[39m\n\u001b[0;32m     71\u001b[0m df_resultados_finais\u001b[38;5;241m.\u001b[39mto_csv(df_resultados_finais_path, index\u001b[38;5;241m=\u001b[39m\u001b[38;5;28;01mFalse\u001b[39;00m)\n\u001b[1;32m---> 73\u001b[0m \u001b[43mtools\u001b[49m\u001b[38;5;241m.\u001b[39mdisplay_dataframe_to_user(name\u001b[38;5;241m=\u001b[39m\u001b[38;5;124m\"\u001b[39m\u001b[38;5;124mResultados Classificação - Churn Alto\u001b[39m\u001b[38;5;124m\"\u001b[39m, dataframe\u001b[38;5;241m=\u001b[39mdf_resultados_finais)\n\u001b[0;32m     75\u001b[0m df_resultados_finais_path\n",
      "\u001b[1;31mNameError\u001b[0m: name 'tools' is not defined"
     ]
    }
   ],
   "source": [
    "# Construir pipeline completa e organizada como solicitado\n",
    "from sklearn.ensemble import RandomForestClassifier\n",
    "from sklearn.linear_model import LogisticRegression\n",
    "from xgboost import XGBClassifier\n",
    "from sklearn.model_selection import train_test_split\n",
    "from sklearn.metrics import classification_report, accuracy_score\n",
    "import pandas as pd\n",
    "import numpy as np\n",
    "\n",
    "\n",
    "# Simulação de dataset base (você substituirá pelo seu df_final real)\n",
    "#np.random.seed(42)\n",
    "#df = pd.DataFrame({\n",
    "#    'AM_EFETIVACAO': pd.date_range(start='2020-01-01', periods=100, freq='MS'),\n",
    "#    'NO_PRESTADORA_DOADORA': ['VIVO'] * 100,\n",
    "#    'SG_UF': ['SP'] * 100,\n",
    "#    'QT_PORTABILIDADE_EFETIVADA': abs(np.random.normal(loc=500, scale=200, size=100).astype(int)),\n",
    "#    'QF': np.random.uniform(1, 5, size=100),\n",
    "#    'QIC': np.random.uniform(1, 5, size=100),\n",
    "#    'QCR': np.random.uniform(1, 5, size=100),\n",
    "#    'QAT': np.random.uniform(1, 5, size=100),\n",
    "#    'QAD': np.random.uniform(1, 5, size=100),\n",
    "#    'QAP': np.random.uniform(1, 5, size=100),\n",
    "#    'ISG': np.random.uniform(1, 5, size=100)\n",
    "#})\n",
    "\n",
    "df = df_final\n",
    "\n",
    "# Etapa 1: Criar variável binária churn_alto\n",
    "media_churn = df['QT_PORTABILIDADE_EFETIVADA'].mean()\n",
    "df['churn_alto'] = (df['QT_PORTABILIDADE_EFETIVADA'] > media_churn).astype(int)\n",
    "\n",
    "# Etapa 2: Separar dados\n",
    "X = df[['QF', 'QIC', 'QCR', 'QAT', 'QAD', 'QAP', 'ISG']]\n",
    "y = df['churn_alto']\n",
    "X_train, X_test, y_train, y_test = train_test_split(X, y, stratify=y, test_size=0.2, random_state=42)\n",
    "\n",
    "# Etapa 3: Avaliar múltiplos modelos\n",
    "modelos = {\n",
    "    'RandomForest': RandomForestClassifier(random_state=42),\n",
    "    'LogisticRegression': LogisticRegression(max_iter=1000),\n",
    "    'XGBoost': XGBClassifier(use_label_encoder=False, eval_metric='logloss', random_state=42)\n",
    "}\n",
    "\n",
    "resultados = []\n",
    "\n",
    "for nome, modelo in modelos.items():\n",
    "    modelo.fit(X_train, y_train)\n",
    "    y_pred = modelo.predict(X_test)\n",
    "    acc = accuracy_score(y_test, y_pred)\n",
    "    relatorio = classification_report(y_test, y_pred, output_dict=True)\n",
    "    \n",
    "    resultados.append({\n",
    "        'Modelo': nome,\n",
    "        'Acuracia': acc,\n",
    "        'Precision_0': relatorio['0']['precision'],\n",
    "        'Recall_0': relatorio['0']['recall'],\n",
    "        'F1_0': relatorio['0']['f1-score'],\n",
    "        'Precision_1': relatorio['1']['precision'],\n",
    "        'Recall_1': relatorio['1']['recall'],\n",
    "        'F1_1': relatorio['1']['f1-score'],\n",
    "        'Suporte_0': relatorio['0']['support'],\n",
    "        'Suporte_1': relatorio['1']['support']\n",
    "    })\n",
    "\n",
    "# Gerar dataset final com os resultados\n",
    "df_resultados_finais = pd.DataFrame(resultados)\n",
    "\n",
    "# Salvar para uso em gráficos e tabelas\n",
    "df_resultados_finais_path = \"D:/Renan/Documents/Mestrado/Inteligencia artificial/Artigo/churn_analyser/data/resultado_modelos_classificacao.csv\"\n",
    "df_resultados_finais.to_csv(df_resultados_finais_path, index=False)\n",
    "\n",
    "tools.display_dataframe_to_user(name=\"Resultados Classificação - Churn Alto\", dataframe=df_resultados_finais)\n",
    "\n",
    "df_resultados_finais_path\n"
   ]
  },
  {
   "cell_type": "code",
   "execution_count": null,
   "id": "cd9dfdef-6a8e-473c-a19e-74ec40e3da53",
   "metadata": {},
   "outputs": [],
   "source": []
  },
  {
   "cell_type": "code",
   "execution_count": 40,
   "id": "01142ea4-6771-4c85-9729-92e94a48f22c",
   "metadata": {},
   "outputs": [
    {
     "name": "stdout",
     "output_type": "stream",
     "text": [
      "Processando: CLARO - AC\n"
     ]
    },
    {
     "name": "stderr",
     "output_type": "stream",
     "text": [
      "C:\\Users\\Renan\\AppData\\Local\\Programs\\Python\\Python310\\lib\\site-packages\\statsmodels\\tsa\\statespace\\sarimax.py:866: UserWarning: Too few observations to estimate starting parameters for seasonal ARMA. All parameters except for variances will be set to zeros.\n",
      "  warn('Too few observations to estimate starting parameters%s.'\n",
      "C:\\Users\\Renan\\AppData\\Local\\Programs\\Python\\Python310\\lib\\site-packages\\statsmodels\\base\\model.py:607: ConvergenceWarning: Maximum Likelihood optimization failed to converge. Check mle_retvals\n",
      "  warnings.warn(\"Maximum Likelihood optimization failed to \"\n",
      "C:\\Users\\Renan\\AppData\\Local\\Programs\\Python\\Python310\\lib\\site-packages\\statsmodels\\tsa\\statespace\\sarimax.py:866: UserWarning: Too few observations to estimate starting parameters for ARMA and trend. All parameters except for variances will be set to zeros.\n",
      "  warn('Too few observations to estimate starting parameters%s.'\n",
      "C:\\Users\\Renan\\AppData\\Local\\Programs\\Python\\Python310\\lib\\site-packages\\statsmodels\\tsa\\statespace\\sarimax.py:866: UserWarning: Too few observations to estimate starting parameters for seasonal ARMA. All parameters except for variances will be set to zeros.\n",
      "  warn('Too few observations to estimate starting parameters%s.'\n"
     ]
    },
    {
     "name": "stdout",
     "output_type": "stream",
     "text": [
      "Processando: OI - AC\n",
      "Processando: TIM - AC\n"
     ]
    },
    {
     "name": "stderr",
     "output_type": "stream",
     "text": [
      "C:\\Users\\Renan\\AppData\\Local\\Programs\\Python\\Python310\\lib\\site-packages\\statsmodels\\tsa\\statespace\\sarimax.py:866: UserWarning: Too few observations to estimate starting parameters for seasonal ARMA. All parameters except for variances will be set to zeros.\n",
      "  warn('Too few observations to estimate starting parameters%s.'\n",
      "C:\\Users\\Renan\\AppData\\Local\\Programs\\Python\\Python310\\lib\\site-packages\\statsmodels\\base\\model.py:607: ConvergenceWarning: Maximum Likelihood optimization failed to converge. Check mle_retvals\n",
      "  warnings.warn(\"Maximum Likelihood optimization failed to \"\n",
      "C:\\Users\\Renan\\AppData\\Local\\Programs\\Python\\Python310\\lib\\site-packages\\statsmodels\\tsa\\statespace\\sarimax.py:866: UserWarning: Too few observations to estimate starting parameters for seasonal ARMA. All parameters except for variances will be set to zeros.\n",
      "  warn('Too few observations to estimate starting parameters%s.'\n"
     ]
    },
    {
     "name": "stdout",
     "output_type": "stream",
     "text": [
      "Processando: VIVO - AC\n"
     ]
    },
    {
     "name": "stderr",
     "output_type": "stream",
     "text": [
      "C:\\Users\\Renan\\AppData\\Local\\Programs\\Python\\Python310\\lib\\site-packages\\statsmodels\\base\\model.py:607: ConvergenceWarning: Maximum Likelihood optimization failed to converge. Check mle_retvals\n",
      "  warnings.warn(\"Maximum Likelihood optimization failed to \"\n",
      "C:\\Users\\Renan\\AppData\\Local\\Programs\\Python\\Python310\\lib\\site-packages\\statsmodels\\tsa\\statespace\\sarimax.py:866: UserWarning: Too few observations to estimate starting parameters for seasonal ARMA. All parameters except for variances will be set to zeros.\n",
      "  warn('Too few observations to estimate starting parameters%s.'\n"
     ]
    },
    {
     "name": "stdout",
     "output_type": "stream",
     "text": [
      "Processando: CLARO - AL\n"
     ]
    },
    {
     "name": "stderr",
     "output_type": "stream",
     "text": [
      "C:\\Users\\Renan\\AppData\\Local\\Programs\\Python\\Python310\\lib\\site-packages\\statsmodels\\base\\model.py:607: ConvergenceWarning: Maximum Likelihood optimization failed to converge. Check mle_retvals\n",
      "  warnings.warn(\"Maximum Likelihood optimization failed to \"\n",
      "C:\\Users\\Renan\\AppData\\Local\\Programs\\Python\\Python310\\lib\\site-packages\\statsmodels\\tsa\\statespace\\sarimax.py:866: UserWarning: Too few observations to estimate starting parameters for ARMA and trend. All parameters except for variances will be set to zeros.\n",
      "  warn('Too few observations to estimate starting parameters%s.'\n",
      "C:\\Users\\Renan\\AppData\\Local\\Programs\\Python\\Python310\\lib\\site-packages\\statsmodels\\tsa\\statespace\\sarimax.py:866: UserWarning: Too few observations to estimate starting parameters for seasonal ARMA. All parameters except for variances will be set to zeros.\n",
      "  warn('Too few observations to estimate starting parameters%s.'\n"
     ]
    },
    {
     "name": "stdout",
     "output_type": "stream",
     "text": [
      "Processando: OI - AL\n",
      "Processando: TIM - AL\n"
     ]
    },
    {
     "name": "stderr",
     "output_type": "stream",
     "text": [
      "C:\\Users\\Renan\\AppData\\Local\\Programs\\Python\\Python310\\lib\\site-packages\\statsmodels\\tsa\\statespace\\sarimax.py:866: UserWarning: Too few observations to estimate starting parameters for seasonal ARMA. All parameters except for variances will be set to zeros.\n",
      "  warn('Too few observations to estimate starting parameters%s.'\n",
      "C:\\Users\\Renan\\AppData\\Local\\Programs\\Python\\Python310\\lib\\site-packages\\statsmodels\\base\\model.py:607: ConvergenceWarning: Maximum Likelihood optimization failed to converge. Check mle_retvals\n",
      "  warnings.warn(\"Maximum Likelihood optimization failed to \"\n",
      "C:\\Users\\Renan\\AppData\\Local\\Programs\\Python\\Python310\\lib\\site-packages\\statsmodels\\tsa\\statespace\\sarimax.py:866: UserWarning: Too few observations to estimate starting parameters for seasonal ARMA. All parameters except for variances will be set to zeros.\n",
      "  warn('Too few observations to estimate starting parameters%s.'\n"
     ]
    },
    {
     "name": "stdout",
     "output_type": "stream",
     "text": [
      "Processando: VIVO - AL\n"
     ]
    },
    {
     "name": "stderr",
     "output_type": "stream",
     "text": [
      "C:\\Users\\Renan\\AppData\\Local\\Programs\\Python\\Python310\\lib\\site-packages\\statsmodels\\base\\model.py:607: ConvergenceWarning: Maximum Likelihood optimization failed to converge. Check mle_retvals\n",
      "  warnings.warn(\"Maximum Likelihood optimization failed to \"\n",
      "C:\\Users\\Renan\\AppData\\Local\\Programs\\Python\\Python310\\lib\\site-packages\\statsmodels\\tsa\\statespace\\sarimax.py:866: UserWarning: Too few observations to estimate starting parameters for seasonal ARMA. All parameters except for variances will be set to zeros.\n",
      "  warn('Too few observations to estimate starting parameters%s.'\n"
     ]
    },
    {
     "name": "stdout",
     "output_type": "stream",
     "text": [
      "Processando: CLARO - AM\n"
     ]
    },
    {
     "name": "stderr",
     "output_type": "stream",
     "text": [
      "C:\\Users\\Renan\\AppData\\Local\\Programs\\Python\\Python310\\lib\\site-packages\\statsmodels\\base\\model.py:607: ConvergenceWarning: Maximum Likelihood optimization failed to converge. Check mle_retvals\n",
      "  warnings.warn(\"Maximum Likelihood optimization failed to \"\n",
      "C:\\Users\\Renan\\AppData\\Local\\Programs\\Python\\Python310\\lib\\site-packages\\statsmodels\\tsa\\statespace\\sarimax.py:866: UserWarning: Too few observations to estimate starting parameters for ARMA and trend. All parameters except for variances will be set to zeros.\n",
      "  warn('Too few observations to estimate starting parameters%s.'\n",
      "C:\\Users\\Renan\\AppData\\Local\\Programs\\Python\\Python310\\lib\\site-packages\\statsmodels\\tsa\\statespace\\sarimax.py:866: UserWarning: Too few observations to estimate starting parameters for seasonal ARMA. All parameters except for variances will be set to zeros.\n",
      "  warn('Too few observations to estimate starting parameters%s.'\n"
     ]
    },
    {
     "name": "stdout",
     "output_type": "stream",
     "text": [
      "Processando: OI - AM\n",
      "Processando: TIM - AM\n"
     ]
    },
    {
     "name": "stderr",
     "output_type": "stream",
     "text": [
      "C:\\Users\\Renan\\AppData\\Local\\Programs\\Python\\Python310\\lib\\site-packages\\statsmodels\\tsa\\statespace\\sarimax.py:866: UserWarning: Too few observations to estimate starting parameters for seasonal ARMA. All parameters except for variances will be set to zeros.\n",
      "  warn('Too few observations to estimate starting parameters%s.'\n",
      "C:\\Users\\Renan\\AppData\\Local\\Programs\\Python\\Python310\\lib\\site-packages\\statsmodels\\base\\model.py:607: ConvergenceWarning: Maximum Likelihood optimization failed to converge. Check mle_retvals\n",
      "  warnings.warn(\"Maximum Likelihood optimization failed to \"\n",
      "C:\\Users\\Renan\\AppData\\Local\\Programs\\Python\\Python310\\lib\\site-packages\\statsmodels\\tsa\\statespace\\sarimax.py:866: UserWarning: Too few observations to estimate starting parameters for seasonal ARMA. All parameters except for variances will be set to zeros.\n",
      "  warn('Too few observations to estimate starting parameters%s.'\n"
     ]
    },
    {
     "name": "stdout",
     "output_type": "stream",
     "text": [
      "Processando: VIVO - AM\n"
     ]
    },
    {
     "name": "stderr",
     "output_type": "stream",
     "text": [
      "C:\\Users\\Renan\\AppData\\Local\\Programs\\Python\\Python310\\lib\\site-packages\\statsmodels\\base\\model.py:607: ConvergenceWarning: Maximum Likelihood optimization failed to converge. Check mle_retvals\n",
      "  warnings.warn(\"Maximum Likelihood optimization failed to \"\n",
      "C:\\Users\\Renan\\AppData\\Local\\Programs\\Python\\Python310\\lib\\site-packages\\statsmodels\\tsa\\statespace\\sarimax.py:866: UserWarning: Too few observations to estimate starting parameters for seasonal ARMA. All parameters except for variances will be set to zeros.\n",
      "  warn('Too few observations to estimate starting parameters%s.'\n"
     ]
    },
    {
     "name": "stdout",
     "output_type": "stream",
     "text": [
      "Processando: CLARO - AP\n"
     ]
    },
    {
     "name": "stderr",
     "output_type": "stream",
     "text": [
      "C:\\Users\\Renan\\AppData\\Local\\Programs\\Python\\Python310\\lib\\site-packages\\statsmodels\\base\\model.py:607: ConvergenceWarning: Maximum Likelihood optimization failed to converge. Check mle_retvals\n",
      "  warnings.warn(\"Maximum Likelihood optimization failed to \"\n",
      "C:\\Users\\Renan\\AppData\\Local\\Programs\\Python\\Python310\\lib\\site-packages\\statsmodels\\tsa\\statespace\\sarimax.py:866: UserWarning: Too few observations to estimate starting parameters for seasonal ARMA. All parameters except for variances will be set to zeros.\n",
      "  warn('Too few observations to estimate starting parameters%s.'\n"
     ]
    },
    {
     "name": "stdout",
     "output_type": "stream",
     "text": [
      "Processando: TIM - AP\n"
     ]
    },
    {
     "name": "stderr",
     "output_type": "stream",
     "text": [
      "C:\\Users\\Renan\\AppData\\Local\\Programs\\Python\\Python310\\lib\\site-packages\\statsmodels\\base\\model.py:607: ConvergenceWarning: Maximum Likelihood optimization failed to converge. Check mle_retvals\n",
      "  warnings.warn(\"Maximum Likelihood optimization failed to \"\n",
      "C:\\Users\\Renan\\AppData\\Local\\Programs\\Python\\Python310\\lib\\site-packages\\statsmodels\\tsa\\statespace\\sarimax.py:866: UserWarning: Too few observations to estimate starting parameters for seasonal ARMA. All parameters except for variances will be set to zeros.\n",
      "  warn('Too few observations to estimate starting parameters%s.'\n"
     ]
    },
    {
     "name": "stdout",
     "output_type": "stream",
     "text": [
      "Processando: VIVO - AP\n"
     ]
    },
    {
     "name": "stderr",
     "output_type": "stream",
     "text": [
      "C:\\Users\\Renan\\AppData\\Local\\Programs\\Python\\Python310\\lib\\site-packages\\statsmodels\\base\\model.py:607: ConvergenceWarning: Maximum Likelihood optimization failed to converge. Check mle_retvals\n",
      "  warnings.warn(\"Maximum Likelihood optimization failed to \"\n",
      "C:\\Users\\Renan\\AppData\\Local\\Programs\\Python\\Python310\\lib\\site-packages\\statsmodels\\tsa\\statespace\\sarimax.py:866: UserWarning: Too few observations to estimate starting parameters for seasonal ARMA. All parameters except for variances will be set to zeros.\n",
      "  warn('Too few observations to estimate starting parameters%s.'\n"
     ]
    },
    {
     "name": "stdout",
     "output_type": "stream",
     "text": [
      "Processando: CLARO - BA\n"
     ]
    },
    {
     "name": "stderr",
     "output_type": "stream",
     "text": [
      "C:\\Users\\Renan\\AppData\\Local\\Programs\\Python\\Python310\\lib\\site-packages\\statsmodels\\base\\model.py:607: ConvergenceWarning: Maximum Likelihood optimization failed to converge. Check mle_retvals\n",
      "  warnings.warn(\"Maximum Likelihood optimization failed to \"\n",
      "C:\\Users\\Renan\\AppData\\Local\\Programs\\Python\\Python310\\lib\\site-packages\\statsmodels\\tsa\\statespace\\sarimax.py:866: UserWarning: Too few observations to estimate starting parameters for ARMA and trend. All parameters except for variances will be set to zeros.\n",
      "  warn('Too few observations to estimate starting parameters%s.'\n",
      "C:\\Users\\Renan\\AppData\\Local\\Programs\\Python\\Python310\\lib\\site-packages\\statsmodels\\tsa\\statespace\\sarimax.py:866: UserWarning: Too few observations to estimate starting parameters for seasonal ARMA. All parameters except for variances will be set to zeros.\n",
      "  warn('Too few observations to estimate starting parameters%s.'\n"
     ]
    },
    {
     "name": "stdout",
     "output_type": "stream",
     "text": [
      "Processando: OI - BA\n",
      "Processando: TIM - BA\n"
     ]
    },
    {
     "name": "stderr",
     "output_type": "stream",
     "text": [
      "C:\\Users\\Renan\\AppData\\Local\\Programs\\Python\\Python310\\lib\\site-packages\\statsmodels\\tsa\\statespace\\sarimax.py:866: UserWarning: Too few observations to estimate starting parameters for seasonal ARMA. All parameters except for variances will be set to zeros.\n",
      "  warn('Too few observations to estimate starting parameters%s.'\n",
      "C:\\Users\\Renan\\AppData\\Local\\Programs\\Python\\Python310\\lib\\site-packages\\statsmodels\\base\\model.py:607: ConvergenceWarning: Maximum Likelihood optimization failed to converge. Check mle_retvals\n",
      "  warnings.warn(\"Maximum Likelihood optimization failed to \"\n",
      "C:\\Users\\Renan\\AppData\\Local\\Programs\\Python\\Python310\\lib\\site-packages\\statsmodels\\tsa\\statespace\\sarimax.py:866: UserWarning: Too few observations to estimate starting parameters for seasonal ARMA. All parameters except for variances will be set to zeros.\n",
      "  warn('Too few observations to estimate starting parameters%s.'\n"
     ]
    },
    {
     "name": "stdout",
     "output_type": "stream",
     "text": [
      "Processando: VIVO - BA\n"
     ]
    },
    {
     "name": "stderr",
     "output_type": "stream",
     "text": [
      "C:\\Users\\Renan\\AppData\\Local\\Programs\\Python\\Python310\\lib\\site-packages\\statsmodels\\base\\model.py:607: ConvergenceWarning: Maximum Likelihood optimization failed to converge. Check mle_retvals\n",
      "  warnings.warn(\"Maximum Likelihood optimization failed to \"\n",
      "C:\\Users\\Renan\\AppData\\Local\\Programs\\Python\\Python310\\lib\\site-packages\\statsmodels\\tsa\\statespace\\sarimax.py:866: UserWarning: Too few observations to estimate starting parameters for seasonal ARMA. All parameters except for variances will be set to zeros.\n",
      "  warn('Too few observations to estimate starting parameters%s.'\n"
     ]
    },
    {
     "name": "stdout",
     "output_type": "stream",
     "text": [
      "Processando: CLARO - CE\n"
     ]
    },
    {
     "name": "stderr",
     "output_type": "stream",
     "text": [
      "C:\\Users\\Renan\\AppData\\Local\\Programs\\Python\\Python310\\lib\\site-packages\\statsmodels\\base\\model.py:607: ConvergenceWarning: Maximum Likelihood optimization failed to converge. Check mle_retvals\n",
      "  warnings.warn(\"Maximum Likelihood optimization failed to \"\n",
      "C:\\Users\\Renan\\AppData\\Local\\Programs\\Python\\Python310\\lib\\site-packages\\statsmodels\\tsa\\statespace\\sarimax.py:866: UserWarning: Too few observations to estimate starting parameters for ARMA and trend. All parameters except for variances will be set to zeros.\n",
      "  warn('Too few observations to estimate starting parameters%s.'\n",
      "C:\\Users\\Renan\\AppData\\Local\\Programs\\Python\\Python310\\lib\\site-packages\\statsmodels\\tsa\\statespace\\sarimax.py:866: UserWarning: Too few observations to estimate starting parameters for seasonal ARMA. All parameters except for variances will be set to zeros.\n",
      "  warn('Too few observations to estimate starting parameters%s.'\n"
     ]
    },
    {
     "name": "stdout",
     "output_type": "stream",
     "text": [
      "Processando: OI - CE\n",
      "Processando: TIM - CE\n"
     ]
    },
    {
     "name": "stderr",
     "output_type": "stream",
     "text": [
      "C:\\Users\\Renan\\AppData\\Local\\Programs\\Python\\Python310\\lib\\site-packages\\statsmodels\\tsa\\statespace\\sarimax.py:866: UserWarning: Too few observations to estimate starting parameters for seasonal ARMA. All parameters except for variances will be set to zeros.\n",
      "  warn('Too few observations to estimate starting parameters%s.'\n",
      "C:\\Users\\Renan\\AppData\\Local\\Programs\\Python\\Python310\\lib\\site-packages\\statsmodels\\base\\model.py:607: ConvergenceWarning: Maximum Likelihood optimization failed to converge. Check mle_retvals\n",
      "  warnings.warn(\"Maximum Likelihood optimization failed to \"\n"
     ]
    },
    {
     "name": "stdout",
     "output_type": "stream",
     "text": [
      "Processando: VIVO - CE\n"
     ]
    },
    {
     "name": "stderr",
     "output_type": "stream",
     "text": [
      "C:\\Users\\Renan\\AppData\\Local\\Programs\\Python\\Python310\\lib\\site-packages\\statsmodels\\tsa\\statespace\\sarimax.py:866: UserWarning: Too few observations to estimate starting parameters for seasonal ARMA. All parameters except for variances will be set to zeros.\n",
      "  warn('Too few observations to estimate starting parameters%s.'\n",
      "C:\\Users\\Renan\\AppData\\Local\\Programs\\Python\\Python310\\lib\\site-packages\\statsmodels\\base\\model.py:607: ConvergenceWarning: Maximum Likelihood optimization failed to converge. Check mle_retvals\n",
      "  warnings.warn(\"Maximum Likelihood optimization failed to \"\n",
      "C:\\Users\\Renan\\AppData\\Local\\Programs\\Python\\Python310\\lib\\site-packages\\statsmodels\\tsa\\statespace\\sarimax.py:866: UserWarning: Too few observations to estimate starting parameters for seasonal ARMA. All parameters except for variances will be set to zeros.\n",
      "  warn('Too few observations to estimate starting parameters%s.'\n"
     ]
    },
    {
     "name": "stdout",
     "output_type": "stream",
     "text": [
      "Processando: CLARO - DF\n"
     ]
    },
    {
     "name": "stderr",
     "output_type": "stream",
     "text": [
      "C:\\Users\\Renan\\AppData\\Local\\Programs\\Python\\Python310\\lib\\site-packages\\statsmodels\\base\\model.py:607: ConvergenceWarning: Maximum Likelihood optimization failed to converge. Check mle_retvals\n",
      "  warnings.warn(\"Maximum Likelihood optimization failed to \"\n",
      "C:\\Users\\Renan\\AppData\\Local\\Programs\\Python\\Python310\\lib\\site-packages\\statsmodels\\tsa\\statespace\\sarimax.py:866: UserWarning: Too few observations to estimate starting parameters for ARMA and trend. All parameters except for variances will be set to zeros.\n",
      "  warn('Too few observations to estimate starting parameters%s.'\n",
      "C:\\Users\\Renan\\AppData\\Local\\Programs\\Python\\Python310\\lib\\site-packages\\statsmodels\\tsa\\statespace\\sarimax.py:866: UserWarning: Too few observations to estimate starting parameters for seasonal ARMA. All parameters except for variances will be set to zeros.\n",
      "  warn('Too few observations to estimate starting parameters%s.'\n"
     ]
    },
    {
     "name": "stdout",
     "output_type": "stream",
     "text": [
      "Processando: OI - DF\n",
      "Processando: TIM - DF\n"
     ]
    },
    {
     "name": "stderr",
     "output_type": "stream",
     "text": [
      "C:\\Users\\Renan\\AppData\\Local\\Programs\\Python\\Python310\\lib\\site-packages\\statsmodels\\tsa\\statespace\\sarimax.py:866: UserWarning: Too few observations to estimate starting parameters for seasonal ARMA. All parameters except for variances will be set to zeros.\n",
      "  warn('Too few observations to estimate starting parameters%s.'\n",
      "C:\\Users\\Renan\\AppData\\Local\\Programs\\Python\\Python310\\lib\\site-packages\\statsmodels\\base\\model.py:607: ConvergenceWarning: Maximum Likelihood optimization failed to converge. Check mle_retvals\n",
      "  warnings.warn(\"Maximum Likelihood optimization failed to \"\n",
      "C:\\Users\\Renan\\AppData\\Local\\Programs\\Python\\Python310\\lib\\site-packages\\statsmodels\\tsa\\statespace\\sarimax.py:866: UserWarning: Too few observations to estimate starting parameters for seasonal ARMA. All parameters except for variances will be set to zeros.\n",
      "  warn('Too few observations to estimate starting parameters%s.'\n"
     ]
    },
    {
     "name": "stdout",
     "output_type": "stream",
     "text": [
      "Processando: VIVO - DF\n"
     ]
    },
    {
     "name": "stderr",
     "output_type": "stream",
     "text": [
      "C:\\Users\\Renan\\AppData\\Local\\Programs\\Python\\Python310\\lib\\site-packages\\statsmodels\\base\\model.py:607: ConvergenceWarning: Maximum Likelihood optimization failed to converge. Check mle_retvals\n",
      "  warnings.warn(\"Maximum Likelihood optimization failed to \"\n"
     ]
    },
    {
     "name": "stdout",
     "output_type": "stream",
     "text": [
      "Processando: CLARO - ES\n"
     ]
    },
    {
     "name": "stderr",
     "output_type": "stream",
     "text": [
      "C:\\Users\\Renan\\AppData\\Local\\Programs\\Python\\Python310\\lib\\site-packages\\statsmodels\\tsa\\statespace\\sarimax.py:866: UserWarning: Too few observations to estimate starting parameters for seasonal ARMA. All parameters except for variances will be set to zeros.\n",
      "  warn('Too few observations to estimate starting parameters%s.'\n",
      "C:\\Users\\Renan\\AppData\\Local\\Programs\\Python\\Python310\\lib\\site-packages\\statsmodels\\base\\model.py:607: ConvergenceWarning: Maximum Likelihood optimization failed to converge. Check mle_retvals\n",
      "  warnings.warn(\"Maximum Likelihood optimization failed to \"\n",
      "C:\\Users\\Renan\\AppData\\Local\\Programs\\Python\\Python310\\lib\\site-packages\\statsmodels\\tsa\\statespace\\sarimax.py:866: UserWarning: Too few observations to estimate starting parameters for ARMA and trend. All parameters except for variances will be set to zeros.\n",
      "  warn('Too few observations to estimate starting parameters%s.'\n",
      "C:\\Users\\Renan\\AppData\\Local\\Programs\\Python\\Python310\\lib\\site-packages\\statsmodels\\tsa\\statespace\\sarimax.py:866: UserWarning: Too few observations to estimate starting parameters for seasonal ARMA. All parameters except for variances will be set to zeros.\n",
      "  warn('Too few observations to estimate starting parameters%s.'\n"
     ]
    },
    {
     "name": "stdout",
     "output_type": "stream",
     "text": [
      "Processando: OI - ES\n",
      "Processando: TIM - ES\n"
     ]
    },
    {
     "name": "stderr",
     "output_type": "stream",
     "text": [
      "C:\\Users\\Renan\\AppData\\Local\\Programs\\Python\\Python310\\lib\\site-packages\\statsmodels\\tsa\\statespace\\sarimax.py:866: UserWarning: Too few observations to estimate starting parameters for seasonal ARMA. All parameters except for variances will be set to zeros.\n",
      "  warn('Too few observations to estimate starting parameters%s.'\n",
      "C:\\Users\\Renan\\AppData\\Local\\Programs\\Python\\Python310\\lib\\site-packages\\statsmodels\\base\\model.py:607: ConvergenceWarning: Maximum Likelihood optimization failed to converge. Check mle_retvals\n",
      "  warnings.warn(\"Maximum Likelihood optimization failed to \"\n",
      "C:\\Users\\Renan\\AppData\\Local\\Programs\\Python\\Python310\\lib\\site-packages\\statsmodels\\tsa\\statespace\\sarimax.py:866: UserWarning: Too few observations to estimate starting parameters for seasonal ARMA. All parameters except for variances will be set to zeros.\n",
      "  warn('Too few observations to estimate starting parameters%s.'\n"
     ]
    },
    {
     "name": "stdout",
     "output_type": "stream",
     "text": [
      "Processando: VIVO - ES\n"
     ]
    },
    {
     "name": "stderr",
     "output_type": "stream",
     "text": [
      "C:\\Users\\Renan\\AppData\\Local\\Programs\\Python\\Python310\\lib\\site-packages\\statsmodels\\base\\model.py:607: ConvergenceWarning: Maximum Likelihood optimization failed to converge. Check mle_retvals\n",
      "  warnings.warn(\"Maximum Likelihood optimization failed to \"\n",
      "C:\\Users\\Renan\\AppData\\Local\\Programs\\Python\\Python310\\lib\\site-packages\\statsmodels\\tsa\\statespace\\sarimax.py:866: UserWarning: Too few observations to estimate starting parameters for seasonal ARMA. All parameters except for variances will be set to zeros.\n",
      "  warn('Too few observations to estimate starting parameters%s.'\n"
     ]
    },
    {
     "name": "stdout",
     "output_type": "stream",
     "text": [
      "Processando: ALGAR - GO\n"
     ]
    },
    {
     "name": "stderr",
     "output_type": "stream",
     "text": [
      "C:\\Users\\Renan\\AppData\\Local\\Programs\\Python\\Python310\\lib\\site-packages\\statsmodels\\base\\model.py:607: ConvergenceWarning: Maximum Likelihood optimization failed to converge. Check mle_retvals\n",
      "  warnings.warn(\"Maximum Likelihood optimization failed to \"\n",
      "C:\\Users\\Renan\\AppData\\Local\\Programs\\Python\\Python310\\lib\\site-packages\\statsmodels\\tsa\\statespace\\sarimax.py:866: UserWarning: Too few observations to estimate starting parameters for seasonal ARMA. All parameters except for variances will be set to zeros.\n",
      "  warn('Too few observations to estimate starting parameters%s.'\n"
     ]
    },
    {
     "name": "stdout",
     "output_type": "stream",
     "text": [
      "Processando: CLARO - GO\n"
     ]
    },
    {
     "name": "stderr",
     "output_type": "stream",
     "text": [
      "C:\\Users\\Renan\\AppData\\Local\\Programs\\Python\\Python310\\lib\\site-packages\\statsmodels\\base\\model.py:607: ConvergenceWarning: Maximum Likelihood optimization failed to converge. Check mle_retvals\n",
      "  warnings.warn(\"Maximum Likelihood optimization failed to \"\n"
     ]
    },
    {
     "name": "stdout",
     "output_type": "stream",
     "text": [
      "Processando: OI - GO\n"
     ]
    },
    {
     "name": "stderr",
     "output_type": "stream",
     "text": [
      "C:\\Users\\Renan\\AppData\\Local\\Programs\\Python\\Python310\\lib\\site-packages\\statsmodels\\tsa\\statespace\\sarimax.py:866: UserWarning: Too few observations to estimate starting parameters for ARMA and trend. All parameters except for variances will be set to zeros.\n",
      "  warn('Too few observations to estimate starting parameters%s.'\n",
      "C:\\Users\\Renan\\AppData\\Local\\Programs\\Python\\Python310\\lib\\site-packages\\statsmodels\\tsa\\statespace\\sarimax.py:866: UserWarning: Too few observations to estimate starting parameters for seasonal ARMA. All parameters except for variances will be set to zeros.\n",
      "  warn('Too few observations to estimate starting parameters%s.'\n"
     ]
    },
    {
     "name": "stdout",
     "output_type": "stream",
     "text": [
      "Processando: TIM - GO\n"
     ]
    },
    {
     "name": "stderr",
     "output_type": "stream",
     "text": [
      "C:\\Users\\Renan\\AppData\\Local\\Programs\\Python\\Python310\\lib\\site-packages\\statsmodels\\tsa\\statespace\\sarimax.py:866: UserWarning: Too few observations to estimate starting parameters for seasonal ARMA. All parameters except for variances will be set to zeros.\n",
      "  warn('Too few observations to estimate starting parameters%s.'\n",
      "C:\\Users\\Renan\\AppData\\Local\\Programs\\Python\\Python310\\lib\\site-packages\\statsmodels\\base\\model.py:607: ConvergenceWarning: Maximum Likelihood optimization failed to converge. Check mle_retvals\n",
      "  warnings.warn(\"Maximum Likelihood optimization failed to \"\n"
     ]
    },
    {
     "name": "stdout",
     "output_type": "stream",
     "text": [
      "Processando: VIVO - GO\n"
     ]
    },
    {
     "name": "stderr",
     "output_type": "stream",
     "text": [
      "C:\\Users\\Renan\\AppData\\Local\\Programs\\Python\\Python310\\lib\\site-packages\\statsmodels\\tsa\\statespace\\sarimax.py:866: UserWarning: Too few observations to estimate starting parameters for seasonal ARMA. All parameters except for variances will be set to zeros.\n",
      "  warn('Too few observations to estimate starting parameters%s.'\n",
      "C:\\Users\\Renan\\AppData\\Local\\Programs\\Python\\Python310\\lib\\site-packages\\statsmodels\\base\\model.py:607: ConvergenceWarning: Maximum Likelihood optimization failed to converge. Check mle_retvals\n",
      "  warnings.warn(\"Maximum Likelihood optimization failed to \"\n",
      "C:\\Users\\Renan\\AppData\\Local\\Programs\\Python\\Python310\\lib\\site-packages\\statsmodels\\tsa\\statespace\\sarimax.py:866: UserWarning: Too few observations to estimate starting parameters for seasonal ARMA. All parameters except for variances will be set to zeros.\n",
      "  warn('Too few observations to estimate starting parameters%s.'\n"
     ]
    },
    {
     "name": "stdout",
     "output_type": "stream",
     "text": [
      "Processando: CLARO - MA\n"
     ]
    },
    {
     "name": "stderr",
     "output_type": "stream",
     "text": [
      "C:\\Users\\Renan\\AppData\\Local\\Programs\\Python\\Python310\\lib\\site-packages\\statsmodels\\base\\model.py:607: ConvergenceWarning: Maximum Likelihood optimization failed to converge. Check mle_retvals\n",
      "  warnings.warn(\"Maximum Likelihood optimization failed to \"\n"
     ]
    },
    {
     "name": "stdout",
     "output_type": "stream",
     "text": [
      "Processando: OI - MA\n",
      "Processando: TIM - MA\n"
     ]
    },
    {
     "name": "stderr",
     "output_type": "stream",
     "text": [
      "C:\\Users\\Renan\\AppData\\Local\\Programs\\Python\\Python310\\lib\\site-packages\\statsmodels\\tsa\\statespace\\sarimax.py:866: UserWarning: Too few observations to estimate starting parameters for ARMA and trend. All parameters except for variances will be set to zeros.\n",
      "  warn('Too few observations to estimate starting parameters%s.'\n",
      "C:\\Users\\Renan\\AppData\\Local\\Programs\\Python\\Python310\\lib\\site-packages\\statsmodels\\tsa\\statespace\\sarimax.py:866: UserWarning: Too few observations to estimate starting parameters for seasonal ARMA. All parameters except for variances will be set to zeros.\n",
      "  warn('Too few observations to estimate starting parameters%s.'\n",
      "C:\\Users\\Renan\\AppData\\Local\\Programs\\Python\\Python310\\lib\\site-packages\\statsmodels\\tsa\\statespace\\sarimax.py:866: UserWarning: Too few observations to estimate starting parameters for seasonal ARMA. All parameters except for variances will be set to zeros.\n",
      "  warn('Too few observations to estimate starting parameters%s.'\n",
      "C:\\Users\\Renan\\AppData\\Local\\Programs\\Python\\Python310\\lib\\site-packages\\statsmodels\\base\\model.py:607: ConvergenceWarning: Maximum Likelihood optimization failed to converge. Check mle_retvals\n",
      "  warnings.warn(\"Maximum Likelihood optimization failed to \"\n",
      "C:\\Users\\Renan\\AppData\\Local\\Programs\\Python\\Python310\\lib\\site-packages\\statsmodels\\tsa\\statespace\\sarimax.py:866: UserWarning: Too few observations to estimate starting parameters for seasonal ARMA. All parameters except for variances will be set to zeros.\n",
      "  warn('Too few observations to estimate starting parameters%s.'\n"
     ]
    },
    {
     "name": "stdout",
     "output_type": "stream",
     "text": [
      "Processando: VIVO - MA\n"
     ]
    },
    {
     "name": "stderr",
     "output_type": "stream",
     "text": [
      "C:\\Users\\Renan\\AppData\\Local\\Programs\\Python\\Python310\\lib\\site-packages\\statsmodels\\base\\model.py:607: ConvergenceWarning: Maximum Likelihood optimization failed to converge. Check mle_retvals\n",
      "  warnings.warn(\"Maximum Likelihood optimization failed to \"\n",
      "C:\\Users\\Renan\\AppData\\Local\\Programs\\Python\\Python310\\lib\\site-packages\\statsmodels\\tsa\\statespace\\sarimax.py:866: UserWarning: Too few observations to estimate starting parameters for seasonal ARMA. All parameters except for variances will be set to zeros.\n",
      "  warn('Too few observations to estimate starting parameters%s.'\n"
     ]
    },
    {
     "name": "stdout",
     "output_type": "stream",
     "text": [
      "Processando: ALGAR - MG\n"
     ]
    },
    {
     "name": "stderr",
     "output_type": "stream",
     "text": [
      "C:\\Users\\Renan\\AppData\\Local\\Programs\\Python\\Python310\\lib\\site-packages\\statsmodels\\base\\model.py:607: ConvergenceWarning: Maximum Likelihood optimization failed to converge. Check mle_retvals\n",
      "  warnings.warn(\"Maximum Likelihood optimization failed to \"\n"
     ]
    },
    {
     "name": "stdout",
     "output_type": "stream",
     "text": [
      "Processando: CLARO - MG\n"
     ]
    },
    {
     "name": "stderr",
     "output_type": "stream",
     "text": [
      "C:\\Users\\Renan\\AppData\\Local\\Programs\\Python\\Python310\\lib\\site-packages\\statsmodels\\tsa\\statespace\\sarimax.py:866: UserWarning: Too few observations to estimate starting parameters for seasonal ARMA. All parameters except for variances will be set to zeros.\n",
      "  warn('Too few observations to estimate starting parameters%s.'\n",
      "C:\\Users\\Renan\\AppData\\Local\\Programs\\Python\\Python310\\lib\\site-packages\\statsmodels\\base\\model.py:607: ConvergenceWarning: Maximum Likelihood optimization failed to converge. Check mle_retvals\n",
      "  warnings.warn(\"Maximum Likelihood optimization failed to \"\n",
      "C:\\Users\\Renan\\AppData\\Local\\Programs\\Python\\Python310\\lib\\site-packages\\statsmodels\\tsa\\statespace\\sarimax.py:866: UserWarning: Too few observations to estimate starting parameters for ARMA and trend. All parameters except for variances will be set to zeros.\n",
      "  warn('Too few observations to estimate starting parameters%s.'\n",
      "C:\\Users\\Renan\\AppData\\Local\\Programs\\Python\\Python310\\lib\\site-packages\\statsmodels\\tsa\\statespace\\sarimax.py:866: UserWarning: Too few observations to estimate starting parameters for seasonal ARMA. All parameters except for variances will be set to zeros.\n",
      "  warn('Too few observations to estimate starting parameters%s.'\n"
     ]
    },
    {
     "name": "stdout",
     "output_type": "stream",
     "text": [
      "Processando: OI - MG\n",
      "Processando: TIM - MG\n"
     ]
    },
    {
     "name": "stderr",
     "output_type": "stream",
     "text": [
      "C:\\Users\\Renan\\AppData\\Local\\Programs\\Python\\Python310\\lib\\site-packages\\statsmodels\\tsa\\statespace\\sarimax.py:866: UserWarning: Too few observations to estimate starting parameters for seasonal ARMA. All parameters except for variances will be set to zeros.\n",
      "  warn('Too few observations to estimate starting parameters%s.'\n",
      "C:\\Users\\Renan\\AppData\\Local\\Programs\\Python\\Python310\\lib\\site-packages\\statsmodels\\base\\model.py:607: ConvergenceWarning: Maximum Likelihood optimization failed to converge. Check mle_retvals\n",
      "  warnings.warn(\"Maximum Likelihood optimization failed to \"\n",
      "C:\\Users\\Renan\\AppData\\Local\\Programs\\Python\\Python310\\lib\\site-packages\\statsmodels\\tsa\\statespace\\sarimax.py:866: UserWarning: Too few observations to estimate starting parameters for seasonal ARMA. All parameters except for variances will be set to zeros.\n",
      "  warn('Too few observations to estimate starting parameters%s.'\n"
     ]
    },
    {
     "name": "stdout",
     "output_type": "stream",
     "text": [
      "Processando: VIVO - MG\n"
     ]
    },
    {
     "name": "stderr",
     "output_type": "stream",
     "text": [
      "C:\\Users\\Renan\\AppData\\Local\\Programs\\Python\\Python310\\lib\\site-packages\\statsmodels\\base\\model.py:607: ConvergenceWarning: Maximum Likelihood optimization failed to converge. Check mle_retvals\n",
      "  warnings.warn(\"Maximum Likelihood optimization failed to \"\n",
      "C:\\Users\\Renan\\AppData\\Local\\Programs\\Python\\Python310\\lib\\site-packages\\statsmodels\\tsa\\statespace\\sarimax.py:866: UserWarning: Too few observations to estimate starting parameters for seasonal ARMA. All parameters except for variances will be set to zeros.\n",
      "  warn('Too few observations to estimate starting parameters%s.'\n"
     ]
    },
    {
     "name": "stdout",
     "output_type": "stream",
     "text": [
      "Processando: CLARO - MS\n"
     ]
    },
    {
     "name": "stderr",
     "output_type": "stream",
     "text": [
      "C:\\Users\\Renan\\AppData\\Local\\Programs\\Python\\Python310\\lib\\site-packages\\statsmodels\\base\\model.py:607: ConvergenceWarning: Maximum Likelihood optimization failed to converge. Check mle_retvals\n",
      "  warnings.warn(\"Maximum Likelihood optimization failed to \"\n"
     ]
    },
    {
     "name": "stdout",
     "output_type": "stream",
     "text": [
      "Processando: TIM - MS\n"
     ]
    },
    {
     "name": "stderr",
     "output_type": "stream",
     "text": [
      "C:\\Users\\Renan\\AppData\\Local\\Programs\\Python\\Python310\\lib\\site-packages\\statsmodels\\tsa\\statespace\\sarimax.py:866: UserWarning: Too few observations to estimate starting parameters for seasonal ARMA. All parameters except for variances will be set to zeros.\n",
      "  warn('Too few observations to estimate starting parameters%s.'\n",
      "C:\\Users\\Renan\\AppData\\Local\\Programs\\Python\\Python310\\lib\\site-packages\\statsmodels\\base\\model.py:607: ConvergenceWarning: Maximum Likelihood optimization failed to converge. Check mle_retvals\n",
      "  warnings.warn(\"Maximum Likelihood optimization failed to \"\n",
      "C:\\Users\\Renan\\AppData\\Local\\Programs\\Python\\Python310\\lib\\site-packages\\statsmodels\\tsa\\statespace\\sarimax.py:866: UserWarning: Too few observations to estimate starting parameters for seasonal ARMA. All parameters except for variances will be set to zeros.\n",
      "  warn('Too few observations to estimate starting parameters%s.'\n"
     ]
    },
    {
     "name": "stdout",
     "output_type": "stream",
     "text": [
      "Processando: VIVO - MS\n"
     ]
    },
    {
     "name": "stderr",
     "output_type": "stream",
     "text": [
      "C:\\Users\\Renan\\AppData\\Local\\Programs\\Python\\Python310\\lib\\site-packages\\statsmodels\\base\\model.py:607: ConvergenceWarning: Maximum Likelihood optimization failed to converge. Check mle_retvals\n",
      "  warnings.warn(\"Maximum Likelihood optimization failed to \"\n",
      "C:\\Users\\Renan\\AppData\\Local\\Programs\\Python\\Python310\\lib\\site-packages\\statsmodels\\tsa\\statespace\\sarimax.py:866: UserWarning: Too few observations to estimate starting parameters for seasonal ARMA. All parameters except for variances will be set to zeros.\n",
      "  warn('Too few observations to estimate starting parameters%s.'\n"
     ]
    },
    {
     "name": "stdout",
     "output_type": "stream",
     "text": [
      "Processando: CLARO - MT\n"
     ]
    },
    {
     "name": "stderr",
     "output_type": "stream",
     "text": [
      "C:\\Users\\Renan\\AppData\\Local\\Programs\\Python\\Python310\\lib\\site-packages\\statsmodels\\base\\model.py:607: ConvergenceWarning: Maximum Likelihood optimization failed to converge. Check mle_retvals\n",
      "  warnings.warn(\"Maximum Likelihood optimization failed to \"\n",
      "C:\\Users\\Renan\\AppData\\Local\\Programs\\Python\\Python310\\lib\\site-packages\\statsmodels\\tsa\\statespace\\sarimax.py:866: UserWarning: Too few observations to estimate starting parameters for ARMA and trend. All parameters except for variances will be set to zeros.\n",
      "  warn('Too few observations to estimate starting parameters%s.'\n",
      "C:\\Users\\Renan\\AppData\\Local\\Programs\\Python\\Python310\\lib\\site-packages\\statsmodels\\tsa\\statespace\\sarimax.py:866: UserWarning: Too few observations to estimate starting parameters for seasonal ARMA. All parameters except for variances will be set to zeros.\n",
      "  warn('Too few observations to estimate starting parameters%s.'\n"
     ]
    },
    {
     "name": "stdout",
     "output_type": "stream",
     "text": [
      "Processando: OI - MT\n",
      "Processando: TIM - MT\n"
     ]
    },
    {
     "name": "stderr",
     "output_type": "stream",
     "text": [
      "C:\\Users\\Renan\\AppData\\Local\\Programs\\Python\\Python310\\lib\\site-packages\\statsmodels\\tsa\\statespace\\sarimax.py:866: UserWarning: Too few observations to estimate starting parameters for seasonal ARMA. All parameters except for variances will be set to zeros.\n",
      "  warn('Too few observations to estimate starting parameters%s.'\n",
      "C:\\Users\\Renan\\AppData\\Local\\Programs\\Python\\Python310\\lib\\site-packages\\statsmodels\\base\\model.py:607: ConvergenceWarning: Maximum Likelihood optimization failed to converge. Check mle_retvals\n",
      "  warnings.warn(\"Maximum Likelihood optimization failed to \"\n",
      "C:\\Users\\Renan\\AppData\\Local\\Programs\\Python\\Python310\\lib\\site-packages\\statsmodels\\tsa\\statespace\\sarimax.py:866: UserWarning: Too few observations to estimate starting parameters for seasonal ARMA. All parameters except for variances will be set to zeros.\n",
      "  warn('Too few observations to estimate starting parameters%s.'\n"
     ]
    },
    {
     "name": "stdout",
     "output_type": "stream",
     "text": [
      "Processando: VIVO - MT\n"
     ]
    },
    {
     "name": "stderr",
     "output_type": "stream",
     "text": [
      "C:\\Users\\Renan\\AppData\\Local\\Programs\\Python\\Python310\\lib\\site-packages\\statsmodels\\base\\model.py:607: ConvergenceWarning: Maximum Likelihood optimization failed to converge. Check mle_retvals\n",
      "  warnings.warn(\"Maximum Likelihood optimization failed to \"\n",
      "C:\\Users\\Renan\\AppData\\Local\\Programs\\Python\\Python310\\lib\\site-packages\\statsmodels\\tsa\\statespace\\sarimax.py:866: UserWarning: Too few observations to estimate starting parameters for seasonal ARMA. All parameters except for variances will be set to zeros.\n",
      "  warn('Too few observations to estimate starting parameters%s.'\n"
     ]
    },
    {
     "name": "stdout",
     "output_type": "stream",
     "text": [
      "Processando: CLARO - PA\n"
     ]
    },
    {
     "name": "stderr",
     "output_type": "stream",
     "text": [
      "C:\\Users\\Renan\\AppData\\Local\\Programs\\Python\\Python310\\lib\\site-packages\\statsmodels\\base\\model.py:607: ConvergenceWarning: Maximum Likelihood optimization failed to converge. Check mle_retvals\n",
      "  warnings.warn(\"Maximum Likelihood optimization failed to \"\n",
      "C:\\Users\\Renan\\AppData\\Local\\Programs\\Python\\Python310\\lib\\site-packages\\statsmodels\\tsa\\statespace\\sarimax.py:866: UserWarning: Too few observations to estimate starting parameters for ARMA and trend. All parameters except for variances will be set to zeros.\n",
      "  warn('Too few observations to estimate starting parameters%s.'\n",
      "C:\\Users\\Renan\\AppData\\Local\\Programs\\Python\\Python310\\lib\\site-packages\\statsmodels\\tsa\\statespace\\sarimax.py:866: UserWarning: Too few observations to estimate starting parameters for seasonal ARMA. All parameters except for variances will be set to zeros.\n",
      "  warn('Too few observations to estimate starting parameters%s.'\n"
     ]
    },
    {
     "name": "stdout",
     "output_type": "stream",
     "text": [
      "Processando: OI - PA\n",
      "Processando: TIM - PA\n"
     ]
    },
    {
     "name": "stderr",
     "output_type": "stream",
     "text": [
      "C:\\Users\\Renan\\AppData\\Local\\Programs\\Python\\Python310\\lib\\site-packages\\statsmodels\\tsa\\statespace\\sarimax.py:866: UserWarning: Too few observations to estimate starting parameters for seasonal ARMA. All parameters except for variances will be set to zeros.\n",
      "  warn('Too few observations to estimate starting parameters%s.'\n",
      "C:\\Users\\Renan\\AppData\\Local\\Programs\\Python\\Python310\\lib\\site-packages\\statsmodels\\base\\model.py:607: ConvergenceWarning: Maximum Likelihood optimization failed to converge. Check mle_retvals\n",
      "  warnings.warn(\"Maximum Likelihood optimization failed to \"\n",
      "C:\\Users\\Renan\\AppData\\Local\\Programs\\Python\\Python310\\lib\\site-packages\\statsmodels\\tsa\\statespace\\sarimax.py:866: UserWarning: Too few observations to estimate starting parameters for seasonal ARMA. All parameters except for variances will be set to zeros.\n",
      "  warn('Too few observations to estimate starting parameters%s.'\n"
     ]
    },
    {
     "name": "stdout",
     "output_type": "stream",
     "text": [
      "Processando: VIVO - PA\n"
     ]
    },
    {
     "name": "stderr",
     "output_type": "stream",
     "text": [
      "C:\\Users\\Renan\\AppData\\Local\\Programs\\Python\\Python310\\lib\\site-packages\\statsmodels\\base\\model.py:607: ConvergenceWarning: Maximum Likelihood optimization failed to converge. Check mle_retvals\n",
      "  warnings.warn(\"Maximum Likelihood optimization failed to \"\n",
      "C:\\Users\\Renan\\AppData\\Local\\Programs\\Python\\Python310\\lib\\site-packages\\statsmodels\\tsa\\statespace\\sarimax.py:866: UserWarning: Too few observations to estimate starting parameters for seasonal ARMA. All parameters except for variances will be set to zeros.\n",
      "  warn('Too few observations to estimate starting parameters%s.'\n"
     ]
    },
    {
     "name": "stdout",
     "output_type": "stream",
     "text": [
      "Processando: CLARO - PB\n"
     ]
    },
    {
     "name": "stderr",
     "output_type": "stream",
     "text": [
      "C:\\Users\\Renan\\AppData\\Local\\Programs\\Python\\Python310\\lib\\site-packages\\statsmodels\\base\\model.py:607: ConvergenceWarning: Maximum Likelihood optimization failed to converge. Check mle_retvals\n",
      "  warnings.warn(\"Maximum Likelihood optimization failed to \"\n",
      "C:\\Users\\Renan\\AppData\\Local\\Programs\\Python\\Python310\\lib\\site-packages\\statsmodels\\tsa\\statespace\\sarimax.py:866: UserWarning: Too few observations to estimate starting parameters for ARMA and trend. All parameters except for variances will be set to zeros.\n",
      "  warn('Too few observations to estimate starting parameters%s.'\n",
      "C:\\Users\\Renan\\AppData\\Local\\Programs\\Python\\Python310\\lib\\site-packages\\statsmodels\\tsa\\statespace\\sarimax.py:866: UserWarning: Too few observations to estimate starting parameters for seasonal ARMA. All parameters except for variances will be set to zeros.\n",
      "  warn('Too few observations to estimate starting parameters%s.'\n"
     ]
    },
    {
     "name": "stdout",
     "output_type": "stream",
     "text": [
      "Processando: OI - PB\n",
      "Processando: TIM - PB\n"
     ]
    },
    {
     "name": "stderr",
     "output_type": "stream",
     "text": [
      "C:\\Users\\Renan\\AppData\\Local\\Programs\\Python\\Python310\\lib\\site-packages\\statsmodels\\tsa\\statespace\\sarimax.py:866: UserWarning: Too few observations to estimate starting parameters for seasonal ARMA. All parameters except for variances will be set to zeros.\n",
      "  warn('Too few observations to estimate starting parameters%s.'\n",
      "C:\\Users\\Renan\\AppData\\Local\\Programs\\Python\\Python310\\lib\\site-packages\\statsmodels\\base\\model.py:607: ConvergenceWarning: Maximum Likelihood optimization failed to converge. Check mle_retvals\n",
      "  warnings.warn(\"Maximum Likelihood optimization failed to \"\n",
      "C:\\Users\\Renan\\AppData\\Local\\Programs\\Python\\Python310\\lib\\site-packages\\statsmodels\\tsa\\statespace\\sarimax.py:866: UserWarning: Too few observations to estimate starting parameters for seasonal ARMA. All parameters except for variances will be set to zeros.\n",
      "  warn('Too few observations to estimate starting parameters%s.'\n"
     ]
    },
    {
     "name": "stdout",
     "output_type": "stream",
     "text": [
      "Processando: VIVO - PB\n"
     ]
    },
    {
     "name": "stderr",
     "output_type": "stream",
     "text": [
      "C:\\Users\\Renan\\AppData\\Local\\Programs\\Python\\Python310\\lib\\site-packages\\statsmodels\\base\\model.py:607: ConvergenceWarning: Maximum Likelihood optimization failed to converge. Check mle_retvals\n",
      "  warnings.warn(\"Maximum Likelihood optimization failed to \"\n",
      "C:\\Users\\Renan\\AppData\\Local\\Programs\\Python\\Python310\\lib\\site-packages\\statsmodels\\tsa\\statespace\\sarimax.py:866: UserWarning: Too few observations to estimate starting parameters for seasonal ARMA. All parameters except for variances will be set to zeros.\n",
      "  warn('Too few observations to estimate starting parameters%s.'\n"
     ]
    },
    {
     "name": "stdout",
     "output_type": "stream",
     "text": [
      "Processando: CLARO - PE\n"
     ]
    },
    {
     "name": "stderr",
     "output_type": "stream",
     "text": [
      "C:\\Users\\Renan\\AppData\\Local\\Programs\\Python\\Python310\\lib\\site-packages\\statsmodels\\base\\model.py:607: ConvergenceWarning: Maximum Likelihood optimization failed to converge. Check mle_retvals\n",
      "  warnings.warn(\"Maximum Likelihood optimization failed to \"\n",
      "C:\\Users\\Renan\\AppData\\Local\\Programs\\Python\\Python310\\lib\\site-packages\\statsmodels\\tsa\\statespace\\sarimax.py:866: UserWarning: Too few observations to estimate starting parameters for ARMA and trend. All parameters except for variances will be set to zeros.\n",
      "  warn('Too few observations to estimate starting parameters%s.'\n",
      "C:\\Users\\Renan\\AppData\\Local\\Programs\\Python\\Python310\\lib\\site-packages\\statsmodels\\tsa\\statespace\\sarimax.py:866: UserWarning: Too few observations to estimate starting parameters for seasonal ARMA. All parameters except for variances will be set to zeros.\n",
      "  warn('Too few observations to estimate starting parameters%s.'\n"
     ]
    },
    {
     "name": "stdout",
     "output_type": "stream",
     "text": [
      "Processando: OI - PE\n",
      "Processando: TIM - PE\n"
     ]
    },
    {
     "name": "stderr",
     "output_type": "stream",
     "text": [
      "C:\\Users\\Renan\\AppData\\Local\\Programs\\Python\\Python310\\lib\\site-packages\\statsmodels\\tsa\\statespace\\sarimax.py:866: UserWarning: Too few observations to estimate starting parameters for seasonal ARMA. All parameters except for variances will be set to zeros.\n",
      "  warn('Too few observations to estimate starting parameters%s.'\n",
      "C:\\Users\\Renan\\AppData\\Local\\Programs\\Python\\Python310\\lib\\site-packages\\statsmodels\\base\\model.py:607: ConvergenceWarning: Maximum Likelihood optimization failed to converge. Check mle_retvals\n",
      "  warnings.warn(\"Maximum Likelihood optimization failed to \"\n",
      "C:\\Users\\Renan\\AppData\\Local\\Programs\\Python\\Python310\\lib\\site-packages\\statsmodels\\tsa\\statespace\\sarimax.py:866: UserWarning: Too few observations to estimate starting parameters for seasonal ARMA. All parameters except for variances will be set to zeros.\n",
      "  warn('Too few observations to estimate starting parameters%s.'\n"
     ]
    },
    {
     "name": "stdout",
     "output_type": "stream",
     "text": [
      "Processando: VIVO - PE\n"
     ]
    },
    {
     "name": "stderr",
     "output_type": "stream",
     "text": [
      "C:\\Users\\Renan\\AppData\\Local\\Programs\\Python\\Python310\\lib\\site-packages\\statsmodels\\base\\model.py:607: ConvergenceWarning: Maximum Likelihood optimization failed to converge. Check mle_retvals\n",
      "  warnings.warn(\"Maximum Likelihood optimization failed to \"\n",
      "C:\\Users\\Renan\\AppData\\Local\\Programs\\Python\\Python310\\lib\\site-packages\\statsmodels\\tsa\\statespace\\sarimax.py:866: UserWarning: Too few observations to estimate starting parameters for seasonal ARMA. All parameters except for variances will be set to zeros.\n",
      "  warn('Too few observations to estimate starting parameters%s.'\n"
     ]
    },
    {
     "name": "stdout",
     "output_type": "stream",
     "text": [
      "Processando: CLARO - PI\n"
     ]
    },
    {
     "name": "stderr",
     "output_type": "stream",
     "text": [
      "C:\\Users\\Renan\\AppData\\Local\\Programs\\Python\\Python310\\lib\\site-packages\\statsmodels\\base\\model.py:607: ConvergenceWarning: Maximum Likelihood optimization failed to converge. Check mle_retvals\n",
      "  warnings.warn(\"Maximum Likelihood optimization failed to \"\n",
      "C:\\Users\\Renan\\AppData\\Local\\Programs\\Python\\Python310\\lib\\site-packages\\statsmodels\\tsa\\statespace\\sarimax.py:866: UserWarning: Too few observations to estimate starting parameters for ARMA and trend. All parameters except for variances will be set to zeros.\n",
      "  warn('Too few observations to estimate starting parameters%s.'\n",
      "C:\\Users\\Renan\\AppData\\Local\\Programs\\Python\\Python310\\lib\\site-packages\\statsmodels\\tsa\\statespace\\sarimax.py:866: UserWarning: Too few observations to estimate starting parameters for seasonal ARMA. All parameters except for variances will be set to zeros.\n",
      "  warn('Too few observations to estimate starting parameters%s.'\n"
     ]
    },
    {
     "name": "stdout",
     "output_type": "stream",
     "text": [
      "Processando: OI - PI\n",
      "Processando: TIM - PI\n"
     ]
    },
    {
     "name": "stderr",
     "output_type": "stream",
     "text": [
      "C:\\Users\\Renan\\AppData\\Local\\Programs\\Python\\Python310\\lib\\site-packages\\statsmodels\\tsa\\statespace\\sarimax.py:866: UserWarning: Too few observations to estimate starting parameters for seasonal ARMA. All parameters except for variances will be set to zeros.\n",
      "  warn('Too few observations to estimate starting parameters%s.'\n",
      "C:\\Users\\Renan\\AppData\\Local\\Programs\\Python\\Python310\\lib\\site-packages\\statsmodels\\base\\model.py:607: ConvergenceWarning: Maximum Likelihood optimization failed to converge. Check mle_retvals\n",
      "  warnings.warn(\"Maximum Likelihood optimization failed to \"\n",
      "C:\\Users\\Renan\\AppData\\Local\\Programs\\Python\\Python310\\lib\\site-packages\\statsmodels\\tsa\\statespace\\sarimax.py:866: UserWarning: Too few observations to estimate starting parameters for seasonal ARMA. All parameters except for variances will be set to zeros.\n",
      "  warn('Too few observations to estimate starting parameters%s.'\n"
     ]
    },
    {
     "name": "stdout",
     "output_type": "stream",
     "text": [
      "Processando: VIVO - PI\n"
     ]
    },
    {
     "name": "stderr",
     "output_type": "stream",
     "text": [
      "C:\\Users\\Renan\\AppData\\Local\\Programs\\Python\\Python310\\lib\\site-packages\\statsmodels\\base\\model.py:607: ConvergenceWarning: Maximum Likelihood optimization failed to converge. Check mle_retvals\n",
      "  warnings.warn(\"Maximum Likelihood optimization failed to \"\n",
      "C:\\Users\\Renan\\AppData\\Local\\Programs\\Python\\Python310\\lib\\site-packages\\statsmodels\\tsa\\statespace\\sarimax.py:866: UserWarning: Too few observations to estimate starting parameters for seasonal ARMA. All parameters except for variances will be set to zeros.\n",
      "  warn('Too few observations to estimate starting parameters%s.'\n"
     ]
    },
    {
     "name": "stdout",
     "output_type": "stream",
     "text": [
      "Processando: CLARO - PR\n"
     ]
    },
    {
     "name": "stderr",
     "output_type": "stream",
     "text": [
      "C:\\Users\\Renan\\AppData\\Local\\Programs\\Python\\Python310\\lib\\site-packages\\statsmodels\\base\\model.py:607: ConvergenceWarning: Maximum Likelihood optimization failed to converge. Check mle_retvals\n",
      "  warnings.warn(\"Maximum Likelihood optimization failed to \"\n"
     ]
    },
    {
     "name": "stdout",
     "output_type": "stream",
     "text": [
      "Processando: OI - PR\n"
     ]
    },
    {
     "name": "stderr",
     "output_type": "stream",
     "text": [
      "C:\\Users\\Renan\\AppData\\Local\\Programs\\Python\\Python310\\lib\\site-packages\\statsmodels\\tsa\\statespace\\sarimax.py:866: UserWarning: Too few observations to estimate starting parameters for ARMA and trend. All parameters except for variances will be set to zeros.\n",
      "  warn('Too few observations to estimate starting parameters%s.'\n",
      "C:\\Users\\Renan\\AppData\\Local\\Programs\\Python\\Python310\\lib\\site-packages\\statsmodels\\tsa\\statespace\\sarimax.py:866: UserWarning: Too few observations to estimate starting parameters for seasonal ARMA. All parameters except for variances will be set to zeros.\n",
      "  warn('Too few observations to estimate starting parameters%s.'\n"
     ]
    },
    {
     "name": "stdout",
     "output_type": "stream",
     "text": [
      "Processando: TIM - PR\n"
     ]
    },
    {
     "name": "stderr",
     "output_type": "stream",
     "text": [
      "C:\\Users\\Renan\\AppData\\Local\\Programs\\Python\\Python310\\lib\\site-packages\\statsmodels\\tsa\\statespace\\sarimax.py:866: UserWarning: Too few observations to estimate starting parameters for seasonal ARMA. All parameters except for variances will be set to zeros.\n",
      "  warn('Too few observations to estimate starting parameters%s.'\n",
      "C:\\Users\\Renan\\AppData\\Local\\Programs\\Python\\Python310\\lib\\site-packages\\statsmodels\\base\\model.py:607: ConvergenceWarning: Maximum Likelihood optimization failed to converge. Check mle_retvals\n",
      "  warnings.warn(\"Maximum Likelihood optimization failed to \"\n",
      "C:\\Users\\Renan\\AppData\\Local\\Programs\\Python\\Python310\\lib\\site-packages\\statsmodels\\tsa\\statespace\\sarimax.py:866: UserWarning: Too few observations to estimate starting parameters for seasonal ARMA. All parameters except for variances will be set to zeros.\n",
      "  warn('Too few observations to estimate starting parameters%s.'\n"
     ]
    },
    {
     "name": "stdout",
     "output_type": "stream",
     "text": [
      "Processando: VIVO - PR\n"
     ]
    },
    {
     "name": "stderr",
     "output_type": "stream",
     "text": [
      "C:\\Users\\Renan\\AppData\\Local\\Programs\\Python\\Python310\\lib\\site-packages\\statsmodels\\base\\model.py:607: ConvergenceWarning: Maximum Likelihood optimization failed to converge. Check mle_retvals\n",
      "  warnings.warn(\"Maximum Likelihood optimization failed to \"\n",
      "C:\\Users\\Renan\\AppData\\Local\\Programs\\Python\\Python310\\lib\\site-packages\\statsmodels\\tsa\\statespace\\sarimax.py:866: UserWarning: Too few observations to estimate starting parameters for seasonal ARMA. All parameters except for variances will be set to zeros.\n",
      "  warn('Too few observations to estimate starting parameters%s.'\n"
     ]
    },
    {
     "name": "stdout",
     "output_type": "stream",
     "text": [
      "Processando: CLARO - RJ\n"
     ]
    },
    {
     "name": "stderr",
     "output_type": "stream",
     "text": [
      "C:\\Users\\Renan\\AppData\\Local\\Programs\\Python\\Python310\\lib\\site-packages\\statsmodels\\base\\model.py:607: ConvergenceWarning: Maximum Likelihood optimization failed to converge. Check mle_retvals\n",
      "  warnings.warn(\"Maximum Likelihood optimization failed to \"\n",
      "C:\\Users\\Renan\\AppData\\Local\\Programs\\Python\\Python310\\lib\\site-packages\\statsmodels\\tsa\\statespace\\sarimax.py:866: UserWarning: Too few observations to estimate starting parameters for ARMA and trend. All parameters except for variances will be set to zeros.\n",
      "  warn('Too few observations to estimate starting parameters%s.'\n",
      "C:\\Users\\Renan\\AppData\\Local\\Programs\\Python\\Python310\\lib\\site-packages\\statsmodels\\tsa\\statespace\\sarimax.py:866: UserWarning: Too few observations to estimate starting parameters for seasonal ARMA. All parameters except for variances will be set to zeros.\n",
      "  warn('Too few observations to estimate starting parameters%s.'\n"
     ]
    },
    {
     "name": "stdout",
     "output_type": "stream",
     "text": [
      "Processando: OI - RJ\n",
      "Processando: TIM - RJ\n"
     ]
    },
    {
     "name": "stderr",
     "output_type": "stream",
     "text": [
      "C:\\Users\\Renan\\AppData\\Local\\Programs\\Python\\Python310\\lib\\site-packages\\statsmodels\\tsa\\statespace\\sarimax.py:866: UserWarning: Too few observations to estimate starting parameters for seasonal ARMA. All parameters except for variances will be set to zeros.\n",
      "  warn('Too few observations to estimate starting parameters%s.'\n",
      "C:\\Users\\Renan\\AppData\\Local\\Programs\\Python\\Python310\\lib\\site-packages\\statsmodels\\base\\model.py:607: ConvergenceWarning: Maximum Likelihood optimization failed to converge. Check mle_retvals\n",
      "  warnings.warn(\"Maximum Likelihood optimization failed to \"\n"
     ]
    },
    {
     "name": "stdout",
     "output_type": "stream",
     "text": [
      "Processando: VIVO - RJ\n"
     ]
    },
    {
     "name": "stderr",
     "output_type": "stream",
     "text": [
      "C:\\Users\\Renan\\AppData\\Local\\Programs\\Python\\Python310\\lib\\site-packages\\statsmodels\\tsa\\statespace\\sarimax.py:866: UserWarning: Too few observations to estimate starting parameters for seasonal ARMA. All parameters except for variances will be set to zeros.\n",
      "  warn('Too few observations to estimate starting parameters%s.'\n",
      "C:\\Users\\Renan\\AppData\\Local\\Programs\\Python\\Python310\\lib\\site-packages\\statsmodels\\base\\model.py:607: ConvergenceWarning: Maximum Likelihood optimization failed to converge. Check mle_retvals\n",
      "  warnings.warn(\"Maximum Likelihood optimization failed to \"\n",
      "C:\\Users\\Renan\\AppData\\Local\\Programs\\Python\\Python310\\lib\\site-packages\\statsmodels\\tsa\\statespace\\sarimax.py:866: UserWarning: Too few observations to estimate starting parameters for seasonal ARMA. All parameters except for variances will be set to zeros.\n",
      "  warn('Too few observations to estimate starting parameters%s.'\n"
     ]
    },
    {
     "name": "stdout",
     "output_type": "stream",
     "text": [
      "Processando: CLARO - RN\n"
     ]
    },
    {
     "name": "stderr",
     "output_type": "stream",
     "text": [
      "C:\\Users\\Renan\\AppData\\Local\\Programs\\Python\\Python310\\lib\\site-packages\\statsmodels\\base\\model.py:607: ConvergenceWarning: Maximum Likelihood optimization failed to converge. Check mle_retvals\n",
      "  warnings.warn(\"Maximum Likelihood optimization failed to \"\n",
      "C:\\Users\\Renan\\AppData\\Local\\Programs\\Python\\Python310\\lib\\site-packages\\statsmodels\\tsa\\statespace\\sarimax.py:866: UserWarning: Too few observations to estimate starting parameters for ARMA and trend. All parameters except for variances will be set to zeros.\n",
      "  warn('Too few observations to estimate starting parameters%s.'\n",
      "C:\\Users\\Renan\\AppData\\Local\\Programs\\Python\\Python310\\lib\\site-packages\\statsmodels\\tsa\\statespace\\sarimax.py:866: UserWarning: Too few observations to estimate starting parameters for seasonal ARMA. All parameters except for variances will be set to zeros.\n",
      "  warn('Too few observations to estimate starting parameters%s.'\n"
     ]
    },
    {
     "name": "stdout",
     "output_type": "stream",
     "text": [
      "Processando: OI - RN\n",
      "Processando: TIM - RN\n"
     ]
    },
    {
     "name": "stderr",
     "output_type": "stream",
     "text": [
      "C:\\Users\\Renan\\AppData\\Local\\Programs\\Python\\Python310\\lib\\site-packages\\statsmodels\\tsa\\statespace\\sarimax.py:866: UserWarning: Too few observations to estimate starting parameters for seasonal ARMA. All parameters except for variances will be set to zeros.\n",
      "  warn('Too few observations to estimate starting parameters%s.'\n",
      "C:\\Users\\Renan\\AppData\\Local\\Programs\\Python\\Python310\\lib\\site-packages\\statsmodels\\base\\model.py:607: ConvergenceWarning: Maximum Likelihood optimization failed to converge. Check mle_retvals\n",
      "  warnings.warn(\"Maximum Likelihood optimization failed to \"\n",
      "C:\\Users\\Renan\\AppData\\Local\\Programs\\Python\\Python310\\lib\\site-packages\\statsmodels\\tsa\\statespace\\sarimax.py:866: UserWarning: Too few observations to estimate starting parameters for seasonal ARMA. All parameters except for variances will be set to zeros.\n",
      "  warn('Too few observations to estimate starting parameters%s.'\n"
     ]
    },
    {
     "name": "stdout",
     "output_type": "stream",
     "text": [
      "Processando: VIVO - RN\n"
     ]
    },
    {
     "name": "stderr",
     "output_type": "stream",
     "text": [
      "C:\\Users\\Renan\\AppData\\Local\\Programs\\Python\\Python310\\lib\\site-packages\\statsmodels\\base\\model.py:607: ConvergenceWarning: Maximum Likelihood optimization failed to converge. Check mle_retvals\n",
      "  warnings.warn(\"Maximum Likelihood optimization failed to \"\n",
      "C:\\Users\\Renan\\AppData\\Local\\Programs\\Python\\Python310\\lib\\site-packages\\statsmodels\\tsa\\statespace\\sarimax.py:866: UserWarning: Too few observations to estimate starting parameters for seasonal ARMA. All parameters except for variances will be set to zeros.\n",
      "  warn('Too few observations to estimate starting parameters%s.'\n"
     ]
    },
    {
     "name": "stdout",
     "output_type": "stream",
     "text": [
      "Processando: CLARO - RO\n"
     ]
    },
    {
     "name": "stderr",
     "output_type": "stream",
     "text": [
      "C:\\Users\\Renan\\AppData\\Local\\Programs\\Python\\Python310\\lib\\site-packages\\statsmodels\\base\\model.py:607: ConvergenceWarning: Maximum Likelihood optimization failed to converge. Check mle_retvals\n",
      "  warnings.warn(\"Maximum Likelihood optimization failed to \"\n",
      "C:\\Users\\Renan\\AppData\\Local\\Programs\\Python\\Python310\\lib\\site-packages\\statsmodels\\tsa\\statespace\\sarimax.py:866: UserWarning: Too few observations to estimate starting parameters for ARMA and trend. All parameters except for variances will be set to zeros.\n",
      "  warn('Too few observations to estimate starting parameters%s.'\n",
      "C:\\Users\\Renan\\AppData\\Local\\Programs\\Python\\Python310\\lib\\site-packages\\statsmodels\\tsa\\statespace\\sarimax.py:866: UserWarning: Too few observations to estimate starting parameters for seasonal ARMA. All parameters except for variances will be set to zeros.\n",
      "  warn('Too few observations to estimate starting parameters%s.'\n"
     ]
    },
    {
     "name": "stdout",
     "output_type": "stream",
     "text": [
      "Processando: OI - RO\n",
      "Processando: TIM - RO\n"
     ]
    },
    {
     "name": "stderr",
     "output_type": "stream",
     "text": [
      "C:\\Users\\Renan\\AppData\\Local\\Programs\\Python\\Python310\\lib\\site-packages\\statsmodels\\tsa\\statespace\\sarimax.py:866: UserWarning: Too few observations to estimate starting parameters for seasonal ARMA. All parameters except for variances will be set to zeros.\n",
      "  warn('Too few observations to estimate starting parameters%s.'\n",
      "C:\\Users\\Renan\\AppData\\Local\\Programs\\Python\\Python310\\lib\\site-packages\\statsmodels\\base\\model.py:607: ConvergenceWarning: Maximum Likelihood optimization failed to converge. Check mle_retvals\n",
      "  warnings.warn(\"Maximum Likelihood optimization failed to \"\n",
      "C:\\Users\\Renan\\AppData\\Local\\Programs\\Python\\Python310\\lib\\site-packages\\statsmodels\\tsa\\statespace\\sarimax.py:866: UserWarning: Too few observations to estimate starting parameters for seasonal ARMA. All parameters except for variances will be set to zeros.\n",
      "  warn('Too few observations to estimate starting parameters%s.'\n"
     ]
    },
    {
     "name": "stdout",
     "output_type": "stream",
     "text": [
      "Processando: VIVO - RO\n"
     ]
    },
    {
     "name": "stderr",
     "output_type": "stream",
     "text": [
      "C:\\Users\\Renan\\AppData\\Local\\Programs\\Python\\Python310\\lib\\site-packages\\statsmodels\\base\\model.py:607: ConvergenceWarning: Maximum Likelihood optimization failed to converge. Check mle_retvals\n",
      "  warnings.warn(\"Maximum Likelihood optimization failed to \"\n",
      "C:\\Users\\Renan\\AppData\\Local\\Programs\\Python\\Python310\\lib\\site-packages\\statsmodels\\tsa\\statespace\\sarimax.py:866: UserWarning: Too few observations to estimate starting parameters for seasonal ARMA. All parameters except for variances will be set to zeros.\n",
      "  warn('Too few observations to estimate starting parameters%s.'\n"
     ]
    },
    {
     "name": "stdout",
     "output_type": "stream",
     "text": [
      "Processando: CLARO - RR\n"
     ]
    },
    {
     "name": "stderr",
     "output_type": "stream",
     "text": [
      "C:\\Users\\Renan\\AppData\\Local\\Programs\\Python\\Python310\\lib\\site-packages\\statsmodels\\base\\model.py:607: ConvergenceWarning: Maximum Likelihood optimization failed to converge. Check mle_retvals\n",
      "  warnings.warn(\"Maximum Likelihood optimization failed to \"\n",
      "C:\\Users\\Renan\\AppData\\Local\\Programs\\Python\\Python310\\lib\\site-packages\\statsmodels\\tsa\\statespace\\sarimax.py:866: UserWarning: Too few observations to estimate starting parameters for seasonal ARMA. All parameters except for variances will be set to zeros.\n",
      "  warn('Too few observations to estimate starting parameters%s.'\n"
     ]
    },
    {
     "name": "stdout",
     "output_type": "stream",
     "text": [
      "Processando: TIM - RR\n"
     ]
    },
    {
     "name": "stderr",
     "output_type": "stream",
     "text": [
      "C:\\Users\\Renan\\AppData\\Local\\Programs\\Python\\Python310\\lib\\site-packages\\statsmodels\\base\\model.py:607: ConvergenceWarning: Maximum Likelihood optimization failed to converge. Check mle_retvals\n",
      "  warnings.warn(\"Maximum Likelihood optimization failed to \"\n"
     ]
    },
    {
     "name": "stdout",
     "output_type": "stream",
     "text": [
      "Processando: VIVO - RR\n"
     ]
    },
    {
     "name": "stderr",
     "output_type": "stream",
     "text": [
      "C:\\Users\\Renan\\AppData\\Local\\Programs\\Python\\Python310\\lib\\site-packages\\statsmodels\\tsa\\statespace\\sarimax.py:866: UserWarning: Too few observations to estimate starting parameters for seasonal ARMA. All parameters except for variances will be set to zeros.\n",
      "  warn('Too few observations to estimate starting parameters%s.'\n",
      "C:\\Users\\Renan\\AppData\\Local\\Programs\\Python\\Python310\\lib\\site-packages\\statsmodels\\base\\model.py:607: ConvergenceWarning: Maximum Likelihood optimization failed to converge. Check mle_retvals\n",
      "  warnings.warn(\"Maximum Likelihood optimization failed to \"\n",
      "C:\\Users\\Renan\\AppData\\Local\\Programs\\Python\\Python310\\lib\\site-packages\\statsmodels\\tsa\\statespace\\sarimax.py:866: UserWarning: Too few observations to estimate starting parameters for seasonal ARMA. All parameters except for variances will be set to zeros.\n",
      "  warn('Too few observations to estimate starting parameters%s.'\n"
     ]
    },
    {
     "name": "stdout",
     "output_type": "stream",
     "text": [
      "Processando: CLARO - RS\n"
     ]
    },
    {
     "name": "stderr",
     "output_type": "stream",
     "text": [
      "C:\\Users\\Renan\\AppData\\Local\\Programs\\Python\\Python310\\lib\\site-packages\\statsmodels\\base\\model.py:607: ConvergenceWarning: Maximum Likelihood optimization failed to converge. Check mle_retvals\n",
      "  warnings.warn(\"Maximum Likelihood optimization failed to \"\n",
      "C:\\Users\\Renan\\AppData\\Local\\Programs\\Python\\Python310\\lib\\site-packages\\statsmodels\\tsa\\statespace\\sarimax.py:866: UserWarning: Too few observations to estimate starting parameters for ARMA and trend. All parameters except for variances will be set to zeros.\n",
      "  warn('Too few observations to estimate starting parameters%s.'\n",
      "C:\\Users\\Renan\\AppData\\Local\\Programs\\Python\\Python310\\lib\\site-packages\\statsmodels\\tsa\\statespace\\sarimax.py:866: UserWarning: Too few observations to estimate starting parameters for seasonal ARMA. All parameters except for variances will be set to zeros.\n",
      "  warn('Too few observations to estimate starting parameters%s.'\n"
     ]
    },
    {
     "name": "stdout",
     "output_type": "stream",
     "text": [
      "Processando: OI - RS\n",
      "Processando: TIM - RS\n"
     ]
    },
    {
     "name": "stderr",
     "output_type": "stream",
     "text": [
      "C:\\Users\\Renan\\AppData\\Local\\Programs\\Python\\Python310\\lib\\site-packages\\statsmodels\\tsa\\statespace\\sarimax.py:866: UserWarning: Too few observations to estimate starting parameters for seasonal ARMA. All parameters except for variances will be set to zeros.\n",
      "  warn('Too few observations to estimate starting parameters%s.'\n",
      "C:\\Users\\Renan\\AppData\\Local\\Programs\\Python\\Python310\\lib\\site-packages\\statsmodels\\base\\model.py:607: ConvergenceWarning: Maximum Likelihood optimization failed to converge. Check mle_retvals\n",
      "  warnings.warn(\"Maximum Likelihood optimization failed to \"\n",
      "C:\\Users\\Renan\\AppData\\Local\\Programs\\Python\\Python310\\lib\\site-packages\\statsmodels\\tsa\\statespace\\sarimax.py:866: UserWarning: Too few observations to estimate starting parameters for seasonal ARMA. All parameters except for variances will be set to zeros.\n",
      "  warn('Too few observations to estimate starting parameters%s.'\n"
     ]
    },
    {
     "name": "stdout",
     "output_type": "stream",
     "text": [
      "Processando: VIVO - RS\n"
     ]
    },
    {
     "name": "stderr",
     "output_type": "stream",
     "text": [
      "C:\\Users\\Renan\\AppData\\Local\\Programs\\Python\\Python310\\lib\\site-packages\\statsmodels\\base\\model.py:607: ConvergenceWarning: Maximum Likelihood optimization failed to converge. Check mle_retvals\n",
      "  warnings.warn(\"Maximum Likelihood optimization failed to \"\n",
      "C:\\Users\\Renan\\AppData\\Local\\Programs\\Python\\Python310\\lib\\site-packages\\statsmodels\\tsa\\statespace\\sarimax.py:866: UserWarning: Too few observations to estimate starting parameters for seasonal ARMA. All parameters except for variances will be set to zeros.\n",
      "  warn('Too few observations to estimate starting parameters%s.'\n"
     ]
    },
    {
     "name": "stdout",
     "output_type": "stream",
     "text": [
      "Processando: CLARO - SC\n"
     ]
    },
    {
     "name": "stderr",
     "output_type": "stream",
     "text": [
      "C:\\Users\\Renan\\AppData\\Local\\Programs\\Python\\Python310\\lib\\site-packages\\statsmodels\\base\\model.py:607: ConvergenceWarning: Maximum Likelihood optimization failed to converge. Check mle_retvals\n",
      "  warnings.warn(\"Maximum Likelihood optimization failed to \"\n",
      "C:\\Users\\Renan\\AppData\\Local\\Programs\\Python\\Python310\\lib\\site-packages\\statsmodels\\tsa\\statespace\\sarimax.py:866: UserWarning: Too few observations to estimate starting parameters for ARMA and trend. All parameters except for variances will be set to zeros.\n",
      "  warn('Too few observations to estimate starting parameters%s.'\n",
      "C:\\Users\\Renan\\AppData\\Local\\Programs\\Python\\Python310\\lib\\site-packages\\statsmodels\\tsa\\statespace\\sarimax.py:866: UserWarning: Too few observations to estimate starting parameters for seasonal ARMA. All parameters except for variances will be set to zeros.\n",
      "  warn('Too few observations to estimate starting parameters%s.'\n"
     ]
    },
    {
     "name": "stdout",
     "output_type": "stream",
     "text": [
      "Processando: OI - SC\n",
      "Processando: TIM - SC\n"
     ]
    },
    {
     "name": "stderr",
     "output_type": "stream",
     "text": [
      "C:\\Users\\Renan\\AppData\\Local\\Programs\\Python\\Python310\\lib\\site-packages\\statsmodels\\tsa\\statespace\\sarimax.py:866: UserWarning: Too few observations to estimate starting parameters for seasonal ARMA. All parameters except for variances will be set to zeros.\n",
      "  warn('Too few observations to estimate starting parameters%s.'\n",
      "C:\\Users\\Renan\\AppData\\Local\\Programs\\Python\\Python310\\lib\\site-packages\\statsmodels\\base\\model.py:607: ConvergenceWarning: Maximum Likelihood optimization failed to converge. Check mle_retvals\n",
      "  warnings.warn(\"Maximum Likelihood optimization failed to \"\n"
     ]
    },
    {
     "name": "stdout",
     "output_type": "stream",
     "text": [
      "Processando: VIVO - SC\n"
     ]
    },
    {
     "name": "stderr",
     "output_type": "stream",
     "text": [
      "C:\\Users\\Renan\\AppData\\Local\\Programs\\Python\\Python310\\lib\\site-packages\\statsmodels\\tsa\\statespace\\sarimax.py:866: UserWarning: Too few observations to estimate starting parameters for seasonal ARMA. All parameters except for variances will be set to zeros.\n",
      "  warn('Too few observations to estimate starting parameters%s.'\n",
      "C:\\Users\\Renan\\AppData\\Local\\Programs\\Python\\Python310\\lib\\site-packages\\statsmodels\\base\\model.py:607: ConvergenceWarning: Maximum Likelihood optimization failed to converge. Check mle_retvals\n",
      "  warnings.warn(\"Maximum Likelihood optimization failed to \"\n",
      "C:\\Users\\Renan\\AppData\\Local\\Programs\\Python\\Python310\\lib\\site-packages\\statsmodels\\tsa\\statespace\\sarimax.py:866: UserWarning: Too few observations to estimate starting parameters for seasonal ARMA. All parameters except for variances will be set to zeros.\n",
      "  warn('Too few observations to estimate starting parameters%s.'\n"
     ]
    },
    {
     "name": "stdout",
     "output_type": "stream",
     "text": [
      "Processando: CLARO - SE\n"
     ]
    },
    {
     "name": "stderr",
     "output_type": "stream",
     "text": [
      "C:\\Users\\Renan\\AppData\\Local\\Programs\\Python\\Python310\\lib\\site-packages\\statsmodels\\base\\model.py:607: ConvergenceWarning: Maximum Likelihood optimization failed to converge. Check mle_retvals\n",
      "  warnings.warn(\"Maximum Likelihood optimization failed to \"\n",
      "C:\\Users\\Renan\\AppData\\Local\\Programs\\Python\\Python310\\lib\\site-packages\\statsmodels\\tsa\\statespace\\sarimax.py:866: UserWarning: Too few observations to estimate starting parameters for ARMA and trend. All parameters except for variances will be set to zeros.\n",
      "  warn('Too few observations to estimate starting parameters%s.'\n",
      "C:\\Users\\Renan\\AppData\\Local\\Programs\\Python\\Python310\\lib\\site-packages\\statsmodels\\tsa\\statespace\\sarimax.py:866: UserWarning: Too few observations to estimate starting parameters for seasonal ARMA. All parameters except for variances will be set to zeros.\n",
      "  warn('Too few observations to estimate starting parameters%s.'\n"
     ]
    },
    {
     "name": "stdout",
     "output_type": "stream",
     "text": [
      "Processando: OI - SE\n",
      "Processando: TIM - SE\n"
     ]
    },
    {
     "name": "stderr",
     "output_type": "stream",
     "text": [
      "C:\\Users\\Renan\\AppData\\Local\\Programs\\Python\\Python310\\lib\\site-packages\\statsmodels\\tsa\\statespace\\sarimax.py:866: UserWarning: Too few observations to estimate starting parameters for seasonal ARMA. All parameters except for variances will be set to zeros.\n",
      "  warn('Too few observations to estimate starting parameters%s.'\n",
      "C:\\Users\\Renan\\AppData\\Local\\Programs\\Python\\Python310\\lib\\site-packages\\statsmodels\\base\\model.py:607: ConvergenceWarning: Maximum Likelihood optimization failed to converge. Check mle_retvals\n",
      "  warnings.warn(\"Maximum Likelihood optimization failed to \"\n",
      "C:\\Users\\Renan\\AppData\\Local\\Programs\\Python\\Python310\\lib\\site-packages\\statsmodels\\tsa\\statespace\\sarimax.py:866: UserWarning: Too few observations to estimate starting parameters for seasonal ARMA. All parameters except for variances will be set to zeros.\n",
      "  warn('Too few observations to estimate starting parameters%s.'\n"
     ]
    },
    {
     "name": "stdout",
     "output_type": "stream",
     "text": [
      "Processando: VIVO - SE\n"
     ]
    },
    {
     "name": "stderr",
     "output_type": "stream",
     "text": [
      "C:\\Users\\Renan\\AppData\\Local\\Programs\\Python\\Python310\\lib\\site-packages\\statsmodels\\base\\model.py:607: ConvergenceWarning: Maximum Likelihood optimization failed to converge. Check mle_retvals\n",
      "  warnings.warn(\"Maximum Likelihood optimization failed to \"\n",
      "C:\\Users\\Renan\\AppData\\Local\\Programs\\Python\\Python310\\lib\\site-packages\\statsmodels\\tsa\\statespace\\sarimax.py:866: UserWarning: Too few observations to estimate starting parameters for seasonal ARMA. All parameters except for variances will be set to zeros.\n",
      "  warn('Too few observations to estimate starting parameters%s.'\n"
     ]
    },
    {
     "name": "stdout",
     "output_type": "stream",
     "text": [
      "Processando: ALGAR - SP\n"
     ]
    },
    {
     "name": "stderr",
     "output_type": "stream",
     "text": [
      "C:\\Users\\Renan\\AppData\\Local\\Programs\\Python\\Python310\\lib\\site-packages\\statsmodels\\base\\model.py:607: ConvergenceWarning: Maximum Likelihood optimization failed to converge. Check mle_retvals\n",
      "  warnings.warn(\"Maximum Likelihood optimization failed to \"\n",
      "C:\\Users\\Renan\\AppData\\Local\\Programs\\Python\\Python310\\lib\\site-packages\\statsmodels\\tsa\\statespace\\sarimax.py:866: UserWarning: Too few observations to estimate starting parameters for seasonal ARMA. All parameters except for variances will be set to zeros.\n",
      "  warn('Too few observations to estimate starting parameters%s.'\n"
     ]
    },
    {
     "name": "stdout",
     "output_type": "stream",
     "text": [
      "Processando: CLARO - SP\n",
      "Processando: OI - SP\n",
      "Processando: TIM - SP\n"
     ]
    },
    {
     "name": "stderr",
     "output_type": "stream",
     "text": [
      "C:\\Users\\Renan\\AppData\\Local\\Programs\\Python\\Python310\\lib\\site-packages\\statsmodels\\tsa\\statespace\\sarimax.py:866: UserWarning: Too few observations to estimate starting parameters for ARMA and trend. All parameters except for variances will be set to zeros.\n",
      "  warn('Too few observations to estimate starting parameters%s.'\n",
      "C:\\Users\\Renan\\AppData\\Local\\Programs\\Python\\Python310\\lib\\site-packages\\statsmodels\\tsa\\statespace\\sarimax.py:866: UserWarning: Too few observations to estimate starting parameters for seasonal ARMA. All parameters except for variances will be set to zeros.\n",
      "  warn('Too few observations to estimate starting parameters%s.'\n",
      "C:\\Users\\Renan\\AppData\\Local\\Programs\\Python\\Python310\\lib\\site-packages\\statsmodels\\tsa\\statespace\\sarimax.py:866: UserWarning: Too few observations to estimate starting parameters for seasonal ARMA. All parameters except for variances will be set to zeros.\n",
      "  warn('Too few observations to estimate starting parameters%s.'\n",
      "C:\\Users\\Renan\\AppData\\Local\\Programs\\Python\\Python310\\lib\\site-packages\\statsmodels\\base\\model.py:607: ConvergenceWarning: Maximum Likelihood optimization failed to converge. Check mle_retvals\n",
      "  warnings.warn(\"Maximum Likelihood optimization failed to \"\n",
      "C:\\Users\\Renan\\AppData\\Local\\Programs\\Python\\Python310\\lib\\site-packages\\statsmodels\\tsa\\statespace\\sarimax.py:866: UserWarning: Too few observations to estimate starting parameters for seasonal ARMA. All parameters except for variances will be set to zeros.\n",
      "  warn('Too few observations to estimate starting parameters%s.'\n"
     ]
    },
    {
     "name": "stdout",
     "output_type": "stream",
     "text": [
      "Processando: VIVO - SP\n"
     ]
    },
    {
     "name": "stderr",
     "output_type": "stream",
     "text": [
      "C:\\Users\\Renan\\AppData\\Local\\Programs\\Python\\Python310\\lib\\site-packages\\statsmodels\\base\\model.py:607: ConvergenceWarning: Maximum Likelihood optimization failed to converge. Check mle_retvals\n",
      "  warnings.warn(\"Maximum Likelihood optimization failed to \"\n",
      "C:\\Users\\Renan\\AppData\\Local\\Programs\\Python\\Python310\\lib\\site-packages\\statsmodels\\tsa\\statespace\\sarimax.py:866: UserWarning: Too few observations to estimate starting parameters for seasonal ARMA. All parameters except for variances will be set to zeros.\n",
      "  warn('Too few observations to estimate starting parameters%s.'\n"
     ]
    },
    {
     "name": "stdout",
     "output_type": "stream",
     "text": [
      "Processando: CLARO - TO\n"
     ]
    },
    {
     "name": "stderr",
     "output_type": "stream",
     "text": [
      "C:\\Users\\Renan\\AppData\\Local\\Programs\\Python\\Python310\\lib\\site-packages\\statsmodels\\base\\model.py:607: ConvergenceWarning: Maximum Likelihood optimization failed to converge. Check mle_retvals\n",
      "  warnings.warn(\"Maximum Likelihood optimization failed to \"\n",
      "C:\\Users\\Renan\\AppData\\Local\\Programs\\Python\\Python310\\lib\\site-packages\\statsmodels\\tsa\\statespace\\sarimax.py:866: UserWarning: Too few observations to estimate starting parameters for seasonal ARMA. All parameters except for variances will be set to zeros.\n",
      "  warn('Too few observations to estimate starting parameters%s.'\n"
     ]
    },
    {
     "name": "stdout",
     "output_type": "stream",
     "text": [
      "Processando: TIM - TO\n"
     ]
    },
    {
     "name": "stderr",
     "output_type": "stream",
     "text": [
      "C:\\Users\\Renan\\AppData\\Local\\Programs\\Python\\Python310\\lib\\site-packages\\statsmodels\\base\\model.py:607: ConvergenceWarning: Maximum Likelihood optimization failed to converge. Check mle_retvals\n",
      "  warnings.warn(\"Maximum Likelihood optimization failed to \"\n",
      "C:\\Users\\Renan\\AppData\\Local\\Programs\\Python\\Python310\\lib\\site-packages\\statsmodels\\tsa\\statespace\\sarimax.py:866: UserWarning: Too few observations to estimate starting parameters for seasonal ARMA. All parameters except for variances will be set to zeros.\n",
      "  warn('Too few observations to estimate starting parameters%s.'\n"
     ]
    },
    {
     "name": "stdout",
     "output_type": "stream",
     "text": [
      "Processando: VIVO - TO\n",
      "Processando: OI - AP\n",
      "Poucos dados: OI-AP\n",
      "Processando: OI - MS\n",
      "Poucos dados: OI-MS\n",
      "Processando: OI - RR\n",
      "Poucos dados: OI-RR\n",
      "Processando: OI - TO\n",
      "Poucos dados: OI-TO\n"
     ]
    },
    {
     "name": "stderr",
     "output_type": "stream",
     "text": [
      "C:\\Users\\Renan\\AppData\\Local\\Programs\\Python\\Python310\\lib\\site-packages\\statsmodels\\base\\model.py:607: ConvergenceWarning: Maximum Likelihood optimization failed to converge. Check mle_retvals\n",
      "  warnings.warn(\"Maximum Likelihood optimization failed to \"\n"
     ]
    }
   ],
   "source": [
    "import pandas as pd\n",
    "import numpy as np\n",
    "from sklearn.linear_model import LinearRegression\n",
    "from sklearn.ensemble import RandomForestRegressor\n",
    "from xgboost import XGBRegressor\n",
    "from sklearn.metrics import mean_absolute_error, mean_squared_error, r2_score\n",
    "from statsmodels.tsa.statespace.sarimax import SARIMAX\n",
    "\n",
    "# Lista para armazenar os resultados\n",
    "comparacoes = []\n",
    "grupos = df_final[['NO_PRESTADORA_DOADORA', 'SG_UF']].drop_duplicates()\n",
    "features = ['QF', 'QIC', 'QCR', 'QAT', 'QAD', 'QAP', 'ISG']\n",
    "\n",
    "for _, linha in grupos.iterrows():\n",
    "    op = linha['NO_PRESTADORA_DOADORA']\n",
    "    uf = linha['SG_UF']\n",
    "    print(f\"Processando: {op} - {uf}\")\n",
    "    \n",
    "    try:\n",
    "        # 🔹 Filtrar dados\n",
    "        df_op = df_final[(df_final['NO_PRESTADORA_DOADORA'] == op) & (df_final['SG_UF'] == uf)].copy()\n",
    "        df_op['AM_EFETIVACAO'] = pd.to_datetime(df_op['AM_EFETIVACAO'])\n",
    "        df_op.sort_values('AM_EFETIVACAO', inplace=True)\n",
    "        df_op.set_index('AM_EFETIVACAO', inplace=True)\n",
    "        \n",
    "        # ⚠️ Importante: aplicar média só depois de padronizar a frequência\n",
    "        df_op = df_op.asfreq('MS')  # Pode introduzir NaN\n",
    "\n",
    "        # 🔸 Preencher NaNs\n",
    "        df_op[features] = df_op[features].fillna(df_op[features].mean())\n",
    "        df_op['QT_PORTABILIDADE_EFETIVADA'] = df_op['QT_PORTABILIDADE_EFETIVADA'].ffill().bfill()\n",
    "\n",
    "\n",
    "        # Se ainda houver NaN, pula\n",
    "        if df_op['QT_PORTABILIDADE_EFETIVADA'].isna().any():\n",
    "            print(f\"QT_PORTABILIDADE_EFETIVADA com NaN: {op} - {uf}\")\n",
    "            continue\n",
    "\n",
    "        X = df_op[features]\n",
    "        y = df_op['QT_PORTABILIDADE_EFETIVADA']\n",
    "\n",
    "        if len(y) < 6:\n",
    "            print(f\"Poucos dados: {op}-{uf}\")\n",
    "            continue\n",
    "\n",
    "        X_train, X_test = X.iloc[:-3], X.iloc[-3:]\n",
    "        y_train, y_test = y.iloc[:-3], y.iloc[-3:]\n",
    "\n",
    "        # Modelos tabulares\n",
    "        lr = LinearRegression().fit(X_train, y_train)\n",
    "        rf = RandomForestRegressor(random_state=42).fit(X_train, y_train)\n",
    "        xgb = XGBRegressor(random_state=42).fit(X_train, y_train)\n",
    "\n",
    "        pred_lr = lr.predict(X_test)\n",
    "        pred_rf = rf.predict(X_test)\n",
    "        pred_xgb = xgb.predict(X_test)\n",
    "\n",
    "        # SARIMAX\n",
    "        sarimax_model = SARIMAX(y_train, exog=X_train, order=(1, 1, 1), seasonal_order=(1, 1, 1, 12),\n",
    "                                enforce_stationarity=False, enforce_invertibility=False)\n",
    "        sarimax_result = sarimax_model.fit(disp=False)\n",
    "        pred_sarimax = sarimax_result.predict(start=X_test.index[0], end=X_test.index[-1], exog=X_test)\n",
    "\n",
    "        # Avaliação\n",
    "        for modelo, pred in zip(['Linear', 'RandomForest', 'XGBoost', 'SARIMAX'],\n",
    "                                [pred_lr, pred_rf, pred_xgb, pred_sarimax]):\n",
    "            comparacoes.append({\n",
    "                'Operadora': op,\n",
    "                'UF': uf,\n",
    "                'Modelo': modelo,\n",
    "                'MAE': mean_absolute_error(y_test, pred),\n",
    "                'RMSE': np.sqrt(mean_squared_error(y_test, pred)),\n",
    "                'R2': r2_score(y_test, pred),\n",
    "                'N_Observacoes': len(y)\n",
    "            })\n",
    "\n",
    "    except Exception as e:\n",
    "        print(f\"Erro ao processar {op} - {uf}: {e}\")\n",
    "\n"
   ]
  },
  {
   "cell_type": "code",
   "execution_count": 41,
   "id": "2922a6d6-c842-4ca7-af68-27df7631bfa8",
   "metadata": {},
   "outputs": [
    {
     "data": {
      "text/html": [
       "<div>\n",
       "<style scoped>\n",
       "    .dataframe tbody tr th:only-of-type {\n",
       "        vertical-align: middle;\n",
       "    }\n",
       "\n",
       "    .dataframe tbody tr th {\n",
       "        vertical-align: top;\n",
       "    }\n",
       "\n",
       "    .dataframe thead th {\n",
       "        text-align: right;\n",
       "    }\n",
       "</style>\n",
       "<table border=\"1\" class=\"dataframe\">\n",
       "  <thead>\n",
       "    <tr style=\"text-align: right;\">\n",
       "      <th></th>\n",
       "      <th>Operadora</th>\n",
       "      <th>UF</th>\n",
       "      <th>Modelo</th>\n",
       "      <th>MAE</th>\n",
       "      <th>RMSE</th>\n",
       "      <th>R2</th>\n",
       "      <th>N_Observacoes</th>\n",
       "    </tr>\n",
       "  </thead>\n",
       "  <tbody>\n",
       "    <tr>\n",
       "      <th>125</th>\n",
       "      <td>ALGAR</td>\n",
       "      <td>GO</td>\n",
       "      <td>RandomForest</td>\n",
       "      <td>19.397671</td>\n",
       "      <td>20.715830</td>\n",
       "      <td>-22.841423</td>\n",
       "      <td>41</td>\n",
       "    </tr>\n",
       "    <tr>\n",
       "      <th>126</th>\n",
       "      <td>ALGAR</td>\n",
       "      <td>GO</td>\n",
       "      <td>XGBoost</td>\n",
       "      <td>26.758451</td>\n",
       "      <td>33.416683</td>\n",
       "      <td>-61.037485</td>\n",
       "      <td>41</td>\n",
       "    </tr>\n",
       "    <tr>\n",
       "      <th>399</th>\n",
       "      <td>ALGAR</td>\n",
       "      <td>SP</td>\n",
       "      <td>SARIMAX</td>\n",
       "      <td>55.482575</td>\n",
       "      <td>67.115386</td>\n",
       "      <td>-0.582739</td>\n",
       "      <td>41</td>\n",
       "    </tr>\n",
       "    <tr>\n",
       "      <th>124</th>\n",
       "      <td>ALGAR</td>\n",
       "      <td>GO</td>\n",
       "      <td>Linear</td>\n",
       "      <td>68.648759</td>\n",
       "      <td>70.925037</td>\n",
       "      <td>-278.464494</td>\n",
       "      <td>41</td>\n",
       "    </tr>\n",
       "    <tr>\n",
       "      <th>397</th>\n",
       "      <td>ALGAR</td>\n",
       "      <td>SP</td>\n",
       "      <td>RandomForest</td>\n",
       "      <td>59.833559</td>\n",
       "      <td>74.293597</td>\n",
       "      <td>-0.939402</td>\n",
       "      <td>41</td>\n",
       "    </tr>\n",
       "    <tr>\n",
       "      <th>...</th>\n",
       "      <td>...</td>\n",
       "      <td>...</td>\n",
       "      <td>...</td>\n",
       "      <td>...</td>\n",
       "      <td>...</td>\n",
       "      <td>...</td>\n",
       "      <td>...</td>\n",
       "    </tr>\n",
       "    <tr>\n",
       "      <th>91</th>\n",
       "      <td>VIVO</td>\n",
       "      <td>CE</td>\n",
       "      <td>SARIMAX</td>\n",
       "      <td>5088.811598</td>\n",
       "      <td>5421.476381</td>\n",
       "      <td>-103.911847</td>\n",
       "      <td>41</td>\n",
       "    </tr>\n",
       "    <tr>\n",
       "      <th>413</th>\n",
       "      <td>VIVO</td>\n",
       "      <td>SP</td>\n",
       "      <td>RandomForest</td>\n",
       "      <td>5502.387923</td>\n",
       "      <td>6398.888169</td>\n",
       "      <td>-12.937744</td>\n",
       "      <td>41</td>\n",
       "    </tr>\n",
       "    <tr>\n",
       "      <th>415</th>\n",
       "      <td>VIVO</td>\n",
       "      <td>SP</td>\n",
       "      <td>SARIMAX</td>\n",
       "      <td>6566.059767</td>\n",
       "      <td>6780.589408</td>\n",
       "      <td>-14.650144</td>\n",
       "      <td>41</td>\n",
       "    </tr>\n",
       "    <tr>\n",
       "      <th>414</th>\n",
       "      <td>VIVO</td>\n",
       "      <td>SP</td>\n",
       "      <td>XGBoost</td>\n",
       "      <td>5945.875000</td>\n",
       "      <td>6997.222608</td>\n",
       "      <td>-15.666133</td>\n",
       "      <td>41</td>\n",
       "    </tr>\n",
       "    <tr>\n",
       "      <th>412</th>\n",
       "      <td>VIVO</td>\n",
       "      <td>SP</td>\n",
       "      <td>Linear</td>\n",
       "      <td>8032.095299</td>\n",
       "      <td>9161.375196</td>\n",
       "      <td>-27.569642</td>\n",
       "      <td>41</td>\n",
       "    </tr>\n",
       "  </tbody>\n",
       "</table>\n",
       "<p>428 rows × 7 columns</p>\n",
       "</div>"
      ],
      "text/plain": [
       "    Operadora  UF        Modelo          MAE         RMSE          R2  \\\n",
       "125     ALGAR  GO  RandomForest    19.397671    20.715830  -22.841423   \n",
       "126     ALGAR  GO       XGBoost    26.758451    33.416683  -61.037485   \n",
       "399     ALGAR  SP       SARIMAX    55.482575    67.115386   -0.582739   \n",
       "124     ALGAR  GO        Linear    68.648759    70.925037 -278.464494   \n",
       "397     ALGAR  SP  RandomForest    59.833559    74.293597   -0.939402   \n",
       "..        ...  ..           ...          ...          ...         ...   \n",
       "91       VIVO  CE       SARIMAX  5088.811598  5421.476381 -103.911847   \n",
       "413      VIVO  SP  RandomForest  5502.387923  6398.888169  -12.937744   \n",
       "415      VIVO  SP       SARIMAX  6566.059767  6780.589408  -14.650144   \n",
       "414      VIVO  SP       XGBoost  5945.875000  6997.222608  -15.666133   \n",
       "412      VIVO  SP        Linear  8032.095299  9161.375196  -27.569642   \n",
       "\n",
       "     N_Observacoes  \n",
       "125             41  \n",
       "126             41  \n",
       "399             41  \n",
       "124             41  \n",
       "397             41  \n",
       "..             ...  \n",
       "91              41  \n",
       "413             41  \n",
       "415             41  \n",
       "414             41  \n",
       "412             41  \n",
       "\n",
       "[428 rows x 7 columns]"
      ]
     },
     "metadata": {},
     "output_type": "display_data"
    }
   ],
   "source": [
    "df_comp = pd.DataFrame(comparacoes)\n",
    "df_comp.sort_values(['Operadora', 'RMSE'], inplace=True)\n",
    "display(df_comp)\n"
   ]
  },
  {
   "cell_type": "code",
   "execution_count": 42,
   "id": "b5896166-647c-4a0e-a925-a89506d858f7",
   "metadata": {},
   "outputs": [
    {
     "ename": "NameError",
     "evalue": "name 'y_pred' is not defined",
     "output_type": "error",
     "traceback": [
      "\u001b[1;31m---------------------------------------------------------------------------\u001b[0m",
      "\u001b[1;31mNameError\u001b[0m                                 Traceback (most recent call last)",
      "Cell \u001b[1;32mIn[42], line 4\u001b[0m\n\u001b[0;32m      1\u001b[0m \u001b[38;5;28;01mimport\u001b[39;00m\u001b[38;5;250m \u001b[39m\u001b[38;5;21;01mmatplotlib\u001b[39;00m\u001b[38;5;21;01m.\u001b[39;00m\u001b[38;5;21;01mpyplot\u001b[39;00m\u001b[38;5;250m \u001b[39m\u001b[38;5;28;01mas\u001b[39;00m\u001b[38;5;250m \u001b[39m\u001b[38;5;21;01mplt\u001b[39;00m\n\u001b[0;32m      3\u001b[0m plt\u001b[38;5;241m.\u001b[39mfigure(figsize\u001b[38;5;241m=\u001b[39m(\u001b[38;5;241m8\u001b[39m, \u001b[38;5;241m6\u001b[39m))\n\u001b[1;32m----> 4\u001b[0m plt\u001b[38;5;241m.\u001b[39mscatter(y_test, \u001b[43my_pred\u001b[49m, alpha\u001b[38;5;241m=\u001b[39m\u001b[38;5;241m0.7\u001b[39m)\n\u001b[0;32m      5\u001b[0m plt\u001b[38;5;241m.\u001b[39mplot([y_test\u001b[38;5;241m.\u001b[39mmin(), y_test\u001b[38;5;241m.\u001b[39mmax()], [y_test\u001b[38;5;241m.\u001b[39mmin(), y_test\u001b[38;5;241m.\u001b[39mmax()], \u001b[38;5;124m'\u001b[39m\u001b[38;5;124mr--\u001b[39m\u001b[38;5;124m'\u001b[39m)\n\u001b[0;32m      6\u001b[0m plt\u001b[38;5;241m.\u001b[39mxlabel(\u001b[38;5;124m'\u001b[39m\u001b[38;5;124mValores Reais\u001b[39m\u001b[38;5;124m'\u001b[39m)\n",
      "\u001b[1;31mNameError\u001b[0m: name 'y_pred' is not defined"
     ]
    },
    {
     "data": {
      "text/plain": [
       "<Figure size 800x600 with 0 Axes>"
      ]
     },
     "metadata": {},
     "output_type": "display_data"
    }
   ],
   "source": [
    "import matplotlib.pyplot as plt\n",
    "\n",
    "plt.figure(figsize=(8, 6))\n",
    "plt.scatter(y_test, y_pred, alpha=0.7)\n",
    "plt.plot([y_test.min(), y_test.max()], [y_test.min(), y_test.max()], 'r--')\n",
    "plt.xlabel('Valores Reais')\n",
    "plt.ylabel('Valores Previstos')\n",
    "plt.title('Dispersão: Linear Regression - VIVO - RO')\n",
    "plt.grid(True)\n",
    "plt.tight_layout()\n",
    "plt.show()\n"
   ]
  },
  {
   "cell_type": "code",
   "execution_count": 49,
   "id": "882b7850-4abd-4c02-9bd1-c6b6462155e2",
   "metadata": {},
   "outputs": [
    {
     "data": {
      "text/plain": [
       "Text(0.5, 1.0, 'Distribuição de RMSE por Modelo - Todas as Operadoras')"
      ]
     },
     "execution_count": 49,
     "metadata": {},
     "output_type": "execute_result"
    },
    {
     "data": {
      "image/png": "[encoded data removed]",
      "text/plain": [
       "<Figure size 1400x600 with 1 Axes>"
      ]
     },
     "metadata": {},
     "output_type": "display_data"
    }
   ],
   "source": [
    "import seaborn as sns\n",
    "import matplotlib.pyplot as plt\n",
    "\n",
    "plt.figure(figsize=(14, 6))\n",
    "sns.boxplot(data=df_comp, x='Modelo', y='RMSE')\n",
    "plt.title('Distribuição de RMSE por Modelo - Todas as Operadoras')"
   ]
  },
  {
   "cell_type": "code",
   "execution_count": 51,
   "id": "88f9d1b5-11a3-4f67-b5ba-b9ce23dbdc91",
   "metadata": {},
   "outputs": [],
   "source": [
    "df_comp.to_csv(\"D:/Renan/Documents/Mestrado/Inteligencia artificial/Artigo/churn_analyser/data/final2.csv\", index=False, encoding='utf-8')"
   ]
  },
  {
   "cell_type": "markdown",
   "id": "bc1c50ba-2b1a-4e03-af30-2c88e1571bb5",
   "metadata": {},
   "source": [
    "Alvo da regressão"
   ]
  },
  {
   "cell_type": "code",
   "execution_count": 41,
   "id": "a6849fb9-0467-4e52-86b8-d7c73b298cb2",
   "metadata": {},
   "outputs": [],
   "source": [
    "# y = df_final['QT_PORTABILIDADE_EFETIVADA']"
   ]
  },
  {
   "cell_type": "markdown",
   "id": "0c8985d6-5223-4334-b41f-aba725413c60",
   "metadata": {},
   "source": [
    "Remover colunas que não queremos usar como input"
   ]
  },
  {
   "cell_type": "code",
   "execution_count": 42,
   "id": "a143028f-7895-4deb-af63-3242372dc42c",
   "metadata": {},
   "outputs": [],
   "source": [
    "# X = df_final.drop(['QT_PORTABILIDADE_EFETIVADA', 'AM_EFETIVACAO'], axis=1)"
   ]
  },
  {
   "cell_type": "markdown",
   "id": "cb312744-bdd0-4466-9729-99124db003e0",
   "metadata": {},
   "source": [
    "Dividir dados em treino e teste (80% / 20%)"
   ]
  },
  {
   "cell_type": "code",
   "execution_count": 43,
   "id": "1390b355-d363-46b1-a47b-f98516820bf6",
   "metadata": {},
   "outputs": [],
   "source": [
    "# X_train, X_test, y_train, y_test = train_test_split(X, y, test_size=0.2, random_state=42)"
   ]
  },
  {
   "cell_type": "markdown",
   "id": "7fb2a3af-bba6-4462-8f2b-d0b46137aa9f",
   "metadata": {},
   "source": [
    "# Linear Regression"
   ]
  },
  {
   "cell_type": "code",
   "execution_count": 44,
   "id": "cc41bfe9-4fc1-49be-ae30-25200805908a",
   "metadata": {},
   "outputs": [],
   "source": [
    "# lr = LinearRegression()\n",
    "# lr.fit(X_train, y_train)\n",
    "# y_pred_lr = lr.predict(X_test)\n",
    "\n",
    "# Avaliação\n",
    "# mae_lr = mean_absolute_error(y_test, y_pred_lr)\n",
    "# rmse_lr = np.sqrt(mean_squared_error(y_test, y_pred_lr))\n",
    "# r2_lr = r2_score(y_test, y_pred_lr)\n",
    "\n",
    "# print(f\"Linear Regression:\\nMAE = {mae_lr:.2f}, RMSE = {rmse_lr:.2f}, R² = {r2_lr:.2f}\")"
   ]
  },
  {
   "cell_type": "markdown",
   "id": "8757c790-a3f1-4a1a-a275-4d3f9ab176fc",
   "metadata": {},
   "source": [
    "# Random Forest Regressor"
   ]
  },
  {
   "cell_type": "code",
   "execution_count": 45,
   "id": "d47e6663-a18c-4aea-b222-bb4b9bf7f66f",
   "metadata": {},
   "outputs": [],
   "source": [
    "# rf = RandomForestRegressor(random_state=42)\n",
    "# rf.fit(X_train, y_train)\n",
    "# y_pred_rf = rf.predict(X_test)\n",
    "\n",
    "# mae_rf = mean_absolute_error(y_test, y_pred_rf)\n",
    "# rmse_rf = np.sqrt(mean_squared_error(y_test, y_pred_rf))\n",
    "# # r2_rf = r2_score(y_test, y_pred_rf)\n",
    "\n",
    "# print(f\"Random Forest:\\nMAE = {mae_rf:.2f}, RMSE = {rmse_rf:.2f}, R² = {r2_rf:.2f}\")\n"
   ]
  },
  {
   "cell_type": "markdown",
   "id": "b29f0e3e-e5d7-4eca-9bea-abf89e6f8972",
   "metadata": {},
   "source": [
    "# XGBoost Regressor"
   ]
  },
  {
   "cell_type": "code",
   "execution_count": 46,
   "id": "e9d76d33-c381-4ac5-b43e-928437e65dfa",
   "metadata": {},
   "outputs": [],
   "source": [
    "# xgb = XGBRegressor(random_state=42)\n",
    "# xgb.fit(X_train, y_train)\n",
    "# y_pred_xgb = xgb.predict(X_test)\n",
    "\n",
    "# mae_xgb = mean_absolute_error(y_test, y_pred_xgb)\n",
    "# rmse_xgb = np.sqrt(mean_squared_error(y_test, y_pred_xgb))\n",
    "# r2_xgb = r2_score(y_test, y_pred_xgb)\n",
    "\n",
    "# print(f\"XGBoost:\\nMAE = {mae_xgb:.2f}, RMSE = {rmse_xgb:.2f}, R² = {r2_xgb:.2f}\")\n"
   ]
  },
  {
   "cell_type": "markdown",
   "id": "998c5653-ea85-46e5-babf-1f3b86c687b1",
   "metadata": {},
   "source": [
    "# Resultados"
   ]
  },
  {
   "cell_type": "code",
   "execution_count": 47,
   "id": "8c958ea9-c94a-46c5-a491-3eb61b498489",
   "metadata": {},
   "outputs": [],
   "source": [
    "# resultado_modelos = pd.DataFrame({\n",
    "#     'Modelo': ['Linear Regression', 'Random Forest', 'XGBoost'],\n",
    "#     'MAE': [mae_lr, mae_rf, mae_xgb],\n",
    "#     'RMSE': [rmse_lr, rmse_rf, rmse_xgb],\n",
    "#     'R2': [r2_lr, r2_rf, r2_xgb]\n",
    "# })\n",
    "\n",
    "# print(resultado_modelos)"
   ]
  },
  {
   "cell_type": "markdown",
   "id": "d00e4cbb-213b-44b9-b682-5d218914eac0",
   "metadata": {},
   "source": [
    "# SARIMAX"
   ]
  },
  {
   "cell_type": "code",
   "execution_count": 48,
   "id": "48254ab0-b06f-4249-ad20-26a85d646a73",
   "metadata": {},
   "outputs": [],
   "source": [
    "#Garantir tipo datetime\n",
    "# df_final['AM_EFETIVACAO'] = pd.to_datetime(df_final['AM_EFETIVACAO'])"
   ]
  },
  {
   "cell_type": "code",
   "execution_count": 49,
   "id": "9146a8fb-dc6c-4703-a817-dfc07ab091d7",
   "metadata": {},
   "outputs": [],
   "source": [
    "#  Lista de operadoras\n",
    "# operadoras = df_final['NO_PRESTADORA_DOADORA'].unique()"
   ]
  },
  {
   "cell_type": "code",
   "execution_count": 50,
   "id": "36769faa-8dce-4cfa-94ae-eb9ce45fec70",
   "metadata": {},
   "outputs": [
    {
     "ename": "IndentationError",
     "evalue": "unexpected indent (3559364089.py, line 17)",
     "output_type": "error",
     "traceback": [
      "\u001b[1;36m  Cell \u001b[1;32mIn[50], line 17\u001b[1;36m\u001b[0m\n\u001b[1;33m    enforce_stationarity=False, enforce_invertibility=False)\u001b[0m\n\u001b[1;37m    ^\u001b[0m\n\u001b[1;31mIndentationError\u001b[0m\u001b[1;31m:\u001b[0m unexpected indent\n"
     ]
    }
   ],
   "source": [
    "# resultados = []\n",
    "\n",
    "# for op in operadoras:  \n",
    "#     try:\n",
    "        # Filtrar dados da operadora\n",
    "#         df_op = df_final[df_final['NO_PRESTADORA_DOADORA'] == op].copy()\n",
    "#         df_op.set_index('AM_EFETIVACAO', inplace=True)\n",
    "#         df_op.sort_index(inplace=True)\n",
    "\n",
    "        # Variável alvo e exógenas\n",
    "#         y = df_op['QT_PORTABILIDADE_EFETIVADA']\n",
    "#         exog = df_op[['QF', 'QIC', 'QCR', 'QAT', 'QAD', 'QAP', 'ISG']].copy()\n",
    "#         exog.fillna(exog.mean(), inplace=True)  # Garantir que não haja nulos\n",
    "\n",
    "        # Treinar SARIMAX\n",
    "#         model = SARIMAX(y, exog=exog, order=(1, 1, 1), seasonal_order=(1, 1, 1, 12),\n",
    "                        enforce_stationarity=False, enforce_invertibility=False)\n",
    "#         results = model.fit(disp=False)\n",
    "\n",
    "        # Previsão in-sample\n",
    "#         y_pred = results.predict(start=0, end=len(y)-1, exog=exog)\n",
    "\n",
    "        # Erro\n",
    "#         rmse = np.sqrt(mean_squared_error(y, y_pred))\n",
    "#         resultados.append({'Operadora': op, 'RMSE': rmse, 'N_Meses': len(y)})\n",
    "\n",
    "#     except Exception as e:\n",
    "#         print(f\"Erro ao processar {op}: {e}\")\n"
   ]
  },
  {
   "cell_type": "code",
   "execution_count": null,
   "id": "ff16bc60-7f78-4593-8179-7dfddf324854",
   "metadata": {},
   "outputs": [],
   "source": [
    "# df_resultados = pd.DataFrame(resultados).sort_values(by='RMSE')\n",
    "# print(df_resultados)\n"
   ]
  },
  {
   "cell_type": "code",
   "execution_count": null,
   "id": "e1db4f69-869a-4019-a689-9f38f0a36139",
   "metadata": {},
   "outputs": [],
   "source": [
    "df_final.head()"
   ]
  },
  {
   "cell_type": "markdown",
   "id": "356cd995-bf59-47e4-bd4e-3043189d62f9",
   "metadata": {},
   "source": [
    "# Resultados todos"
   ]
  },
  {
   "cell_type": "code",
   "execution_count": null,
   "id": "89cae6d7-8c64-4154-b414-f143973c69e3",
   "metadata": {},
   "outputs": [],
   "source": []
  },
  {
   "cell_type": "code",
   "execution_count": null,
   "id": "ff602360-6970-46aa-b0e0-bc43348a2bcb",
   "metadata": {},
   "outputs": [],
   "source": []
  },
  {
   "cell_type": "code",
   "execution_count": null,
   "id": "70270d37-dbc3-4902-80b8-c499ff89c7ee",
   "metadata": {},
   "outputs": [],
   "source": []
  },
  {
   "cell_type": "code",
   "execution_count": null,
   "id": "77cc5d2a-ade7-4eb6-99da-6611271ab30a",
   "metadata": {},
   "outputs": [],
   "source": [
    "\n"
   ]
  },
  {
   "cell_type": "code",
   "execution_count": null,
   "id": "ea8a01ce-4d52-4319-a899-3197656356db",
   "metadata": {},
   "outputs": [],
   "source": []
  },
  {
   "cell_type": "code",
   "execution_count": null,
   "id": "331f88f8-7380-4e0e-99d7-f0d26113aba4",
   "metadata": {},
   "outputs": [],
   "source": []
  },
  {
   "cell_type": "code",
   "execution_count": null,
   "id": "1093e987-e3f8-43f1-9efc-54646dfd44d3",
   "metadata": {},
   "outputs": [],
   "source": []
  },
  {
   "cell_type": "code",
   "execution_count": null,
   "id": "fc9a4fad-78f3-4c20-97a9-55172d2129c6",
   "metadata": {},
   "outputs": [],
   "source": []
  },
  {
   "cell_type": "code",
   "execution_count": null,
   "id": "358eac7d-65aa-429e-8cc4-aaa63f248228",
   "metadata": {},
   "outputs": [],
   "source": []
  },
  {
   "cell_type": "code",
   "execution_count": null,
   "id": "dbdafb27-b5c2-4e40-884a-bf0067b61429",
   "metadata": {},
   "outputs": [],
   "source": []
  },
  {
   "cell_type": "code",
   "execution_count": null,
   "id": "6ed65d70-97a7-4073-8773-14729cf65c5e",
   "metadata": {},
   "outputs": [],
   "source": []
  },
  {
   "cell_type": "code",
   "execution_count": null,
   "id": "274f42d0-0ff5-41db-b193-96d24b3168bc",
   "metadata": {},
   "outputs": [],
   "source": []
  },
  {
   "cell_type": "code",
   "execution_count": null,
   "id": "e53fa33d-600e-42a4-9939-c1ee27e942d5",
   "metadata": {},
   "outputs": [],
   "source": []
  },
  {
   "cell_type": "code",
   "execution_count": null,
   "id": "d247c105-d777-47ac-b0df-e136386b7bf1",
   "metadata": {},
   "outputs": [],
   "source": []
  },
  {
   "cell_type": "code",
   "execution_count": null,
   "id": "e3d53621-6714-4c65-9503-fc97c47e4bb7",
   "metadata": {},
   "outputs": [],
   "source": []
  }
 ],
 "metadata": {
  "kernelspec": {
   "display_name": "Python 3 (ipykernel)",
   "language": "python",
   "name": "python3"
  },
  "language_info": {
   "codemirror_mode": {
    "name": "ipython",
    "version": 3
   },
   "file_extension": ".py",
   "mimetype": "text/x-python",
   "name": "python",
   "nbconvert_exporter": "python",
   "pygments_lexer": "ipython3",
   "version": "3.10.9"
  }
 },
 "nbformat": 4,
 "nbformat_minor": 5
}
